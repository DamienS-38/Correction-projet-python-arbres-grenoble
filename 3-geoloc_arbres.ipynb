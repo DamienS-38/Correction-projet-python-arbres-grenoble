{
 "cells": [
  {
   "cell_type": "markdown",
   "metadata": {},
   "source": [
    "# Geolocalisation des arbres"
   ]
  },
  {
   "cell_type": "code",
   "execution_count": 1,
   "metadata": {},
   "outputs": [],
   "source": [
    "import pandas as pd \n",
    "import numpy as np\n",
    "import folium"
   ]
  },
  {
   "cell_type": "code",
   "execution_count": 2,
   "metadata": {},
   "outputs": [],
   "source": [
    "df = pd.read_csv('data/trees.csv', converters={'GeoJSON': pd.read_json})"
   ]
  },
  {
   "cell_type": "markdown",
   "metadata": {},
   "source": [
    "## Data Cleaning"
   ]
  },
  {
   "cell_type": "code",
   "execution_count": 56,
   "metadata": {},
   "outputs": [],
   "source": [
    "df_geo = df[['GENRE_BOTA', 'ESPECE', 'VARIETE', \n",
    "             'STADEDEDEVELOPPEMENT', 'ANNEEDEPLANTATION', \n",
    "             'latitude', 'longitude']].copy()\n",
    "\n",
    "gps_series = df.loc[:,'GeoJSON'].map(lambda x: tuple(x.coordinates))\n",
    "df['LATITUDE'] = gps_series.str.get(0)\n",
    "df['LONGITUDE'] = gps_series.str.get(1)\n",
    "\n",
    "df_geo.fillna({'GENRE_BOTA' : '[Genre inconnu]',\n",
    "               'ESPECE' : '[Espèce inconnue]',\n",
    "               'VARIETE' : ' '}, \n",
    "              inplace=True)\n",
    "\n",
    "df_geo.rename(columns={'GENRE_BOTA' : 'genre',\n",
    "                      'STADEDEDEVELOPPEMENT' : 'stade_de_developpement',\n",
    "                      'ANNEEDEPLANTATION' : 'annee_de_plantation'}, inplace=True)\n",
    "\n",
    "df_geo.rename(columns=str.title, inplace=True)"
   ]
  },
  {
   "cell_type": "code",
   "execution_count": 55,
   "metadata": {},
   "outputs": [
    {
     "data": {
      "text/html": [
       "<div>\n",
       "<style scoped>\n",
       "    .dataframe tbody tr th:only-of-type {\n",
       "        vertical-align: middle;\n",
       "    }\n",
       "\n",
       "    .dataframe tbody tr th {\n",
       "        vertical-align: top;\n",
       "    }\n",
       "\n",
       "    .dataframe thead th {\n",
       "        text-align: right;\n",
       "    }\n",
       "</style>\n",
       "<table border=\"1\" class=\"dataframe\">\n",
       "  <thead>\n",
       "    <tr style=\"text-align: right;\">\n",
       "      <th></th>\n",
       "      <th>Genre</th>\n",
       "      <th>Espece</th>\n",
       "      <th>Variete</th>\n",
       "      <th>Stade_De_Developpement</th>\n",
       "      <th>Annee_De_Plantation</th>\n",
       "      <th>Latitude</th>\n",
       "      <th>Longitude</th>\n",
       "    </tr>\n",
       "  </thead>\n",
       "  <tbody>\n",
       "    <tr>\n",
       "      <th>13871</th>\n",
       "      <td>Malus</td>\n",
       "      <td>domestica</td>\n",
       "      <td></td>\n",
       "      <td>Arbre jeune</td>\n",
       "      <td>2014.0</td>\n",
       "      <td>5.710423</td>\n",
       "      <td>45.191575</td>\n",
       "    </tr>\n",
       "    <tr>\n",
       "      <th>2276</th>\n",
       "      <td>Acer</td>\n",
       "      <td>pseudoplatanus</td>\n",
       "      <td></td>\n",
       "      <td>Arbre adulte</td>\n",
       "      <td>1970.0</td>\n",
       "      <td>5.739528</td>\n",
       "      <td>45.189859</td>\n",
       "    </tr>\n",
       "    <tr>\n",
       "      <th>260</th>\n",
       "      <td>Sophora</td>\n",
       "      <td>japonica</td>\n",
       "      <td></td>\n",
       "      <td>Arbre adulte</td>\n",
       "      <td>1970.0</td>\n",
       "      <td>5.705256</td>\n",
       "      <td>45.166213</td>\n",
       "    </tr>\n",
       "    <tr>\n",
       "      <th>14363</th>\n",
       "      <td>Liquidambar</td>\n",
       "      <td>styraciflua</td>\n",
       "      <td></td>\n",
       "      <td>Arbre adulte</td>\n",
       "      <td>1987.0</td>\n",
       "      <td>5.736069</td>\n",
       "      <td>45.169628</td>\n",
       "    </tr>\n",
       "    <tr>\n",
       "      <th>24299</th>\n",
       "      <td>Pinus</td>\n",
       "      <td>nigra</td>\n",
       "      <td>Austriaca</td>\n",
       "      <td>Arbre adulte</td>\n",
       "      <td>1975.0</td>\n",
       "      <td>5.736624</td>\n",
       "      <td>45.164640</td>\n",
       "    </tr>\n",
       "  </tbody>\n",
       "</table>\n",
       "</div>"
      ],
      "text/plain": [
       "             Genre          Espece    Variete Stade_De_Developpement  \\\n",
       "13871        Malus       domestica                       Arbre jeune   \n",
       "2276          Acer  pseudoplatanus                      Arbre adulte   \n",
       "260        Sophora        japonica                      Arbre adulte   \n",
       "14363  Liquidambar     styraciflua                      Arbre adulte   \n",
       "24299        Pinus           nigra  Austriaca           Arbre adulte   \n",
       "\n",
       "       Annee_De_Plantation  Latitude  Longitude  \n",
       "13871               2014.0  5.710423  45.191575  \n",
       "2276                1970.0  5.739528  45.189859  \n",
       "260                 1970.0  5.705256  45.166213  \n",
       "14363               1987.0  5.736069  45.169628  \n",
       "24299               1975.0  5.736624  45.164640  "
      ]
     },
     "execution_count": 55,
     "metadata": {},
     "output_type": "execute_result"
    }
   ],
   "source": [
    "df_geo.sample(n=5)"
   ]
  },
  {
   "cell_type": "markdown",
   "metadata": {},
   "source": [
    "## On dessine des cartes !"
   ]
  },
  {
   "cell_type": "code",
   "execution_count": null,
   "metadata": {},
   "outputs": [],
   "source": [
    "gps_points = data.map(lambda x: (x.coordinates[0], x.coordinates[1]))\n",
    "df_geo['gpsCoord'] = gps_points"
   ]
  },
  {
   "cell_type": "code",
   "execution_count": 48,
   "metadata": {
    "scrolled": false
   },
   "outputs": [
    {
     "data": {
      "text/html": [
       "<div style=\"width:100%;\"><div style=\"position:relative;width:100%;height:0;padding-bottom:60%;\"><iframe src=\"data:text/html;charset=utf-8;base64,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\" style=\"position:absolute;width:100%;height:100%;left:0;top:0;border:none !important;\" allowfullscreen webkitallowfullscreen mozallowfullscreen></iframe></div></div>"
      ],
      "text/plain": [
       "<folium.folium.Map at 0x7ff9c0ac4190>"
      ]
     },
     "execution_count": 48,
     "metadata": {},
     "output_type": "execute_result"
    }
   ],
   "source": [
    "m = folium.Map(\n",
    "    location=[45.17798, 5.74564], \n",
    "    zoom_start=13\n",
    ")\n",
    "\n",
    "def addToMap(x):\n",
    "    folium.Marker(\n",
    "        [x['gpsCoord'][1], x['gpsCoord'][0]], \n",
    "        popup=f'<i>{x[\"GENRE_BOTA\"]}</i>', \n",
    "        tooltip=''.join([x[\"GENRE_BOTA\"], ' ', x[\"ESPECE\"]]),\n",
    "        icon=folium.Icon(color='green', icon='leaf')\n",
    "    ).add_to(m)\n",
    "\n",
    "# df_geo[df_geo['ANNEEDEPLANTATION']==1971].apply(addToMap, axis=1)\n",
    "\n",
    "m"
   ]
  },
  {
   "cell_type": "markdown",
   "metadata": {},
   "source": [
    "## Heatmap de l'ensemble des arbres du dataset"
   ]
  },
  {
   "cell_type": "code",
   "execution_count": null,
   "metadata": {
    "scrolled": false
   },
   "outputs": [],
   "source": [
    "from folium import plugins\n",
    "\n",
    "m = folium.Map(\n",
    "    location=[45.17798, 5.74564], \n",
    "    tiles='stamentoner',\n",
    "    zoom_start=13\n",
    ")\n",
    "\n",
    "latitude = df_geo['gpsCoord'].map(lambda x: x[1]).values\n",
    "longitude = df_geo['gpsCoord'].map(lambda x: x[0]).values\n",
    "trees_coord = np.stack((latitude, longitude), axis=0).T\n",
    "\n",
    "m.add_child(plugins.HeatMap(trees_coord, radius=8))\n",
    "\n",
    "m"
   ]
  },
  {
   "cell_type": "markdown",
   "metadata": {},
   "source": [
    "## Arbres vieillissants à Grenoble"
   ]
  },
  {
   "cell_type": "code",
   "execution_count": null,
   "metadata": {},
   "outputs": [],
   "source": [
    "m = folium.Map(\n",
    "    location=[45.17798, 5.74564], \n",
    "    tiles='stamentoner',\n",
    "    zoom_start=13\n",
    ")\n",
    "\n",
    "latitude = df_geo[df_geo[\"STADEDEDEVELOPPEMENT\"] == 'Arbre vieillissant']['gpsCoord'].map(lambda x: x[1]).values\n",
    "longitude = df_geo[df_geo[\"STADEDEDEVELOPPEMENT\"] == 'Arbre vieillissant']['gpsCoord'].map(lambda x: x[0]).values\n",
    "trees_coord = np.stack((latitude, longitude), axis=0).T\n",
    "\n",
    "m.add_child(plugins.HeatMap(trees_coord, radius=15))\n",
    "\n",
    "m"
   ]
  },
  {
   "cell_type": "markdown",
   "metadata": {},
   "source": [
    "## Distribution des platanes \n",
    "### Conclusion => le bitume fait pousser des platanes"
   ]
  },
  {
   "cell_type": "code",
   "execution_count": null,
   "metadata": {},
   "outputs": [],
   "source": [
    "m = folium.Map(\n",
    "    location=[45.17798, 5.74564], \n",
    "    tiles='stamentoner',\n",
    "    zoom_start=13\n",
    ")\n",
    "\n",
    "latitude = df_geo[df_geo[\"GENRE_BOTA\"] == 'Platanus']['gpsCoord'].map(lambda x: x[1]).values\n",
    "longitude = df_geo[df_geo[\"GENRE_BOTA\"] == 'Platanus']['gpsCoord'].map(lambda x: x[0]).values\n",
    "trees_coord = np.stack((latitude, longitude), axis=0).T\n",
    "\n",
    "m.add_child(plugins.HeatMap(trees_coord, radius=12))\n",
    "\n",
    "m"
   ]
  },
  {
   "cell_type": "code",
   "execution_count": null,
   "metadata": {},
   "outputs": [],
   "source": [
    "import folium\n",
    "m = folium.Map(location=[48.8274, 2.31144], tiles='stamentoner')\n",
    "\n",
    "m"
   ]
  },
  {
   "cell_type": "markdown",
   "metadata": {},
   "source": [
    "## Test appel API ArcGIS -> Ne pas faire trop souvent "
   ]
  },
  {
   "cell_type": "code",
   "execution_count": null,
   "metadata": {
    "scrolled": true
   },
   "outputs": [],
   "source": [
    "from geopy.geocoders import ArcGIS, Nominatim\n",
    "from geopy.extra.rate_limiter import RateLimiter\n",
    "\n",
    "geolocator = ArcGIS(user_agent=\"plouf\")\n",
    "data = df_geo['GeoJSON'][0:10].map(pd.read_json)\n",
    "gps_coord = data.map(lambda x: ''.join([str(x.coordinates[1]), ', ', str(x.coordinates[0])])) \n",
    "# 1 -delay geocoding calls pour pas se faire engueuler\n",
    "geocode = RateLimiter(geolocator.geocode, min_delay_seconds=0.2)\n",
    "gps_coord.map(geolocator.reverse)"
   ]
  }
 ],
 "metadata": {
  "kernelspec": {
   "display_name": "arbres",
   "language": "python",
   "name": "arbres"
  },
  "language_info": {
   "codemirror_mode": {
    "name": "ipython",
    "version": 3
   },
   "file_extension": ".py",
   "mimetype": "text/x-python",
   "name": "python",
   "nbconvert_exporter": "python",
   "pygments_lexer": "ipython3",
   "version": "3.7.5"
  },
  "toc": {
   "base_numbering": 1,
   "nav_menu": {},
   "number_sections": true,
   "sideBar": true,
   "skip_h1_title": false,
   "title_cell": "Table of Contents",
   "title_sidebar": "Contents",
   "toc_cell": false,
   "toc_position": {
    "height": "calc(100% - 180px)",
    "left": "10px",
    "top": "150px",
    "width": "250.433px"
   },
   "toc_section_display": true,
   "toc_window_display": true
  },
  "varInspector": {
   "cols": {
    "lenName": 16,
    "lenType": 16,
    "lenVar": 40
   },
   "kernels_config": {
    "python": {
     "delete_cmd_postfix": "",
     "delete_cmd_prefix": "del ",
     "library": "var_list.py",
     "varRefreshCmd": "print(var_dic_list())"
    },
    "r": {
     "delete_cmd_postfix": ") ",
     "delete_cmd_prefix": "rm(",
     "library": "var_list.r",
     "varRefreshCmd": "cat(var_dic_list()) "
    }
   },
   "types_to_exclude": [
    "module",
    "function",
    "builtin_function_or_method",
    "instance",
    "_Feature"
   ],
   "window_display": false
  }
 },
 "nbformat": 4,
 "nbformat_minor": 2
}
