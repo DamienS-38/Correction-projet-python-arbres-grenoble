{
 "cells": [
  {
   "cell_type": "markdown",
   "metadata": {},
   "source": [
    "<style> .test { margin-left: 30px;}</style>\n",
    "<img src=\"assets/seems_legit.jpg\" alt=\"Smiley face\" width=\"40%\" align=\"left\" />\n"
   ]
  },
  {
   "cell_type": "markdown",
   "metadata": {
    "ExecuteTime": {
     "end_time": "2019-12-03T19:43:47.447035Z",
     "start_time": "2019-12-03T19:43:47.443833Z"
    },
    "code_folding": []
   },
   "source": [
    "# Guide pour se planter à tous les coups en sélectionnant des données \n",
    "\n",
    "\n",
    "Ressources : \n",
    "\n",
    "https://pandas.pydata.org/pandas-docs/stable/user_guide/indexing.html \n",
    "\n",
    "https://medium.com/dunder-data/selecting-subsets-of-data-in-pandas-part-4-c4216f84d388\n",
    "\n",
    "https://www.youtube.com/watch?v=4R4WsDJ-KVc\n",
    "\n",
    "https://nedbatchelder.com/text/names1.html \n",
    "\n",
    "https://tomaugspurger.github.io/modern-7-timeseries"
   ]
  },
  {
   "cell_type": "code",
   "execution_count": 36,
   "metadata": {
    "ExecuteTime": {
     "end_time": "2019-12-04T14:17:29.744891Z",
     "start_time": "2019-12-04T14:17:29.741269Z"
    }
   },
   "outputs": [],
   "source": [
    "from IPython.core.interactiveshell import InteractiveShell\n",
    "InteractiveShell.ast_node_interactivity = \"all\""
   ]
  },
  {
   "cell_type": "markdown",
   "metadata": {},
   "source": [
    "## Reference au même objet en mémoire\n",
    "\n",
    "### Cas mutable"
   ]
  },
  {
   "cell_type": "code",
   "execution_count": 37,
   "metadata": {
    "ExecuteTime": {
     "end_time": "2019-12-04T14:17:29.891882Z",
     "start_time": "2019-12-04T14:17:29.756174Z"
    }
   },
   "outputs": [
    {
     "name": "stdout",
     "output_type": "stream",
     "text": [
      "b1 :  [99, 1, 2, 3]\n",
      "a1 :  [99, 1, 2, 3]\n"
     ]
    }
   ],
   "source": [
    "a1 = [0, 1, 2, 3]\n",
    "b1 = a1\n",
    "b1[0] = 99\n",
    "\n",
    "print('b1 : ', b1)\n",
    "print('a1 : ', a1)"
   ]
  },
  {
   "cell_type": "code",
   "execution_count": 38,
   "metadata": {
    "ExecuteTime": {
     "end_time": "2019-12-04T14:17:30.008104Z",
     "start_time": "2019-12-04T14:17:29.894154Z"
    }
   },
   "outputs": [
    {
     "data": {
      "text/plain": [
       "True"
      ]
     },
     "execution_count": 38,
     "metadata": {},
     "output_type": "execute_result"
    }
   ],
   "source": [
    "# On parle à la même personne\n",
    "a1 is b1"
   ]
  },
  {
   "cell_type": "code",
   "execution_count": 39,
   "metadata": {
    "ExecuteTime": {
     "end_time": "2019-12-04T14:17:30.105358Z",
     "start_time": "2019-12-04T14:17:30.010880Z"
    }
   },
   "outputs": [
    {
     "data": {
      "text/plain": [
       "False"
      ]
     },
     "execution_count": 39,
     "metadata": {},
     "output_type": "execute_result"
    }
   ],
   "source": [
    "a1 = [0, 1, 2, 3]\n",
    "b1 = a1\n",
    "b1 = [0, 1, 2, 3]\n",
    "\n",
    "a1 is b1"
   ]
  },
  {
   "cell_type": "code",
   "execution_count": 40,
   "metadata": {
    "ExecuteTime": {
     "end_time": "2019-12-04T14:17:30.218019Z",
     "start_time": "2019-12-04T14:17:30.111692Z"
    }
   },
   "outputs": [
    {
     "data": {
      "text/plain": [
       "False"
      ]
     },
     "execution_count": 40,
     "metadata": {},
     "output_type": "execute_result"
    }
   ],
   "source": [
    "a1 = [0, 1, 2, 3]\n",
    "b1 = a1[:]\n",
    "\n",
    "a1 is b1"
   ]
  },
  {
   "cell_type": "markdown",
   "metadata": {},
   "source": [
    "## Cas immutable\n",
    "\n",
    "integer type is immutable\n",
    "Si on change la valeur : on change d'espace mémoire ! "
   ]
  },
  {
   "cell_type": "code",
   "execution_count": 41,
   "metadata": {
    "ExecuteTime": {
     "end_time": "2019-12-04T14:17:30.360151Z",
     "start_time": "2019-12-04T14:17:30.222358Z"
    }
   },
   "outputs": [
    {
     "data": {
      "text/plain": [
       "True"
      ]
     },
     "execution_count": 41,
     "metadata": {},
     "output_type": "execute_result"
    }
   ],
   "source": [
    "a = 0\n",
    "b = a\n",
    "a is b"
   ]
  },
  {
   "cell_type": "code",
   "execution_count": 42,
   "metadata": {
    "ExecuteTime": {
     "end_time": "2019-12-04T14:17:30.473940Z",
     "start_time": "2019-12-04T14:17:30.363499Z"
    }
   },
   "outputs": [
    {
     "data": {
      "text/plain": [
       "False"
      ]
     },
     "execution_count": 42,
     "metadata": {},
     "output_type": "execute_result"
    }
   ],
   "source": [
    "a = 0\n",
    "b = a\n",
    "a = 2 \n",
    "\n",
    "a is b"
   ]
  },
  {
   "cell_type": "markdown",
   "metadata": {},
   "source": [
    "## Chained indexing with lists\n",
    "\n",
    "### Problème "
   ]
  },
  {
   "cell_type": "code",
   "execution_count": 43,
   "metadata": {
    "ExecuteTime": {
     "end_time": "2019-12-04T14:17:30.583406Z",
     "start_time": "2019-12-04T14:17:30.478278Z"
    }
   },
   "outputs": [
    {
     "data": {
      "text/plain": [
       "10"
      ]
     },
     "execution_count": 43,
     "metadata": {},
     "output_type": "execute_result"
    }
   ],
   "source": [
    "a = [1, 5, 10, 3, 99, 5, 8]\n",
    "\n",
    "a[2:5][0]"
   ]
  },
  {
   "cell_type": "code",
   "execution_count": 44,
   "metadata": {
    "ExecuteTime": {
     "end_time": "2019-12-04T14:17:30.725911Z",
     "start_time": "2019-12-04T14:17:30.590188Z"
    }
   },
   "outputs": [
    {
     "data": {
      "text/plain": [
       "[1, 5, 10, 3, 99, 5, 8]"
      ]
     },
     "execution_count": 44,
     "metadata": {},
     "output_type": "execute_result"
    }
   ],
   "source": [
    "a[2:5][0] = 50\n",
    "\n",
    "a"
   ]
  },
  {
   "cell_type": "code",
   "execution_count": 45,
   "metadata": {
    "ExecuteTime": {
     "end_time": "2019-12-04T14:17:30.870495Z",
     "start_time": "2019-12-04T14:17:30.730290Z"
    }
   },
   "outputs": [
    {
     "name": "stdout",
     "output_type": "stream",
     "text": [
      "a_copie :  [0, 3, 99]\n",
      "a :  [1, 5, 10, 3, 99, 5, 8]\n"
     ]
    }
   ],
   "source": [
    "a_copie = a[2:5]\n",
    "a_copie[0] = 0\n",
    "\n",
    "print('a_copie : ', a_copie)\n",
    "print('a : ', a)"
   ]
  },
  {
   "cell_type": "markdown",
   "metadata": {},
   "source": [
    "### Explication \n",
    "\n",
    "On aurait dû le savoir, car si on va voir la doc officielle, voici ce que l'on trouve : \n",
    "\n",
    "<img src=\"assets/slice_list_doc.png\" alt=\"Smiley face\" width=\"80%\">\n",
    "\n",
    "Capture d'écran issue de : https://docs.python.org/3/tutorial/introduction.html#lists "
   ]
  },
  {
   "cell_type": "markdown",
   "metadata": {},
   "source": []
  },
  {
   "cell_type": "markdown",
   "metadata": {},
   "source": [
    "##  Quelques trucs bizarres avec Pandas : SettingWithCopyWarning"
   ]
  },
  {
   "cell_type": "code",
   "execution_count": 2,
   "metadata": {
    "ExecuteTime": {
     "end_time": "2019-12-04T14:17:31.501150Z",
     "start_time": "2019-12-04T14:17:30.872569Z"
    }
   },
   "outputs": [],
   "source": [
    "import pandas as pd\n",
    "df = pd.read_csv('data/trees.csv')"
   ]
  },
  {
   "cell_type": "markdown",
   "metadata": {},
   "source": [
    "### Le cas OK"
   ]
  },
  {
   "cell_type": "code",
   "execution_count": 47,
   "metadata": {
    "ExecuteTime": {
     "end_time": "2019-12-04T14:17:31.512212Z",
     "start_time": "2019-12-04T14:17:31.504711Z"
    }
   },
   "outputs": [
    {
     "data": {
      "text/plain": [
       "442"
      ]
     },
     "execution_count": 47,
     "metadata": {},
     "output_type": "execute_result"
    }
   ],
   "source": [
    "df.ANNEEDEPLANTATION.isnull().sum()"
   ]
  },
  {
   "cell_type": "code",
   "execution_count": 5,
   "metadata": {},
   "outputs": [
    {
     "name": "stdout",
     "output_type": "stream",
     "text": [
      "None\n"
     ]
    }
   ],
   "source": [
    "print(df."
   ]
  },
  {
   "cell_type": "code",
   "execution_count": 48,
   "metadata": {
    "ExecuteTime": {
     "end_time": "2019-12-04T14:23:11.987906Z",
     "start_time": "2019-12-04T14:23:11.978840Z"
    }
   },
   "outputs": [
    {
     "name": "stderr",
     "output_type": "stream",
     "text": [
      "/home/florian/anaconda3/lib/python3.7/site-packages/pandas/core/generic.py:5208: SettingWithCopyWarning: \n",
      "A value is trying to be set on a copy of a slice from a DataFrame.\n",
      "Try using .loc[row_indexer,col_indexer] = value instead\n",
      "\n",
      "See the caveats in the documentation: http://pandas.pydata.org/pandas-docs/stable/user_guide/indexing.html#returning-a-view-versus-a-copy\n",
      "  self[name] = value\n"
     ]
    }
   ],
   "source": [
    "df[df['ANNEEDEPLANTATION'].isnull()].ANNEEDEPLANTATION = 0"
   ]
  },
  {
   "cell_type": "code",
   "execution_count": 49,
   "metadata": {
    "ExecuteTime": {
     "end_time": "2019-12-04T14:23:31.173593Z",
     "start_time": "2019-12-04T14:23:31.165996Z"
    }
   },
   "outputs": [
    {
     "data": {
      "text/plain": [
       "442"
      ]
     },
     "execution_count": 49,
     "metadata": {},
     "output_type": "execute_result"
    }
   ],
   "source": [
    "df.ANNEEDEPLANTATION.isnull().sum()"
   ]
  },
  {
   "cell_type": "markdown",
   "metadata": {},
   "source": [
    "La solution proposée"
   ]
  },
  {
   "cell_type": "code",
   "execution_count": 50,
   "metadata": {
    "ExecuteTime": {
     "end_time": "2019-12-04T14:25:04.382473Z",
     "start_time": "2019-12-04T14:25:04.372035Z"
    }
   },
   "outputs": [
    {
     "data": {
      "text/plain": [
       "0"
      ]
     },
     "execution_count": 50,
     "metadata": {},
     "output_type": "execute_result"
    }
   ],
   "source": [
    "df.loc[ df['ANNEEDEPLANTATION'].isnull(), 'ANNEEDEPLANTATION'] = 0\n",
    "\n",
    "df.ANNEEDEPLANTATION.isnull().sum()"
   ]
  },
  {
   "cell_type": "markdown",
   "metadata": {},
   "source": [
    "### Le cas sioux "
   ]
  },
  {
   "cell_type": "code",
   "execution_count": 51,
   "metadata": {
    "ExecuteTime": {
     "end_time": "2019-12-04T14:32:35.126772Z",
     "start_time": "2019-12-04T14:32:34.916534Z"
    }
   },
   "outputs": [],
   "source": [
    "raw_data = pd.read_csv('../data/trees.csv')\n",
    "\n",
    "# Les données qui m'intéressent moi \n",
    "data_of_interest = raw_data[['GENRE_BOTA', 'ANNEEDEPLANTATION']]"
   ]
  },
  {
   "cell_type": "code",
   "execution_count": 52,
   "metadata": {
    "ExecuteTime": {
     "end_time": "2019-12-04T14:34:12.940391Z",
     "start_time": "2019-12-04T14:34:12.924052Z"
    }
   },
   "outputs": [
    {
     "name": "stderr",
     "output_type": "stream",
     "text": [
      "/home/florian/anaconda3/lib/python3.7/site-packages/pandas/core/indexing.py:494: SettingWithCopyWarning: \n",
      "A value is trying to be set on a copy of a slice from a DataFrame.\n",
      "Try using .loc[row_indexer,col_indexer] = value instead\n",
      "\n",
      "See the caveats in the documentation: http://pandas.pydata.org/pandas-docs/stable/user_guide/indexing.html#returning-a-view-versus-a-copy\n",
      "  self.obj[item] = s\n"
     ]
    }
   ],
   "source": [
    "data_of_interest.loc[ data_of_interest['GENRE_BOTA'].isnull(), 'GENRE_BOTA'] = 'indefini'"
   ]
  },
  {
   "cell_type": "code",
   "execution_count": 53,
   "metadata": {
    "ExecuteTime": {
     "end_time": "2019-12-04T14:34:26.103507Z",
     "start_time": "2019-12-04T14:34:26.090419Z"
    },
    "scrolled": true
   },
   "outputs": [
    {
     "data": {
      "text/html": [
       "<div>\n",
       "<style scoped>\n",
       "    .dataframe tbody tr th:only-of-type {\n",
       "        vertical-align: middle;\n",
       "    }\n",
       "\n",
       "    .dataframe tbody tr th {\n",
       "        vertical-align: top;\n",
       "    }\n",
       "\n",
       "    .dataframe thead th {\n",
       "        text-align: right;\n",
       "    }\n",
       "</style>\n",
       "<table border=\"1\" class=\"dataframe\">\n",
       "  <thead>\n",
       "    <tr style=\"text-align: right;\">\n",
       "      <th></th>\n",
       "      <th>GENRE_BOTA</th>\n",
       "      <th>ANNEEDEPLANTATION</th>\n",
       "    </tr>\n",
       "  </thead>\n",
       "  <tbody>\n",
       "    <tr>\n",
       "      <td>0</td>\n",
       "      <td>indefini</td>\n",
       "      <td>NaN</td>\n",
       "    </tr>\n",
       "    <tr>\n",
       "      <td>1</td>\n",
       "      <td>indefini</td>\n",
       "      <td>NaN</td>\n",
       "    </tr>\n",
       "    <tr>\n",
       "      <td>2</td>\n",
       "      <td>indefini</td>\n",
       "      <td>NaN</td>\n",
       "    </tr>\n",
       "    <tr>\n",
       "      <td>3</td>\n",
       "      <td>indefini</td>\n",
       "      <td>NaN</td>\n",
       "    </tr>\n",
       "    <tr>\n",
       "      <td>4</td>\n",
       "      <td>indefini</td>\n",
       "      <td>NaN</td>\n",
       "    </tr>\n",
       "    <tr>\n",
       "      <td>...</td>\n",
       "      <td>...</td>\n",
       "      <td>...</td>\n",
       "    </tr>\n",
       "    <tr>\n",
       "      <td>31238</td>\n",
       "      <td>Fraxinus</td>\n",
       "      <td>2001.0</td>\n",
       "    </tr>\n",
       "    <tr>\n",
       "      <td>31239</td>\n",
       "      <td>Fraxinus</td>\n",
       "      <td>2001.0</td>\n",
       "    </tr>\n",
       "    <tr>\n",
       "      <td>31240</td>\n",
       "      <td>Fraxinus</td>\n",
       "      <td>2001.0</td>\n",
       "    </tr>\n",
       "    <tr>\n",
       "      <td>31241</td>\n",
       "      <td>Fraxinus</td>\n",
       "      <td>2001.0</td>\n",
       "    </tr>\n",
       "    <tr>\n",
       "      <td>31242</td>\n",
       "      <td>Fraxinus</td>\n",
       "      <td>2001.0</td>\n",
       "    </tr>\n",
       "  </tbody>\n",
       "</table>\n",
       "<p>31243 rows × 2 columns</p>\n",
       "</div>"
      ],
      "text/plain": [
       "      GENRE_BOTA  ANNEEDEPLANTATION\n",
       "0       indefini                NaN\n",
       "1       indefini                NaN\n",
       "2       indefini                NaN\n",
       "3       indefini                NaN\n",
       "4       indefini                NaN\n",
       "...          ...                ...\n",
       "31238   Fraxinus             2001.0\n",
       "31239   Fraxinus             2001.0\n",
       "31240   Fraxinus             2001.0\n",
       "31241   Fraxinus             2001.0\n",
       "31242   Fraxinus             2001.0\n",
       "\n",
       "[31243 rows x 2 columns]"
      ]
     },
     "execution_count": 53,
     "metadata": {},
     "output_type": "execute_result"
    }
   ],
   "source": [
    "data_of_interest"
   ]
  },
  {
   "cell_type": "markdown",
   "metadata": {},
   "source": [
    "# Test"
   ]
  },
  {
   "cell_type": "code",
   "execution_count": 76,
   "metadata": {},
   "outputs": [],
   "source": [
    "raw_data = pd.read_csv('../data/trees.csv')\n",
    "\n",
    "test = raw_data.loc[:, ['DIAMETREARBRE', 'ANNEEABATTAGE']]"
   ]
  },
  {
   "cell_type": "code",
   "execution_count": 78,
   "metadata": {},
   "outputs": [],
   "source": [
    "test['ANNEEABATTAGE'] = 0\n",
    "raw_data.update(test)"
   ]
  },
  {
   "cell_type": "code",
   "execution_count": 79,
   "metadata": {},
   "outputs": [
    {
     "data": {
      "text/html": [
       "<div>\n",
       "<style scoped>\n",
       "    .dataframe tbody tr th:only-of-type {\n",
       "        vertical-align: middle;\n",
       "    }\n",
       "\n",
       "    .dataframe tbody tr th {\n",
       "        vertical-align: top;\n",
       "    }\n",
       "\n",
       "    .dataframe thead th {\n",
       "        text-align: right;\n",
       "    }\n",
       "</style>\n",
       "<table border=\"1\" class=\"dataframe\">\n",
       "  <thead>\n",
       "    <tr style=\"text-align: right;\">\n",
       "      <th></th>\n",
       "      <th>ELEM_POINT_ID</th>\n",
       "      <th>CODE</th>\n",
       "      <th>NOM</th>\n",
       "      <th>GENRE</th>\n",
       "      <th>GENRE_DESC</th>\n",
       "      <th>CATEGORIE</th>\n",
       "      <th>CATEGORIE_DESC</th>\n",
       "      <th>SOUS_CATEGORIE</th>\n",
       "      <th>SOUS_CATEGORIE_DESC</th>\n",
       "      <th>CODE_PARENT</th>\n",
       "      <th>...</th>\n",
       "      <th>COURRIER</th>\n",
       "      <th>IDENTIFIANTPLU</th>\n",
       "      <th>TYPEIMPLANTATIONPLU</th>\n",
       "      <th>INTITULEPROTECTIONPLU</th>\n",
       "      <th>ANNEEABATTAGE</th>\n",
       "      <th>ESSOUCHEMENT</th>\n",
       "      <th>DIAMETREARBRE</th>\n",
       "      <th>CAUSEABATTAGE</th>\n",
       "      <th>COLLECTIVITE</th>\n",
       "      <th>GeoJSON</th>\n",
       "    </tr>\n",
       "  </thead>\n",
       "  <tbody>\n",
       "    <tr>\n",
       "      <td>0</td>\n",
       "      <td>37993</td>\n",
       "      <td>ESP37969</td>\n",
       "      <td>ESP37969</td>\n",
       "      <td>VEG</td>\n",
       "      <td>VEGETATION</td>\n",
       "      <td>ESP01</td>\n",
       "      <td>Arbre</td>\n",
       "      <td>ESP065</td>\n",
       "      <td>Arbre d'enceintes fermées</td>\n",
       "      <td>ESP37898</td>\n",
       "      <td>...</td>\n",
       "      <td>NaN</td>\n",
       "      <td>NaN</td>\n",
       "      <td>NaN</td>\n",
       "      <td>NaN</td>\n",
       "      <td>0.0</td>\n",
       "      <td>NaN</td>\n",
       "      <td>NaN</td>\n",
       "      <td>NaN</td>\n",
       "      <td>NaN</td>\n",
       "      <td>{\"type\":\"Point\",\"coordinates\":[5.7603469008942...</td>\n",
       "    </tr>\n",
       "    <tr>\n",
       "      <td>1</td>\n",
       "      <td>37992</td>\n",
       "      <td>ESP37968</td>\n",
       "      <td>ESP37968</td>\n",
       "      <td>VEG</td>\n",
       "      <td>VEGETATION</td>\n",
       "      <td>ESP01</td>\n",
       "      <td>Arbre</td>\n",
       "      <td>ESP065</td>\n",
       "      <td>Arbre d'enceintes fermées</td>\n",
       "      <td>ESP37898</td>\n",
       "      <td>...</td>\n",
       "      <td>NaN</td>\n",
       "      <td>NaN</td>\n",
       "      <td>NaN</td>\n",
       "      <td>NaN</td>\n",
       "      <td>0.0</td>\n",
       "      <td>NaN</td>\n",
       "      <td>NaN</td>\n",
       "      <td>NaN</td>\n",
       "      <td>NaN</td>\n",
       "      <td>{\"type\":\"Point\",\"coordinates\":[5.7598264646441...</td>\n",
       "    </tr>\n",
       "    <tr>\n",
       "      <td>2</td>\n",
       "      <td>37991</td>\n",
       "      <td>ESP37967</td>\n",
       "      <td>ESP37967</td>\n",
       "      <td>VEG</td>\n",
       "      <td>VEGETATION</td>\n",
       "      <td>ESP01</td>\n",
       "      <td>Arbre</td>\n",
       "      <td>ESP065</td>\n",
       "      <td>Arbre d'enceintes fermées</td>\n",
       "      <td>ESP37898</td>\n",
       "      <td>...</td>\n",
       "      <td>NaN</td>\n",
       "      <td>NaN</td>\n",
       "      <td>NaN</td>\n",
       "      <td>NaN</td>\n",
       "      <td>0.0</td>\n",
       "      <td>NaN</td>\n",
       "      <td>NaN</td>\n",
       "      <td>NaN</td>\n",
       "      <td>NaN</td>\n",
       "      <td>{\"type\":\"Point\",\"coordinates\":[5.7599807314486...</td>\n",
       "    </tr>\n",
       "    <tr>\n",
       "      <td>3</td>\n",
       "      <td>37990</td>\n",
       "      <td>ESP37966</td>\n",
       "      <td>ESP37966</td>\n",
       "      <td>VEG</td>\n",
       "      <td>VEGETATION</td>\n",
       "      <td>ESP01</td>\n",
       "      <td>Arbre</td>\n",
       "      <td>ESP065</td>\n",
       "      <td>Arbre d'enceintes fermées</td>\n",
       "      <td>ESP37898</td>\n",
       "      <td>...</td>\n",
       "      <td>NaN</td>\n",
       "      <td>NaN</td>\n",
       "      <td>NaN</td>\n",
       "      <td>NaN</td>\n",
       "      <td>0.0</td>\n",
       "      <td>NaN</td>\n",
       "      <td>NaN</td>\n",
       "      <td>NaN</td>\n",
       "      <td>NaN</td>\n",
       "      <td>{\"type\":\"Point\",\"coordinates\":[5.7600570301267...</td>\n",
       "    </tr>\n",
       "    <tr>\n",
       "      <td>4</td>\n",
       "      <td>37989</td>\n",
       "      <td>ESP37965</td>\n",
       "      <td>ESP37965</td>\n",
       "      <td>VEG</td>\n",
       "      <td>VEGETATION</td>\n",
       "      <td>ESP01</td>\n",
       "      <td>Arbre</td>\n",
       "      <td>ESP065</td>\n",
       "      <td>Arbre d'enceintes fermées</td>\n",
       "      <td>ESP37898</td>\n",
       "      <td>...</td>\n",
       "      <td>NaN</td>\n",
       "      <td>NaN</td>\n",
       "      <td>NaN</td>\n",
       "      <td>NaN</td>\n",
       "      <td>0.0</td>\n",
       "      <td>NaN</td>\n",
       "      <td>NaN</td>\n",
       "      <td>NaN</td>\n",
       "      <td>NaN</td>\n",
       "      <td>{\"type\":\"Point\",\"coordinates\":[5.7600202792924...</td>\n",
       "    </tr>\n",
       "    <tr>\n",
       "      <td>...</td>\n",
       "      <td>...</td>\n",
       "      <td>...</td>\n",
       "      <td>...</td>\n",
       "      <td>...</td>\n",
       "      <td>...</td>\n",
       "      <td>...</td>\n",
       "      <td>...</td>\n",
       "      <td>...</td>\n",
       "      <td>...</td>\n",
       "      <td>...</td>\n",
       "      <td>...</td>\n",
       "      <td>...</td>\n",
       "      <td>...</td>\n",
       "      <td>...</td>\n",
       "      <td>...</td>\n",
       "      <td>...</td>\n",
       "      <td>...</td>\n",
       "      <td>...</td>\n",
       "      <td>...</td>\n",
       "      <td>...</td>\n",
       "      <td>...</td>\n",
       "    </tr>\n",
       "    <tr>\n",
       "      <td>31238</td>\n",
       "      <td>7598</td>\n",
       "      <td>ESP2513</td>\n",
       "      <td>ESP2513</td>\n",
       "      <td>VEG</td>\n",
       "      <td>VEGETATION</td>\n",
       "      <td>ESP01</td>\n",
       "      <td>Arbre</td>\n",
       "      <td>ESP151</td>\n",
       "      <td>Arbre de voirie</td>\n",
       "      <td>ESP1277</td>\n",
       "      <td>...</td>\n",
       "      <td>NaN</td>\n",
       "      <td>NaN</td>\n",
       "      <td>NaN</td>\n",
       "      <td>NaN</td>\n",
       "      <td>0.0</td>\n",
       "      <td>NaN</td>\n",
       "      <td>NaN</td>\n",
       "      <td>NaN</td>\n",
       "      <td>Grenoble Alpes Métropole</td>\n",
       "      <td>{\"type\":\"Point\",\"coordinates\":[5.7117169490564...</td>\n",
       "    </tr>\n",
       "    <tr>\n",
       "      <td>31239</td>\n",
       "      <td>7596</td>\n",
       "      <td>ESP2512</td>\n",
       "      <td>ESP2512</td>\n",
       "      <td>VEG</td>\n",
       "      <td>VEGETATION</td>\n",
       "      <td>ESP01</td>\n",
       "      <td>Arbre</td>\n",
       "      <td>ESP151</td>\n",
       "      <td>Arbre de voirie</td>\n",
       "      <td>ESP1277</td>\n",
       "      <td>...</td>\n",
       "      <td>NaN</td>\n",
       "      <td>NaN</td>\n",
       "      <td>NaN</td>\n",
       "      <td>NaN</td>\n",
       "      <td>0.0</td>\n",
       "      <td>NaN</td>\n",
       "      <td>NaN</td>\n",
       "      <td>NaN</td>\n",
       "      <td>Grenoble Alpes Métropole</td>\n",
       "      <td>{\"type\":\"Point\",\"coordinates\":[5.7115904446110...</td>\n",
       "    </tr>\n",
       "    <tr>\n",
       "      <td>31240</td>\n",
       "      <td>7594</td>\n",
       "      <td>ESP2511</td>\n",
       "      <td>ESP2511</td>\n",
       "      <td>VEG</td>\n",
       "      <td>VEGETATION</td>\n",
       "      <td>ESP01</td>\n",
       "      <td>Arbre</td>\n",
       "      <td>ESP151</td>\n",
       "      <td>Arbre de voirie</td>\n",
       "      <td>ESP1277</td>\n",
       "      <td>...</td>\n",
       "      <td>NaN</td>\n",
       "      <td>NaN</td>\n",
       "      <td>NaN</td>\n",
       "      <td>NaN</td>\n",
       "      <td>0.0</td>\n",
       "      <td>NaN</td>\n",
       "      <td>NaN</td>\n",
       "      <td>NaN</td>\n",
       "      <td>Grenoble Alpes Métropole</td>\n",
       "      <td>{\"type\":\"Point\",\"coordinates\":[5.7114873970721...</td>\n",
       "    </tr>\n",
       "    <tr>\n",
       "      <td>31241</td>\n",
       "      <td>19</td>\n",
       "      <td>ESP1798</td>\n",
       "      <td>ESP1798</td>\n",
       "      <td>VEG</td>\n",
       "      <td>VEGETATION</td>\n",
       "      <td>ESP01</td>\n",
       "      <td>Arbre</td>\n",
       "      <td>ESP151</td>\n",
       "      <td>Arbre de voirie</td>\n",
       "      <td>ESP1277</td>\n",
       "      <td>...</td>\n",
       "      <td>NaN</td>\n",
       "      <td>NaN</td>\n",
       "      <td>NaN</td>\n",
       "      <td>NaN</td>\n",
       "      <td>0.0</td>\n",
       "      <td>NaN</td>\n",
       "      <td>NaN</td>\n",
       "      <td>NaN</td>\n",
       "      <td>Grenoble Alpes Métropole</td>\n",
       "      <td>{\"type\":\"Point\",\"coordinates\":[5.7117859768817...</td>\n",
       "    </tr>\n",
       "    <tr>\n",
       "      <td>31242</td>\n",
       "      <td>17</td>\n",
       "      <td>ESP1797</td>\n",
       "      <td>ESP1797</td>\n",
       "      <td>VEG</td>\n",
       "      <td>VEGETATION</td>\n",
       "      <td>ESP01</td>\n",
       "      <td>Arbre</td>\n",
       "      <td>ESP151</td>\n",
       "      <td>Arbre de voirie</td>\n",
       "      <td>ESP1277</td>\n",
       "      <td>...</td>\n",
       "      <td>NaN</td>\n",
       "      <td>NaN</td>\n",
       "      <td>NaN</td>\n",
       "      <td>NaN</td>\n",
       "      <td>0.0</td>\n",
       "      <td>NaN</td>\n",
       "      <td>NaN</td>\n",
       "      <td>NaN</td>\n",
       "      <td>Grenoble Alpes Métropole</td>\n",
       "      <td>{\"type\":\"Point\",\"coordinates\":[5.7113357012675...</td>\n",
       "    </tr>\n",
       "  </tbody>\n",
       "</table>\n",
       "<p>31243 rows × 32 columns</p>\n",
       "</div>"
      ],
      "text/plain": [
       "       ELEM_POINT_ID      CODE       NOM GENRE  GENRE_DESC CATEGORIE  \\\n",
       "0              37993  ESP37969  ESP37969   VEG  VEGETATION     ESP01   \n",
       "1              37992  ESP37968  ESP37968   VEG  VEGETATION     ESP01   \n",
       "2              37991  ESP37967  ESP37967   VEG  VEGETATION     ESP01   \n",
       "3              37990  ESP37966  ESP37966   VEG  VEGETATION     ESP01   \n",
       "4              37989  ESP37965  ESP37965   VEG  VEGETATION     ESP01   \n",
       "...              ...       ...       ...   ...         ...       ...   \n",
       "31238           7598   ESP2513   ESP2513   VEG  VEGETATION     ESP01   \n",
       "31239           7596   ESP2512   ESP2512   VEG  VEGETATION     ESP01   \n",
       "31240           7594   ESP2511   ESP2511   VEG  VEGETATION     ESP01   \n",
       "31241             19   ESP1798   ESP1798   VEG  VEGETATION     ESP01   \n",
       "31242             17   ESP1797   ESP1797   VEG  VEGETATION     ESP01   \n",
       "\n",
       "      CATEGORIE_DESC SOUS_CATEGORIE        SOUS_CATEGORIE_DESC CODE_PARENT  \\\n",
       "0              Arbre         ESP065  Arbre d'enceintes fermées    ESP37898   \n",
       "1              Arbre         ESP065  Arbre d'enceintes fermées    ESP37898   \n",
       "2              Arbre         ESP065  Arbre d'enceintes fermées    ESP37898   \n",
       "3              Arbre         ESP065  Arbre d'enceintes fermées    ESP37898   \n",
       "4              Arbre         ESP065  Arbre d'enceintes fermées    ESP37898   \n",
       "...              ...            ...                        ...         ...   \n",
       "31238          Arbre         ESP151            Arbre de voirie     ESP1277   \n",
       "31239          Arbre         ESP151            Arbre de voirie     ESP1277   \n",
       "31240          Arbre         ESP151            Arbre de voirie     ESP1277   \n",
       "31241          Arbre         ESP151            Arbre de voirie     ESP1277   \n",
       "31242          Arbre         ESP151            Arbre de voirie     ESP1277   \n",
       "\n",
       "       ... COURRIER  IDENTIFIANTPLU TYPEIMPLANTATIONPLU INTITULEPROTECTIONPLU  \\\n",
       "0      ...      NaN             NaN                 NaN                   NaN   \n",
       "1      ...      NaN             NaN                 NaN                   NaN   \n",
       "2      ...      NaN             NaN                 NaN                   NaN   \n",
       "3      ...      NaN             NaN                 NaN                   NaN   \n",
       "4      ...      NaN             NaN                 NaN                   NaN   \n",
       "...    ...      ...             ...                 ...                   ...   \n",
       "31238  ...      NaN             NaN                 NaN                   NaN   \n",
       "31239  ...      NaN             NaN                 NaN                   NaN   \n",
       "31240  ...      NaN             NaN                 NaN                   NaN   \n",
       "31241  ...      NaN             NaN                 NaN                   NaN   \n",
       "31242  ...      NaN             NaN                 NaN                   NaN   \n",
       "\n",
       "      ANNEEABATTAGE ESSOUCHEMENT DIAMETREARBRE  CAUSEABATTAGE  \\\n",
       "0               0.0          NaN           NaN            NaN   \n",
       "1               0.0          NaN           NaN            NaN   \n",
       "2               0.0          NaN           NaN            NaN   \n",
       "3               0.0          NaN           NaN            NaN   \n",
       "4               0.0          NaN           NaN            NaN   \n",
       "...             ...          ...           ...            ...   \n",
       "31238           0.0          NaN           NaN            NaN   \n",
       "31239           0.0          NaN           NaN            NaN   \n",
       "31240           0.0          NaN           NaN            NaN   \n",
       "31241           0.0          NaN           NaN            NaN   \n",
       "31242           0.0          NaN           NaN            NaN   \n",
       "\n",
       "                   COLLECTIVITE  \\\n",
       "0                           NaN   \n",
       "1                           NaN   \n",
       "2                           NaN   \n",
       "3                           NaN   \n",
       "4                           NaN   \n",
       "...                         ...   \n",
       "31238  Grenoble Alpes Métropole   \n",
       "31239  Grenoble Alpes Métropole   \n",
       "31240  Grenoble Alpes Métropole   \n",
       "31241  Grenoble Alpes Métropole   \n",
       "31242  Grenoble Alpes Métropole   \n",
       "\n",
       "                                                 GeoJSON  \n",
       "0      {\"type\":\"Point\",\"coordinates\":[5.7603469008942...  \n",
       "1      {\"type\":\"Point\",\"coordinates\":[5.7598264646441...  \n",
       "2      {\"type\":\"Point\",\"coordinates\":[5.7599807314486...  \n",
       "3      {\"type\":\"Point\",\"coordinates\":[5.7600570301267...  \n",
       "4      {\"type\":\"Point\",\"coordinates\":[5.7600202792924...  \n",
       "...                                                  ...  \n",
       "31238  {\"type\":\"Point\",\"coordinates\":[5.7117169490564...  \n",
       "31239  {\"type\":\"Point\",\"coordinates\":[5.7115904446110...  \n",
       "31240  {\"type\":\"Point\",\"coordinates\":[5.7114873970721...  \n",
       "31241  {\"type\":\"Point\",\"coordinates\":[5.7117859768817...  \n",
       "31242  {\"type\":\"Point\",\"coordinates\":[5.7113357012675...  \n",
       "\n",
       "[31243 rows x 32 columns]"
      ]
     },
     "execution_count": 79,
     "metadata": {},
     "output_type": "execute_result"
    }
   ],
   "source": [
    "raw_data"
   ]
  },
  {
   "cell_type": "raw",
   "metadata": {},
   "source": []
  }
 ],
 "metadata": {
  "kernelspec": {
   "display_name": "Python 3",
   "language": "python",
   "name": "python3"
  },
  "language_info": {
   "codemirror_mode": {
    "name": "ipython",
    "version": 3
   },
   "file_extension": ".py",
   "mimetype": "text/x-python",
   "name": "python",
   "nbconvert_exporter": "python",
   "pygments_lexer": "ipython3",
   "version": "3.7.4"
  },
  "toc": {
   "base_numbering": 1,
   "nav_menu": {},
   "number_sections": true,
   "sideBar": true,
   "skip_h1_title": false,
   "title_cell": "Table of Contents",
   "title_sidebar": "Contents",
   "toc_cell": false,
   "toc_position": {
    "height": "calc(100% - 180px)",
    "left": "10px",
    "top": "150px",
    "width": "218.167px"
   },
   "toc_section_display": true,
   "toc_window_display": true
  },
  "varInspector": {
   "cols": {
    "lenName": 16,
    "lenType": 16,
    "lenVar": 40
   },
   "kernels_config": {
    "python": {
     "delete_cmd_postfix": "",
     "delete_cmd_prefix": "del ",
     "library": "var_list.py",
     "varRefreshCmd": "print(var_dic_list())"
    },
    "r": {
     "delete_cmd_postfix": ") ",
     "delete_cmd_prefix": "rm(",
     "library": "var_list.r",
     "varRefreshCmd": "cat(var_dic_list()) "
    }
   },
   "position": {
    "height": "369.85px",
    "left": "879.167px",
    "right": "20px",
    "top": "121px",
    "width": "350px"
   },
   "types_to_exclude": [
    "module",
    "function",
    "builtin_function_or_method",
    "instance",
    "_Feature"
   ],
   "window_display": false
  }
 },
 "nbformat": 4,
 "nbformat_minor": 2
}
