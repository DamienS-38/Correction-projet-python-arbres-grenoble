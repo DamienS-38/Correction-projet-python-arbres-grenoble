{
 "cells": [
  {
   "cell_type": "markdown",
   "metadata": {},
   "source": [
    "# Remédiation list and dict comprehensions "
   ]
  },
  {
   "cell_type": "markdown",
   "metadata": {},
   "source": [
    "## Compréhension de liste"
   ]
  },
  {
   "cell_type": "markdown",
   "metadata": {},
   "source": [
    "### Exemple : création d'une liste de carrés"
   ]
  },
  {
   "cell_type": "code",
   "execution_count": 4,
   "metadata": {},
   "outputs": [
    {
     "data": {
      "text/plain": [
       "[0, 1, 4, 9, 16, 25, 36, 49, 64, 81]"
      ]
     },
     "execution_count": 4,
     "metadata": {},
     "output_type": "execute_result"
    }
   ],
   "source": [
    "# Avec boucle for \n",
    "l = []\n",
    "for i in range(10):\n",
    "    l.append(i**2)\n",
    "    \n",
    "l"
   ]
  },
  {
   "cell_type": "code",
   "execution_count": 5,
   "metadata": {},
   "outputs": [
    {
     "data": {
      "text/plain": [
       "[0, 1, 4, 9, 16, 25, 36, 49, 64, 81]"
      ]
     },
     "execution_count": 5,
     "metadata": {},
     "output_type": "execute_result"
    }
   ],
   "source": [
    "# En utilisant une comprehension de liste\n",
    "l = [i**2 for i in range(10)]\n",
    "\n",
    "l"
   ]
  },
  {
   "cell_type": "markdown",
   "metadata": {},
   "source": [
    "### Exemple : création d'une liste de mots de longueur > 5"
   ]
  },
  {
   "cell_type": "code",
   "execution_count": 6,
   "metadata": {},
   "outputs": [
    {
     "data": {
      "text/plain": [
       "['Exemple',\n",
       " 'de',\n",
       " 'texte',\n",
       " 'avec',\n",
       " 'plusieurs',\n",
       " 'mots',\n",
       " 'de',\n",
       " 'longueur',\n",
       " 'supérieure',\n",
       " 'à',\n",
       " 'cinq']"
      ]
     },
     "execution_count": 6,
     "metadata": {},
     "output_type": "execute_result"
    }
   ],
   "source": [
    "# Création d'une liste de mots\n",
    "texte = \"Exemple de texte avec plusieurs mots de longueur supérieure à cinq\"\n",
    "texte_liste = texte.split(\" \")\n",
    "texte_liste"
   ]
  },
  {
   "cell_type": "code",
   "execution_count": 8,
   "metadata": {},
   "outputs": [
    {
     "data": {
      "text/plain": [
       "['Exemple', 'plusieurs', 'longueur', 'supérieure']"
      ]
     },
     "execution_count": 8,
     "metadata": {},
     "output_type": "execute_result"
    }
   ],
   "source": [
    "# Avec boucle for \n",
    "l = []\n",
    "for mot in texte_liste:\n",
    "    if len(mot) > 5:\n",
    "        l.append(mot)\n",
    "    \n",
    "l"
   ]
  },
  {
   "cell_type": "code",
   "execution_count": 10,
   "metadata": {},
   "outputs": [
    {
     "data": {
      "text/plain": [
       "['Exemple', 'plusieurs', 'longueur', 'supérieure']"
      ]
     },
     "execution_count": 10,
     "metadata": {},
     "output_type": "execute_result"
    }
   ],
   "source": [
    "# Avec une compréhension de liste\n",
    "l = [mot for mot in texte_liste if len(mot) > 5]\n",
    "\n",
    "l"
   ]
  },
  {
   "cell_type": "markdown",
   "metadata": {},
   "source": [
    "## Compréhension de dictionnaire "
   ]
  },
  {
   "cell_type": "markdown",
   "metadata": {},
   "source": [
    "### Création d'un dictionnaire avec clé = un nombre, et valeur : le carré du nombre"
   ]
  },
  {
   "cell_type": "code",
   "execution_count": 12,
   "metadata": {},
   "outputs": [
    {
     "data": {
      "text/plain": [
       "{0: 0, 1: 1, 2: 4, 3: 9, 4: 16}"
      ]
     },
     "execution_count": 12,
     "metadata": {},
     "output_type": "execute_result"
    }
   ],
   "source": [
    "# Avec une boucle for\n",
    "d = dict()\n",
    "for i in range (5):\n",
    "    d[i] = i**2\n",
    "    \n",
    "d"
   ]
  },
  {
   "cell_type": "code",
   "execution_count": 13,
   "metadata": {},
   "outputs": [
    {
     "data": {
      "text/plain": [
       "{0: 0, 1: 1, 2: 4, 3: 9, 4: 16}"
      ]
     },
     "execution_count": 13,
     "metadata": {},
     "output_type": "execute_result"
    }
   ],
   "source": [
    "# Avec une compréhension de dictionnaire\n",
    "d = {i:i**2 for i in range(5)}\n",
    "\n",
    "d"
   ]
  },
  {
   "cell_type": "markdown",
   "metadata": {},
   "source": [
    "### Création d'un dictionnaire clé : mot, et valeur : nombre de lettres du mot"
   ]
  },
  {
   "cell_type": "code",
   "execution_count": null,
   "metadata": {},
   "outputs": [],
   "source": [
    "texte = \"Exemple de texte avec plusieurs mots de longueur supérieure à cinq\"\n",
    "texte_liste = texte.split(\" \")"
   ]
  },
  {
   "cell_type": "code",
   "execution_count": 14,
   "metadata": {},
   "outputs": [
    {
     "data": {
      "text/plain": [
       "{'Exemple': 7,\n",
       " 'de': 2,\n",
       " 'texte': 5,\n",
       " 'avec': 4,\n",
       " 'plusieurs': 9,\n",
       " 'mots': 4,\n",
       " 'longueur': 8,\n",
       " 'supérieure': 10,\n",
       " 'à': 1,\n",
       " 'cinq': 4}"
      ]
     },
     "execution_count": 14,
     "metadata": {},
     "output_type": "execute_result"
    }
   ],
   "source": [
    "# Avec une boucle for\n",
    "d = {}\n",
    "for mot in texte_liste:\n",
    "    d[mot] = len(mot)\n",
    "\n",
    "d"
   ]
  },
  {
   "cell_type": "code",
   "execution_count": 15,
   "metadata": {
    "collapsed": true
   },
   "outputs": [
    {
     "data": {
      "text/plain": [
       "{'Exemple': 7,\n",
       " 'de': 2,\n",
       " 'texte': 5,\n",
       " 'avec': 4,\n",
       " 'plusieurs': 9,\n",
       " 'mots': 4,\n",
       " 'longueur': 8,\n",
       " 'supérieure': 10,\n",
       " 'à': 1,\n",
       " 'cinq': 4}"
      ]
     },
     "execution_count": 15,
     "metadata": {},
     "output_type": "execute_result"
    }
   ],
   "source": [
    "# Avec une compréhension de dictionnaire\n",
    "d = {m:len(m) for m in texte_liste}\n",
    "\n",
    "d"
   ]
  }
 ],
 "metadata": {
  "kernelspec": {
   "display_name": "Python 3",
   "language": "python",
   "name": "python3"
  },
  "language_info": {
   "codemirror_mode": {
    "name": "ipython",
    "version": 3
   },
   "file_extension": ".py",
   "mimetype": "text/x-python",
   "name": "python",
   "nbconvert_exporter": "python",
   "pygments_lexer": "ipython3",
   "version": "3.8.5"
  },
  "toc": {
   "base_numbering": 1,
   "nav_menu": {},
   "number_sections": true,
   "sideBar": true,
   "skip_h1_title": false,
   "title_cell": "Table of Contents",
   "title_sidebar": "Contents",
   "toc_cell": false,
   "toc_position": {},
   "toc_section_display": true,
   "toc_window_display": false
  }
 },
 "nbformat": 4,
 "nbformat_minor": 4
}
