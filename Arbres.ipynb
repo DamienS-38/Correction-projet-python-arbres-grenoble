{
 "cells": [
  {
   "cell_type": "markdown",
   "metadata": {},
   "source": [
    "# Dataset arbres\n",
    "Source : http://data.metropolegrenoble.fr/ckan/dataset/les-arbres-de-grenoble\n",
    "## Exploration préliminaire des données\n",
    "\n",
    "Idées de sujet : \n",
    "- Quel a été le maire le plus vert sur la période concernée ? \n",
    "- Quelles sont les 5 espèces d'arbres les plus représentées à Grenoble ? \n",
    "- Combien y a-t-il d'arbres \"solitaires\", i.e. uniques représentants de leur espèce ? "
   ]
  },
  {
   "cell_type": "code",
   "execution_count": 43,
   "metadata": {
    "scrolled": false
   },
   "outputs": [],
   "source": [
    "import csv\n",
    "import numpy as np\n",
    "import pandas as pd \n",
    "import matplotlib.pyplot as plt\n",
    "import random"
   ]
  },
  {
   "cell_type": "code",
   "execution_count": 44,
   "metadata": {},
   "outputs": [],
   "source": [
    "# Import du style\n",
    "!jt -t monokai -fs 95 -altp -tfs 11 -nfs 115 -cellw 88% -T\n",
    "plt.style.use('bmh')"
   ]
  },
  {
   "cell_type": "code",
   "execution_count": 45,
   "metadata": {},
   "outputs": [],
   "source": [
    "# Chargement des données dans un dataframe pandas\n",
    "df = pd.read_csv('data/arbres.csv')"
   ]
  },
  {
   "cell_type": "markdown",
   "metadata": {},
   "source": [
    "-------------------------------------------------\n",
    "### Nombre d'entrées non nulles dans chaque colonne\n",
    "\n",
    "Remarques : \n",
    "- pas d'info sur l'année d'abattage (sont ils tous encore en vie ?) \n",
    "- Pas d'info sur le diamètre des arbres\n",
    "\n",
    "--------------------------------------------------"
   ]
  },
  {
   "cell_type": "code",
   "execution_count": 46,
   "metadata": {
    "scrolled": true
   },
   "outputs": [
    {
     "data": {
      "text/plain": [
       "ELEM_POINT_ID            31243\n",
       "CODE                     31243\n",
       "NOM                      31243\n",
       "GENRE                    31243\n",
       "GENRE_DESC               31243\n",
       "CATEGORIE                31243\n",
       "CATEGORIE_DESC           31243\n",
       "SOUS_CATEGORIE           31243\n",
       "SOUS_CATEGORIE_DESC      31243\n",
       "CODE_PARENT              31243\n",
       "CODE_PARENT_DESC         31243\n",
       "ADR_SECTEUR              31243\n",
       "BIEN_REFERENCE           31243\n",
       "GENRE_BOTA               30728\n",
       "ESPECE                   29053\n",
       "VARIETE                   4039\n",
       "STADEDEDEVELOPPEMENT     29228\n",
       "EQUIPE                       0\n",
       "REMARQUES                    0\n",
       "ANNEEDEPLANTATION        30801\n",
       "RAISONDEPLANTATION        1050\n",
       "TRAITEMENTCHENILLES       2338\n",
       "COURRIER                     0\n",
       "IDENTIFIANTPLU             610\n",
       "TYPEIMPLANTATIONPLU        610\n",
       "INTITULEPROTECTIONPLU      610\n",
       "ANNEEABATTAGE                0\n",
       "ESSOUCHEMENT                 0\n",
       "DIAMETREARBRE                0\n",
       "CAUSEABATTAGE                0\n",
       "COLLECTIVITE             30804\n",
       "GeoJSON                  31243\n",
       "dtype: int64"
      ]
     },
     "execution_count": 46,
     "metadata": {},
     "output_type": "execute_result"
    }
   ],
   "source": [
    "df.count()"
   ]
  },
  {
   "cell_type": "markdown",
   "metadata": {},
   "source": [
    "--------------------------------------------------\n",
    "On enlève les colonnes sans aucune entrée => pas de valeur \n",
    "\n",
    "---------------------------------------------------"
   ]
  },
  {
   "cell_type": "code",
   "execution_count": 47,
   "metadata": {},
   "outputs": [],
   "source": [
    "bools = (df.count() > 0)\n",
    "df = df.loc[:, bools.values]"
   ]
  },
  {
   "cell_type": "markdown",
   "metadata": {},
   "source": [
    "On regarde un peu à quoi ressemblent les données ! "
   ]
  },
  {
   "cell_type": "code",
   "execution_count": 48,
   "metadata": {
    "scrolled": true
   },
   "outputs": [
    {
     "data": {
      "text/html": [
       "<div>\n",
       "<style scoped>\n",
       "    .dataframe tbody tr th:only-of-type {\n",
       "        vertical-align: middle;\n",
       "    }\n",
       "\n",
       "    .dataframe tbody tr th {\n",
       "        vertical-align: top;\n",
       "    }\n",
       "\n",
       "    .dataframe thead th {\n",
       "        text-align: right;\n",
       "    }\n",
       "</style>\n",
       "<table border=\"1\" class=\"dataframe\">\n",
       "  <thead>\n",
       "    <tr style=\"text-align: right;\">\n",
       "      <th></th>\n",
       "      <th>ELEM_POINT_ID</th>\n",
       "      <th>CODE</th>\n",
       "      <th>NOM</th>\n",
       "      <th>GENRE</th>\n",
       "      <th>GENRE_DESC</th>\n",
       "      <th>CATEGORIE</th>\n",
       "      <th>CATEGORIE_DESC</th>\n",
       "      <th>SOUS_CATEGORIE</th>\n",
       "      <th>SOUS_CATEGORIE_DESC</th>\n",
       "      <th>CODE_PARENT</th>\n",
       "      <th>...</th>\n",
       "      <th>VARIETE</th>\n",
       "      <th>STADEDEDEVELOPPEMENT</th>\n",
       "      <th>ANNEEDEPLANTATION</th>\n",
       "      <th>RAISONDEPLANTATION</th>\n",
       "      <th>TRAITEMENTCHENILLES</th>\n",
       "      <th>IDENTIFIANTPLU</th>\n",
       "      <th>TYPEIMPLANTATIONPLU</th>\n",
       "      <th>INTITULEPROTECTIONPLU</th>\n",
       "      <th>COLLECTIVITE</th>\n",
       "      <th>GeoJSON</th>\n",
       "    </tr>\n",
       "  </thead>\n",
       "  <tbody>\n",
       "    <tr>\n",
       "      <th>0</th>\n",
       "      <td>37993</td>\n",
       "      <td>ESP37969</td>\n",
       "      <td>ESP37969</td>\n",
       "      <td>VEG</td>\n",
       "      <td>VEGETATION</td>\n",
       "      <td>ESP01</td>\n",
       "      <td>Arbre</td>\n",
       "      <td>ESP065</td>\n",
       "      <td>Arbre d'enceintes fermées</td>\n",
       "      <td>ESP37898</td>\n",
       "      <td>...</td>\n",
       "      <td>NaN</td>\n",
       "      <td>NaN</td>\n",
       "      <td>NaN</td>\n",
       "      <td>NaN</td>\n",
       "      <td>NaN</td>\n",
       "      <td>NaN</td>\n",
       "      <td>NaN</td>\n",
       "      <td>NaN</td>\n",
       "      <td>NaN</td>\n",
       "      <td>{\"type\":\"Point\",\"coordinates\":[5.7603469008942...</td>\n",
       "    </tr>\n",
       "    <tr>\n",
       "      <th>1</th>\n",
       "      <td>37992</td>\n",
       "      <td>ESP37968</td>\n",
       "      <td>ESP37968</td>\n",
       "      <td>VEG</td>\n",
       "      <td>VEGETATION</td>\n",
       "      <td>ESP01</td>\n",
       "      <td>Arbre</td>\n",
       "      <td>ESP065</td>\n",
       "      <td>Arbre d'enceintes fermées</td>\n",
       "      <td>ESP37898</td>\n",
       "      <td>...</td>\n",
       "      <td>NaN</td>\n",
       "      <td>NaN</td>\n",
       "      <td>NaN</td>\n",
       "      <td>NaN</td>\n",
       "      <td>NaN</td>\n",
       "      <td>NaN</td>\n",
       "      <td>NaN</td>\n",
       "      <td>NaN</td>\n",
       "      <td>NaN</td>\n",
       "      <td>{\"type\":\"Point\",\"coordinates\":[5.7598264646441...</td>\n",
       "    </tr>\n",
       "    <tr>\n",
       "      <th>2</th>\n",
       "      <td>37991</td>\n",
       "      <td>ESP37967</td>\n",
       "      <td>ESP37967</td>\n",
       "      <td>VEG</td>\n",
       "      <td>VEGETATION</td>\n",
       "      <td>ESP01</td>\n",
       "      <td>Arbre</td>\n",
       "      <td>ESP065</td>\n",
       "      <td>Arbre d'enceintes fermées</td>\n",
       "      <td>ESP37898</td>\n",
       "      <td>...</td>\n",
       "      <td>NaN</td>\n",
       "      <td>NaN</td>\n",
       "      <td>NaN</td>\n",
       "      <td>NaN</td>\n",
       "      <td>NaN</td>\n",
       "      <td>NaN</td>\n",
       "      <td>NaN</td>\n",
       "      <td>NaN</td>\n",
       "      <td>NaN</td>\n",
       "      <td>{\"type\":\"Point\",\"coordinates\":[5.7599807314486...</td>\n",
       "    </tr>\n",
       "    <tr>\n",
       "      <th>3</th>\n",
       "      <td>37990</td>\n",
       "      <td>ESP37966</td>\n",
       "      <td>ESP37966</td>\n",
       "      <td>VEG</td>\n",
       "      <td>VEGETATION</td>\n",
       "      <td>ESP01</td>\n",
       "      <td>Arbre</td>\n",
       "      <td>ESP065</td>\n",
       "      <td>Arbre d'enceintes fermées</td>\n",
       "      <td>ESP37898</td>\n",
       "      <td>...</td>\n",
       "      <td>NaN</td>\n",
       "      <td>NaN</td>\n",
       "      <td>NaN</td>\n",
       "      <td>NaN</td>\n",
       "      <td>NaN</td>\n",
       "      <td>NaN</td>\n",
       "      <td>NaN</td>\n",
       "      <td>NaN</td>\n",
       "      <td>NaN</td>\n",
       "      <td>{\"type\":\"Point\",\"coordinates\":[5.7600570301267...</td>\n",
       "    </tr>\n",
       "    <tr>\n",
       "      <th>4</th>\n",
       "      <td>37989</td>\n",
       "      <td>ESP37965</td>\n",
       "      <td>ESP37965</td>\n",
       "      <td>VEG</td>\n",
       "      <td>VEGETATION</td>\n",
       "      <td>ESP01</td>\n",
       "      <td>Arbre</td>\n",
       "      <td>ESP065</td>\n",
       "      <td>Arbre d'enceintes fermées</td>\n",
       "      <td>ESP37898</td>\n",
       "      <td>...</td>\n",
       "      <td>NaN</td>\n",
       "      <td>NaN</td>\n",
       "      <td>NaN</td>\n",
       "      <td>NaN</td>\n",
       "      <td>NaN</td>\n",
       "      <td>NaN</td>\n",
       "      <td>NaN</td>\n",
       "      <td>NaN</td>\n",
       "      <td>NaN</td>\n",
       "      <td>{\"type\":\"Point\",\"coordinates\":[5.7600202792924...</td>\n",
       "    </tr>\n",
       "  </tbody>\n",
       "</table>\n",
       "<p>5 rows × 25 columns</p>\n",
       "</div>"
      ],
      "text/plain": [
       "   ELEM_POINT_ID      CODE       NOM GENRE  GENRE_DESC CATEGORIE  \\\n",
       "0          37993  ESP37969  ESP37969   VEG  VEGETATION     ESP01   \n",
       "1          37992  ESP37968  ESP37968   VEG  VEGETATION     ESP01   \n",
       "2          37991  ESP37967  ESP37967   VEG  VEGETATION     ESP01   \n",
       "3          37990  ESP37966  ESP37966   VEG  VEGETATION     ESP01   \n",
       "4          37989  ESP37965  ESP37965   VEG  VEGETATION     ESP01   \n",
       "\n",
       "  CATEGORIE_DESC SOUS_CATEGORIE        SOUS_CATEGORIE_DESC CODE_PARENT  ...  \\\n",
       "0          Arbre         ESP065  Arbre d'enceintes fermées    ESP37898  ...   \n",
       "1          Arbre         ESP065  Arbre d'enceintes fermées    ESP37898  ...   \n",
       "2          Arbre         ESP065  Arbre d'enceintes fermées    ESP37898  ...   \n",
       "3          Arbre         ESP065  Arbre d'enceintes fermées    ESP37898  ...   \n",
       "4          Arbre         ESP065  Arbre d'enceintes fermées    ESP37898  ...   \n",
       "\n",
       "  VARIETE  STADEDEDEVELOPPEMENT ANNEEDEPLANTATION RAISONDEPLANTATION  \\\n",
       "0     NaN                   NaN               NaN                NaN   \n",
       "1     NaN                   NaN               NaN                NaN   \n",
       "2     NaN                   NaN               NaN                NaN   \n",
       "3     NaN                   NaN               NaN                NaN   \n",
       "4     NaN                   NaN               NaN                NaN   \n",
       "\n",
       "  TRAITEMENTCHENILLES IDENTIFIANTPLU TYPEIMPLANTATIONPLU  \\\n",
       "0                 NaN            NaN                 NaN   \n",
       "1                 NaN            NaN                 NaN   \n",
       "2                 NaN            NaN                 NaN   \n",
       "3                 NaN            NaN                 NaN   \n",
       "4                 NaN            NaN                 NaN   \n",
       "\n",
       "   INTITULEPROTECTIONPLU COLLECTIVITE  \\\n",
       "0                    NaN          NaN   \n",
       "1                    NaN          NaN   \n",
       "2                    NaN          NaN   \n",
       "3                    NaN          NaN   \n",
       "4                    NaN          NaN   \n",
       "\n",
       "                                             GeoJSON  \n",
       "0  {\"type\":\"Point\",\"coordinates\":[5.7603469008942...  \n",
       "1  {\"type\":\"Point\",\"coordinates\":[5.7598264646441...  \n",
       "2  {\"type\":\"Point\",\"coordinates\":[5.7599807314486...  \n",
       "3  {\"type\":\"Point\",\"coordinates\":[5.7600570301267...  \n",
       "4  {\"type\":\"Point\",\"coordinates\":[5.7600202792924...  \n",
       "\n",
       "[5 rows x 25 columns]"
      ]
     },
     "execution_count": 48,
     "metadata": {},
     "output_type": "execute_result"
    }
   ],
   "source": [
    "df.head()"
   ]
  },
  {
   "cell_type": "markdown",
   "metadata": {},
   "source": [
    "------------------------------------------\n",
    "### Combien d'éléments uniques dans chaque colonne ? \n",
    "Remarques : \n",
    "- nbre d'ID = nbre d'arbres\n",
    "- 255 espèces d'arbres répertoriées\n",
    "- Quelle est la hiérarchie dans GENRE_BOTA, ESPECE et VARIETE ? \n",
    "\n",
    "--------------------------------------------"
   ]
  },
  {
   "cell_type": "code",
   "execution_count": 49,
   "metadata": {},
   "outputs": [
    {
     "data": {
      "text/plain": [
       "ELEM_POINT_ID            31243\n",
       "CODE                     31243\n",
       "NOM                      31243\n",
       "GENRE                        1\n",
       "GENRE_DESC                   1\n",
       "CATEGORIE                    1\n",
       "CATEGORIE_DESC               1\n",
       "SOUS_CATEGORIE               4\n",
       "SOUS_CATEGORIE_DESC          4\n",
       "CODE_PARENT               1447\n",
       "CODE_PARENT_DESC          1447\n",
       "ADR_SECTEUR                  6\n",
       "BIEN_REFERENCE           31243\n",
       "GENRE_BOTA                 112\n",
       "ESPECE                     255\n",
       "VARIETE                    146\n",
       "STADEDEDEVELOPPEMENT         3\n",
       "ANNEEDEPLANTATION           58\n",
       "RAISONDEPLANTATION           3\n",
       "TRAITEMENTCHENILLES          3\n",
       "IDENTIFIANTPLU              46\n",
       "TYPEIMPLANTATIONPLU          4\n",
       "INTITULEPROTECTIONPLU        3\n",
       "COLLECTIVITE                 2\n",
       "GeoJSON                  31242\n",
       "dtype: int64"
      ]
     },
     "execution_count": 49,
     "metadata": {},
     "output_type": "execute_result"
    }
   ],
   "source": [
    "df.nunique()"
   ]
  },
  {
   "cell_type": "markdown",
   "metadata": {},
   "source": [
    "--------------------------\n",
    "### Quels sont les éléments uniques dans chaque colonne ? \n",
    "\n",
    "--------------"
   ]
  },
  {
   "cell_type": "code",
   "execution_count": 50,
   "metadata": {
    "scrolled": true
   },
   "outputs": [],
   "source": [
    "# j'applique la fonction set sur chacune des colonnes du dataframe\n",
    "# (set permet de récupérer les éléments uniques et de les ranger dans un \"set\")\n",
    "sets = df.apply(set)\n",
    "\n",
    "# J'enlève les nan\n",
    "for col in df.columns.values: \n",
    "    sets[col] = {x for x in sets[col] if pd.notna(x)}"
   ]
  },
  {
   "cell_type": "code",
   "execution_count": 51,
   "metadata": {
    "scrolled": false
   },
   "outputs": [
    {
     "data": {
      "text/plain": [
       "ELEM_POINT_ID            {1, 2, 3, 4, 5, 6, 7, 8, 9, 10, 11, 12, 13, 14...\n",
       "CODE                     {ESP32027, ESP26503, ESP2031, ESP5458, ESP7666...\n",
       "NOM                      {ESP32027, ESP26503, ESP2031, ESP5458, ESP7666...\n",
       "GENRE                                                                {VEG}\n",
       "GENRE_DESC                                                    {VEGETATION}\n",
       "CATEGORIE                                                          {ESP01}\n",
       "CATEGORIE_DESC                                                     {Arbre}\n",
       "SOUS_CATEGORIE                            {ESP151, ESP065, ESP174, ESP187}\n",
       "SOUS_CATEGORIE_DESC      {Arbre d'enceintes fermées, Bois semi naturel,...\n",
       "CODE_PARENT              {ESP655, ESP721, ESP98, ESP1229, ESP495, ESP30...\n",
       "CODE_PARENT_DESC         {R des Arts pas Colbert, Bd J Pain Forum sép c...\n",
       "ADR_SECTEUR                                             {1, 2, 3, 4, 5, 6}\n",
       "BIEN_REFERENCE           {AR26928, AR29475, AR12527, AR10846, AR20365, ...\n",
       "GENRE_BOTA               {Trachycarpus, Platanus, Eriobotrya , Lirioden...\n",
       "ESPECE                   {babylonica, styraciflua, ovalis, angustifolia...\n",
       "VARIETE                  {Sanguine de Savoie, Planteriensis, Shirotae, ...\n",
       "STADEDEDEVELOPPEMENT       {Arbre jeune, Arbre vieillissant, Arbre adulte}\n",
       "ANNEEDEPLANTATION        {1950.0, 1955.0, 1960.0, 1961.0, 1964.0, 1965....\n",
       "RAISONDEPLANTATION                       {Existant, Remplacement, Nouveau}\n",
       "TRAITEMENTCHENILLES                                {Basse, Haute, Moyenne}\n",
       "IDENTIFIANTPLU           {2.0, 3.0, 130.0, 12.0, 22.0, 23.0, 24.0, 36.0...\n",
       "TYPEIMPLANTATIONPLU                 {Périmètre, Isolé, Alignement, Groupé}\n",
       "INTITULEPROTECTIONPLU                            {L 123-1, L 123-1.7, ebc}\n",
       "COLLECTIVITE                 {Ville de Grenoble, Grenoble Alpes Métropole}\n",
       "GeoJSON                  {{\"type\":\"Point\",\"coordinates\":[5.739827013449...\n",
       "dtype: object"
      ]
     },
     "execution_count": 51,
     "metadata": {},
     "output_type": "execute_result"
    }
   ],
   "source": [
    "sets"
   ]
  },
  {
   "cell_type": "code",
   "execution_count": 52,
   "metadata": {
    "scrolled": true
   },
   "outputs": [
    {
     "data": {
      "text/plain": [
       "['nivalis',\n",
       " 'europaea',\n",
       " 'pisifera',\n",
       " 'oblonga',\n",
       " 'anagynoides',\n",
       " 'australis',\n",
       " 'communis',\n",
       " 'utilis',\n",
       " 'villosa',\n",
       " 'regia']"
      ]
     },
     "execution_count": 52,
     "metadata": {},
     "output_type": "execute_result"
    }
   ],
   "source": [
    "# 10 éléments random dans \"ESPECE\" (pour voir à quoi ça ressemble)\n",
    "random.sample(sets['ESPECE'], 10)"
   ]
  },
  {
   "cell_type": "code",
   "execution_count": 53,
   "metadata": {},
   "outputs": [
    {
     "data": {
      "text/plain": [
       "['Cité Mistral R A France n 45',\n",
       " 'Cité Mistral R A Thomas impair',\n",
       " 'R du 140 RIA Ouest',\n",
       " 'R Manteyer 01à13 ang J O',\n",
       " 'R Esmonin IMT',\n",
       " 'Av Berthelot pair ang Peretto',\n",
       " 'Centre social des Eaux Claires',\n",
       " 'Ave Randon FC Allobroges Saul',\n",
       " 'R Francis James park',\n",
       " 'Ave F Viallet Gambetta Belg']"
      ]
     },
     "execution_count": 53,
     "metadata": {},
     "output_type": "execute_result"
    }
   ],
   "source": [
    "# 10 éléments random dans \"ESPECE\" (idem)\n",
    "random.sample(sets['CODE_PARENT_DESC'], 10)"
   ]
  },
  {
   "cell_type": "markdown",
   "metadata": {},
   "source": [
    "## Visualisation des données"
   ]
  },
  {
   "cell_type": "markdown",
   "metadata": {},
   "source": [
    "Combien d'arbres plantés année par année ? \\\n",
    "Le maire le + vert => Hubert Dubedout (1975)\n"
   ]
  },
  {
   "cell_type": "code",
   "execution_count": 54,
   "metadata": {},
   "outputs": [
    {
     "data": {
      "image/png": "[encoded data removed]",
      "text/plain": [
       "<Figure size 640x480 with 1 Axes>"
      ]
     },
     "metadata": {},
     "output_type": "display_data"
    }
   ],
   "source": [
    "years = range(int(min(sets['ANNEEDEPLANTATION'])), int(max(sets['ANNEEDEPLANTATION'])))\n",
    "nbre_arbres_year = []\n",
    "for year in years: \n",
    "    nbre_arbres_year.append(df[df.ANNEEDEPLANTATION == year].shape[0])\n",
    "\n",
    "plt.bar(years, nbre_arbres_year)\n",
    "plt.ylabel(\"Nombre\")\n",
    "plt.xlabel(\"Années\")\n",
    "plt.title(\"Nombre d'arbres plantés année par année\"); \n",
    "plt.show()"
   ]
  },
  {
   "cell_type": "code",
   "execution_count": null,
   "metadata": {},
   "outputs": [],
   "source": []
  },
  {
   "cell_type": "markdown",
   "metadata": {},
   "source": [
    "## Statistiques sur la répartition des arbres \n",
    "\n",
    "Arbres les plus/ moins représentés à Grenoble ?"
   ]
  },
  {
   "cell_type": "code",
   "execution_count": 55,
   "metadata": {},
   "outputs": [],
   "source": [
    "data = []\n",
    "for espece in sets['ESPECE']: \n",
    "    data.append({'Espece': espece, 'Nombre': df[df.ESPECE == espece].shape[0]}) \n",
    "    \n",
    "df_repartition = pd.DataFrame(data) "
   ]
  },
  {
   "cell_type": "code",
   "execution_count": 56,
   "metadata": {},
   "outputs": [
    {
     "data": {
      "text/html": [
       "<div>\n",
       "<style scoped>\n",
       "    .dataframe tbody tr th:only-of-type {\n",
       "        vertical-align: middle;\n",
       "    }\n",
       "\n",
       "    .dataframe tbody tr th {\n",
       "        vertical-align: top;\n",
       "    }\n",
       "\n",
       "    .dataframe thead th {\n",
       "        text-align: right;\n",
       "    }\n",
       "</style>\n",
       "<table border=\"1\" class=\"dataframe\">\n",
       "  <thead>\n",
       "    <tr style=\"text-align: right;\">\n",
       "      <th></th>\n",
       "      <th>Espece</th>\n",
       "      <th>Nombre</th>\n",
       "    </tr>\n",
       "  </thead>\n",
       "  <tbody>\n",
       "    <tr>\n",
       "      <th>41</th>\n",
       "      <td>acerifolia</td>\n",
       "      <td>4422</td>\n",
       "    </tr>\n",
       "    <tr>\n",
       "      <th>113</th>\n",
       "      <td>nigra</td>\n",
       "      <td>1940</td>\n",
       "    </tr>\n",
       "    <tr>\n",
       "      <th>214</th>\n",
       "      <td>pseudoplatanus</td>\n",
       "      <td>1347</td>\n",
       "    </tr>\n",
       "    <tr>\n",
       "      <th>61</th>\n",
       "      <td>betulus</td>\n",
       "      <td>1282</td>\n",
       "    </tr>\n",
       "    <tr>\n",
       "      <th>210</th>\n",
       "      <td>platanoides</td>\n",
       "      <td>1131</td>\n",
       "    </tr>\n",
       "    <tr>\n",
       "      <th>122</th>\n",
       "      <td>tomentosa</td>\n",
       "      <td>1079</td>\n",
       "    </tr>\n",
       "    <tr>\n",
       "      <th>182</th>\n",
       "      <td>campestre</td>\n",
       "      <td>861</td>\n",
       "    </tr>\n",
       "    <tr>\n",
       "      <th>253</th>\n",
       "      <td>cordata</td>\n",
       "      <td>807</td>\n",
       "    </tr>\n",
       "    <tr>\n",
       "      <th>1</th>\n",
       "      <td>styraciflua</td>\n",
       "      <td>806</td>\n",
       "    </tr>\n",
       "    <tr>\n",
       "      <th>164</th>\n",
       "      <td>excelsior</td>\n",
       "      <td>776</td>\n",
       "    </tr>\n",
       "  </tbody>\n",
       "</table>\n",
       "</div>"
      ],
      "text/plain": [
       "             Espece  Nombre\n",
       "41       acerifolia    4422\n",
       "113           nigra    1940\n",
       "214  pseudoplatanus    1347\n",
       "61          betulus    1282\n",
       "210     platanoides    1131\n",
       "122       tomentosa    1079\n",
       "182       campestre     861\n",
       "253         cordata     807\n",
       "1       styraciflua     806\n",
       "164       excelsior     776"
      ]
     },
     "execution_count": 56,
     "metadata": {},
     "output_type": "execute_result"
    }
   ],
   "source": [
    "# Les arbres les plus représentés\n",
    "df_repartition.nlargest(10, 'Nombre')"
   ]
  },
  {
   "cell_type": "code",
   "execution_count": 57,
   "metadata": {
    "scrolled": true
   },
   "outputs": [
    {
     "data": {
      "text/html": [
       "<div>\n",
       "<style scoped>\n",
       "    .dataframe tbody tr th:only-of-type {\n",
       "        vertical-align: middle;\n",
       "    }\n",
       "\n",
       "    .dataframe tbody tr th {\n",
       "        vertical-align: top;\n",
       "    }\n",
       "\n",
       "    .dataframe thead th {\n",
       "        text-align: right;\n",
       "    }\n",
       "</style>\n",
       "<table border=\"1\" class=\"dataframe\">\n",
       "  <thead>\n",
       "    <tr style=\"text-align: right;\">\n",
       "      <th></th>\n",
       "      <th>Espece</th>\n",
       "      <th>Nombre</th>\n",
       "    </tr>\n",
       "  </thead>\n",
       "  <tbody>\n",
       "    <tr>\n",
       "      <th>19</th>\n",
       "      <td>bumalda</td>\n",
       "      <td>1</td>\n",
       "    </tr>\n",
       "    <tr>\n",
       "      <th>25</th>\n",
       "      <td>phellos</td>\n",
       "      <td>1</td>\n",
       "    </tr>\n",
       "    <tr>\n",
       "      <th>36</th>\n",
       "      <td>zoeschense</td>\n",
       "      <td>1</td>\n",
       "    </tr>\n",
       "    <tr>\n",
       "      <th>44</th>\n",
       "      <td>koreana</td>\n",
       "      <td>1</td>\n",
       "    </tr>\n",
       "    <tr>\n",
       "      <th>45</th>\n",
       "      <td>magnificum</td>\n",
       "      <td>1</td>\n",
       "    </tr>\n",
       "    <tr>\n",
       "      <th>46</th>\n",
       "      <td>coccinea</td>\n",
       "      <td>1</td>\n",
       "    </tr>\n",
       "    <tr>\n",
       "      <th>48</th>\n",
       "      <td>auricularis</td>\n",
       "      <td>1</td>\n",
       "    </tr>\n",
       "    <tr>\n",
       "      <th>53</th>\n",
       "      <td>alaternus</td>\n",
       "      <td>1</td>\n",
       "    </tr>\n",
       "    <tr>\n",
       "      <th>59</th>\n",
       "      <td>chamaemespilus</td>\n",
       "      <td>1</td>\n",
       "    </tr>\n",
       "    <tr>\n",
       "      <th>64</th>\n",
       "      <td>monticola</td>\n",
       "      <td>1</td>\n",
       "    </tr>\n",
       "    <tr>\n",
       "      <th>65</th>\n",
       "      <td>coronaria</td>\n",
       "      <td>1</td>\n",
       "    </tr>\n",
       "    <tr>\n",
       "      <th>72</th>\n",
       "      <td>splendens</td>\n",
       "      <td>1</td>\n",
       "    </tr>\n",
       "    <tr>\n",
       "      <th>89</th>\n",
       "      <td>hispanica</td>\n",
       "      <td>1</td>\n",
       "    </tr>\n",
       "    <tr>\n",
       "      <th>90</th>\n",
       "      <td>laevis</td>\n",
       "      <td>1</td>\n",
       "    </tr>\n",
       "    <tr>\n",
       "      <th>98</th>\n",
       "      <td>opalus</td>\n",
       "      <td>1</td>\n",
       "    </tr>\n",
       "    <tr>\n",
       "      <th>102</th>\n",
       "      <td>strobus</td>\n",
       "      <td>1</td>\n",
       "    </tr>\n",
       "    <tr>\n",
       "      <th>103</th>\n",
       "      <td>liliflora</td>\n",
       "      <td>1</td>\n",
       "    </tr>\n",
       "    <tr>\n",
       "      <th>106</th>\n",
       "      <td>sativa</td>\n",
       "      <td>1</td>\n",
       "    </tr>\n",
       "    <tr>\n",
       "      <th>110</th>\n",
       "      <td>royalty</td>\n",
       "      <td>1</td>\n",
       "    </tr>\n",
       "    <tr>\n",
       "      <th>116</th>\n",
       "      <td>verticillata</td>\n",
       "      <td>1</td>\n",
       "    </tr>\n",
       "    <tr>\n",
       "      <th>118</th>\n",
       "      <td>incisa</td>\n",
       "      <td>1</td>\n",
       "    </tr>\n",
       "    <tr>\n",
       "      <th>121</th>\n",
       "      <td>parvifolia</td>\n",
       "      <td>1</td>\n",
       "    </tr>\n",
       "    <tr>\n",
       "      <th>126</th>\n",
       "      <td>drupacea</td>\n",
       "      <td>1</td>\n",
       "    </tr>\n",
       "    <tr>\n",
       "      <th>141</th>\n",
       "      <td>macrocarpa</td>\n",
       "      <td>1</td>\n",
       "    </tr>\n",
       "    <tr>\n",
       "      <th>146</th>\n",
       "      <td>thyphina</td>\n",
       "      <td>1</td>\n",
       "    </tr>\n",
       "    <tr>\n",
       "      <th>187</th>\n",
       "      <td>watereri</td>\n",
       "      <td>1</td>\n",
       "    </tr>\n",
       "    <tr>\n",
       "      <th>195</th>\n",
       "      <td>julianae</td>\n",
       "      <td>1</td>\n",
       "    </tr>\n",
       "    <tr>\n",
       "      <th>197</th>\n",
       "      <td>gunii</td>\n",
       "      <td>1</td>\n",
       "    </tr>\n",
       "    <tr>\n",
       "      <th>202</th>\n",
       "      <td>quadrangulata</td>\n",
       "      <td>1</td>\n",
       "    </tr>\n",
       "    <tr>\n",
       "      <th>208</th>\n",
       "      <td>kaki</td>\n",
       "      <td>1</td>\n",
       "    </tr>\n",
       "    <tr>\n",
       "      <th>209</th>\n",
       "      <td>heptapeta</td>\n",
       "      <td>1</td>\n",
       "    </tr>\n",
       "    <tr>\n",
       "      <th>212</th>\n",
       "      <td>lasiocarpa</td>\n",
       "      <td>1</td>\n",
       "    </tr>\n",
       "    <tr>\n",
       "      <th>220</th>\n",
       "      <td>heterophylla</td>\n",
       "      <td>1</td>\n",
       "    </tr>\n",
       "    <tr>\n",
       "      <th>242</th>\n",
       "      <td>formonensis</td>\n",
       "      <td>1</td>\n",
       "    </tr>\n",
       "    <tr>\n",
       "      <th>243</th>\n",
       "      <td>pisifera</td>\n",
       "      <td>1</td>\n",
       "    </tr>\n",
       "    <tr>\n",
       "      <th>246</th>\n",
       "      <td>elaeagnifolia</td>\n",
       "      <td>1</td>\n",
       "    </tr>\n",
       "  </tbody>\n",
       "</table>\n",
       "</div>"
      ],
      "text/plain": [
       "             Espece  Nombre\n",
       "19          bumalda       1\n",
       "25          phellos       1\n",
       "36       zoeschense       1\n",
       "44          koreana       1\n",
       "45       magnificum       1\n",
       "46         coccinea       1\n",
       "48      auricularis       1\n",
       "53        alaternus       1\n",
       "59   chamaemespilus       1\n",
       "64        monticola       1\n",
       "65        coronaria       1\n",
       "72        splendens       1\n",
       "89        hispanica       1\n",
       "90           laevis       1\n",
       "98           opalus       1\n",
       "102         strobus       1\n",
       "103       liliflora       1\n",
       "106          sativa       1\n",
       "110         royalty       1\n",
       "116    verticillata       1\n",
       "118          incisa       1\n",
       "121      parvifolia       1\n",
       "126        drupacea       1\n",
       "141      macrocarpa       1\n",
       "146        thyphina       1\n",
       "187        watereri       1\n",
       "195        julianae       1\n",
       "197           gunii       1\n",
       "202   quadrangulata       1\n",
       "208            kaki       1\n",
       "209       heptapeta       1\n",
       "212      lasiocarpa       1\n",
       "220    heterophylla       1\n",
       "242     formonensis       1\n",
       "243        pisifera       1\n",
       "246   elaeagnifolia       1"
      ]
     },
     "execution_count": 57,
     "metadata": {},
     "output_type": "execute_result"
    }
   ],
   "source": [
    "# Les arbres uniques à Grenoble\n",
    "df_repartition[df_repartition['Nombre'] == 1]"
   ]
  },
  {
   "cell_type": "markdown",
   "metadata": {},
   "source": [
    "Description générale => pas beaucoup d'intérêt dans ce cas"
   ]
  },
  {
   "cell_type": "code",
   "execution_count": 58,
   "metadata": {},
   "outputs": [
    {
     "data": {
      "text/plain": [
       "count     255.000000\n",
       "mean      113.933333\n",
       "std       357.936540\n",
       "min         1.000000\n",
       "25%         3.000000\n",
       "50%        12.000000\n",
       "75%        74.000000\n",
       "max      4422.000000\n",
       "Name: Nombre, dtype: float64"
      ]
     },
     "execution_count": 58,
     "metadata": {},
     "output_type": "execute_result"
    }
   ],
   "source": [
    "df_repartition['Nombre'].describe()"
   ]
  },
  {
   "cell_type": "markdown",
   "metadata": {},
   "source": [
    "Plot des 50 espèces les plus représentées à Grenoble"
   ]
  },
  {
   "cell_type": "code",
   "execution_count": 97,
   "metadata": {},
   "outputs": [
    {
     "data": {
      "image/png": "[encoded data removed]",
      "text/plain": [
       "<Figure size 2000x480 with 1 Axes>"
      ]
     },
     "metadata": {},
     "output_type": "display_data"
    }
   ],
   "source": [
    "plt.figure(figsize=(25,6))\n",
    "df_repartition.nlargest(50, 'Nombre').plot(kind='bar',x='Espece',y='Nombre', ax = plt.gca())\n",
    "plt.ylabel(\"Nombre d'arbres\")\n",
    "plt.title(\"Combien d'arbres par espèce à Grenoble ? \")\n",
    "plt.show()"
   ]
  },
  {
   "cell_type": "code",
   "execution_count": 90,
   "metadata": {},
   "outputs": [
    {
     "data": {
      "image/png": "[encoded data removed]",
      "text/plain": [
       "<Figure size 240x320 with 1 Axes>"
      ]
     },
     "metadata": {},
     "output_type": "display_data"
    }
   ],
   "source": [
    "# Répartition des 10 espèces les plus représentées dans un Pie Chart\n",
    "nbre = 10\n",
    "labels = df_repartition.nlargest(nbre, 'Nombre')[\"Espece\"]\n",
    "sizes = df_repartition.nlargest(nbre, 'Nombre')[\"Nombre\"]\n",
    "\n",
    "plt.figure(figsize=(3,4))\n",
    "ax1 = plt.gca()\n",
    "ax1.pie(sizes, labels=labels, autopct='%1.0f%%', shadow=True, startangle=90)\n",
    "ax1.axis('equal')  # Equal aspect ratio ensures that pie is drawn as a circle.\n",
    "plt.title(f\"Répartition des {nbre} espèces \\n les plus représentées\")\n",
    "plt.show()"
   ]
  },
  {
   "cell_type": "code",
   "execution_count": 87,
   "metadata": {
    "scrolled": false
   },
   "outputs": [
    {
     "data": {
      "image/png": "[encoded data removed]",
      "text/plain": [
       "<Figure size 240x480 with 1 Axes>"
      ]
     },
     "metadata": {},
     "output_type": "display_data"
    }
   ],
   "source": [
    "nbre = 5\n",
    "\n",
    "plus_representes = df_repartition.nlargest(nbre, 'Nombre')[\"Nombre\"].sum()\n",
    "moins_representes = df.shape[0]\n",
    "sizes = [plus_representes, moins_representes]\n",
    "labels = [f\"Les {nbre} espèces \\n les + plantées\", f\"Les {df_repartition.shape[0]} espèces \\n restantes\"]\n",
    "\n",
    "plt.figure(figsize=(3,6))\n",
    "ax1 = plt.gca()\n",
    "ax1.pie(sizes, labels=labels, autopct='%1.0f%%', shadow=True, startangle=90)\n",
    "plt.title(f\"Sur-représentation de {nbre} espèces \\n par rapport au reste\")\n",
    "plt.show()"
   ]
  },
  {
   "cell_type": "markdown",
   "metadata": {},
   "source": [
    "### Exploration de la hiérarchie : genre botanique / espèce / variété \n",
    "\n",
    "genre botanique <br>\n",
    "&emsp; &emsp; |_ espèce <br>\n",
    "&emsp; &emsp; &emsp; &emsp; |_ variété <br>\n",
    "<br> <br>\n",
    "La variable sets_genre est une série dont les index sont les genre botaniques, la valeur associée à chaque genre botanique est un set des espèces représentées"
   ]
  },
  {
   "cell_type": "code",
   "execution_count": 197,
   "metadata": {},
   "outputs": [
    {
     "name": "stdout",
     "output_type": "stream",
     "text": [
      "Trachycarpus                                           {fortunei}\n",
      "Platanus                  {nan, orientalis, platanor, acerifolia}\n",
      "Eriobotrya                                             {japonica}\n",
      "Liriodendron                                    {nan, tulipifera}\n",
      "Chitalpa                                          {tashkentensis}\n",
      "                                      ...                        \n",
      "Mespilus                                              {germanica}\n",
      "Sorbopyrus                                          {auricularis}\n",
      "Olea                                                   {europaea}\n",
      "Magnolia        {nan, liliflora, grandiflora, soulangeana, hyb...\n",
      "Eucalyptus                                                {gunii}\n",
      "Length: 112, dtype: object\n"
     ]
    }
   ],
   "source": [
    "sets_genre = pd.Series(index=list(sets['GENRE_BOTA']), \n",
    "                       data=[set() for _ in range(112)])\n",
    "\n",
    "for genre in sets_genre.index:\n",
    "    list_espece = df[df.GENRE_BOTA == genre]['ESPECE'].values\n",
    "    for espece in list_espece:\n",
    "        sets_genre[genre].add(espece)     \n",
    "        \n",
    "print(sets_genre)"
   ]
  },
  {
   "cell_type": "markdown",
   "metadata": {},
   "source": [
    "Combien d'espèces par genre botanique ?"
   ]
  },
  {
   "cell_type": "code",
   "execution_count": 202,
   "metadata": {
    "scrolled": true
   },
   "outputs": [
    {
     "name": "stdout",
     "output_type": "stream",
     "text": [
      "Trachycarpus : 1\n",
      "Platanus : 4\n",
      "Eriobotrya  : 1\n",
      "Liriodendron : 2\n",
      "Chitalpa : 1\n",
      "Pinus : 7\n",
      "Chionanthus : 2\n",
      "Sterculia : 1\n",
      "Chimonanthus : 1\n",
      "Sequoia : 1\n",
      "Thuja : 3\n",
      "Koelreuteria : 1\n",
      "Alnus : 5\n",
      "Abies : 4\n",
      "Gleditsia : 2\n",
      "Rhamnus : 1\n",
      "Rhus : 2\n",
      "Amélanchier : 5\n",
      "Corylus : 3\n",
      "Buxus : 1\n",
      "Poncinos : 1\n",
      "Sequoiadendron : 2\n",
      "Betula : 7\n",
      "Fraxinus : 12\n",
      "Halesia : 2\n",
      "Liquidambar : 3\n",
      "Sophora : 2\n",
      "Pterostyrax : 1\n",
      "Salix : 10\n",
      "Cotinus : 1\n",
      "Laburnum : 2\n",
      "Punica : 1\n",
      "Taxodium : 1\n",
      "Carpinus : 2\n",
      "Cydonia : 2\n",
      "Catalpa : 1\n",
      "Picea : 6\n",
      "Robinia : 4\n",
      "Phellodendron : 1\n",
      "Lonicera : 2\n",
      "Staphylea : 1\n",
      "Ilex : 1\n",
      "Styrax : 1\n",
      "Calocedrus : 1\n",
      "Acer : 27\n",
      "Syringa : 3\n",
      "Crataegus : 7\n",
      "Fagus : 1\n",
      "Morus : 4\n",
      "Phillyrea : 1\n",
      "Ficus : 2\n",
      "Malus : 11\n",
      "Pterocarya : 2\n",
      "Quercus : 21\n",
      "Cedrela : 1\n",
      "Araucaria : 1\n",
      "Cedrus : 5\n",
      "Castanea : 1\n",
      "Photinia : 1\n",
      "Maclura : 1\n",
      "Sorbus : 8\n",
      "Libocedrus : 1\n",
      "Davidia : 1\n",
      "Tetradium : 1\n",
      "Fontanesia : 1\n",
      "Sambucus : 1\n",
      "Juniperus : 3\n",
      "Cladastris : 1\n",
      "Cercis : 4\n",
      "Larix : 1\n",
      "Pteroceltis : 1\n",
      "Hovenia : 1\n",
      "Cornus : 3\n",
      "Ptelea : 1\n",
      "Metasequoia : 1\n",
      "Clerodendron : 1\n",
      "Tilia : 9\n",
      "Ligustrum : 2\n",
      "Cupressocyparis : 1\n",
      "Cryptomeria : 1\n",
      "Nyssa : 1\n",
      "Chamaecyparis : 4\n",
      "Albizia : 1\n",
      "Ginkgo : 1\n",
      "Prunus : 20\n",
      "Taxus : 1\n",
      "Aesculus : 5\n",
      "Parrotia : 1\n",
      "Celtis : 5\n",
      "Populus : 8\n",
      "Zelkova : 2\n",
      "Ailanthus : 1\n",
      "Diospyros : 4\n",
      "Sciadopitys : 1\n",
      "Cercidiphyllum : 2\n",
      "Cupressus : 3\n",
      "Ostrya : 1\n",
      "Gymnocladus : 1\n",
      "Broussonetia : 1\n",
      "Cephalotaxus : 1\n",
      "Eleagnus : 1\n",
      "Paulownia : 2\n",
      "Pistacia : 1\n",
      "Ulmus : 8\n",
      "Juglans : 2\n",
      "Lagerstroemia : 1\n",
      "Pyrus : 7\n",
      "Mespilus : 1\n",
      "Sorbopyrus : 1\n",
      "Olea : 1\n",
      "Magnolia : 8\n",
      "Eucalyptus : 1\n"
     ]
    }
   ],
   "source": [
    "counter = 0; \n",
    "for genre in sets_genre.index:\n",
    "    counter += len(sets_genre[genre])\n",
    "    print(f\"{genre} : {len(sets_genre[genre])}\")"
   ]
  },
  {
   "cell_type": "markdown",
   "metadata": {},
   "source": [
    "## Problème !!\n",
    "On est censé trouvé le même nombre entre le nombre d'espèce catégorisées, et le nombre d'espèces total que l'on avait identifié dans le dataframe initial. Sinon ça veut dire qu'une espèce appartient potentiellement à plusieurs genre botaniques ? <br>\n",
    "==> Prochaine étape : voir quels sont les doublons"
   ]
  },
  {
   "cell_type": "code",
   "execution_count": 201,
   "metadata": {},
   "outputs": [
    {
     "name": "stdout",
     "output_type": "stream",
     "text": [
      "Nombre total d'espèce catégorisées : 345\n"
     ]
    }
   ],
   "source": [
    "print(f\"Nombre total d'espèce catégorisées : {counter}\")"
   ]
  },
  {
   "cell_type": "markdown",
   "metadata": {},
   "source": [
    "Idem pour les variétés"
   ]
  },
  {
   "cell_type": "code",
   "execution_count": 196,
   "metadata": {},
   "outputs": [],
   "source": [
    "sets_espece = pd.Series(index=list(sets['ESPECE']), \n",
    "                       data=[set() for _ in range(255)])\n",
    "\n",
    "for genre in sets_genre.index:\n",
    "    list_espece = df[df.GENRE_BOTA == genre]['ESPECE'].values\n",
    "    for espece in list_espece:\n",
    "        sets_genre[genre].add(espece)        "
   ]
  }
 ],
 "metadata": {
  "kernelspec": {
   "display_name": "Python 3",
   "language": "python",
   "name": "python3"
  },
  "language_info": {
   "codemirror_mode": {
    "name": "ipython",
    "version": 3
   },
   "file_extension": ".py",
   "mimetype": "text/x-python",
   "name": "python",
   "nbconvert_exporter": "python",
   "pygments_lexer": "ipython3",
   "version": "3.7.5"
  }
 },
 "nbformat": 4,
 "nbformat_minor": 2
}
