{
 "cells": [
  {
   "cell_type": "markdown",
   "metadata": {},
   "source": [
    "# Kit de démarrage pour le projet"
   ]
  },
  {
   "cell_type": "code",
   "execution_count": 17,
   "metadata": {},
   "outputs": [],
   "source": [
    "# Chargement des deux premières lignes du csv dans une liste\n",
    "# Nous rangeons les données dans la variable \"trees\"\n",
    "\n",
    "# Source : \n",
    "# 1 => https://docs.python.org/fr/3/library/csv.html \n",
    "# 2 => http://zetcode.com/python/csv/\n",
    "\n",
    "import csv\n",
    "\n",
    "trees = []\n",
    "with open('data/trees.csv') as file:\n",
    "    csvreader = csv.reader(file, delimiter=',')\n",
    "    for i, row in enumerate(csvreader):\n",
    "        trees.append(row)\n",
    "        if i==2:\n",
    "            break"
   ]
  },
  {
   "cell_type": "code",
   "execution_count": 23,
   "metadata": {
    "scrolled": true
   },
   "outputs": [
    {
     "data": {
      "text/plain": [
       "list"
      ]
     },
     "execution_count": 23,
     "metadata": {},
     "output_type": "execute_result"
    }
   ],
   "source": [
    "# To Do : Quel est le type de la variable \"trees\" ?\n",
    "# Source : https://docs.python.org/fr/3/library/stdtypes.html \n",
    "\n",
    "type(trees)"
   ]
  },
  {
   "cell_type": "code",
   "execution_count": null,
   "metadata": {},
   "outputs": [],
   "source": [
    "# To Do : Comment accède-t-on à un élément de la variable \"trees\" ?\n",
    "# Quel est le type de chaque élément de la variable \"trees\" ?\n",
    "\n",
    "# Help : https://www.w3schools.com/python/python_lists.asp \n",
    "\n"
   ]
  },
  {
   "cell_type": "code",
   "execution_count": null,
   "metadata": {},
   "outputs": [],
   "source": [
    "# To Do : Comment accède-t-on au champ concernant l'année de plantation du 1er arbre ?\n",
    "\n",
    "# Help : https://www.youtube.com/watch?v=ajrtAuDg3yw&list=PL-osiE80TeTt2d9bfVyTiXJA-UTHn6WwU&index=19 \n",
    "# Help : https://developers.google.com/edu/python/lists \n",
    "\n",
    "\n"
   ]
  },
  {
   "cell_type": "code",
   "execution_count": null,
   "metadata": {},
   "outputs": [],
   "source": [
    "# To Do : Reprendre la 1ère cellule et lire les 50 premières lignes du csv \n",
    "\n",
    "# Vous pouvez modifier le code de la 1ère cellule ou écrire \n",
    "# une nouvelle version modifiée ici. \n",
    "\n",
    "\n"
   ]
  },
  {
   "cell_type": "code",
   "execution_count": null,
   "metadata": {},
   "outputs": [],
   "source": [
    "# Ecrire une fonction \"load_N_lines()\" qui prend en paramètre d'entrée le nombre de lignes \n",
    "# à lire dans le csv et retourne une liste contenant les bonnes informations\n",
    "\n",
    "# Source : \n",
    "# 1 : https://www.w3schools.com/python/python_functions.asp \n",
    "# 2 : https://www.youtube.com/watch?v=9Os0o3wzS_I\n",
    "# 3 : https://www.tutorialspoint.com/python3/python_functions.htm \n"
   ]
  },
  {
   "cell_type": "code",
   "execution_count": null,
   "metadata": {},
   "outputs": [],
   "source": [
    "# Vous avez maintenant une liste dans laquelle est rangée beaucoup d'information. \n",
    "# Chaque élément de cette liste renferme toutes les infos sur un arbre particulier. \n",
    " \n",
    "# To Do : Essayer d'isoler l'information correspondant à l'année de plantation \n",
    "# dans une variable que vous appelerez \"annees_de_plantation\"\n",
    "\n",
    "# Source : https://developers.google.com/edu/python/lists \n",
    "# 1 : https://www.w3schools.com/python/python_for_loops.asp \n",
    "# 2 : https://www.youtube.com/watch?v=6iF8Xb7Z3wQ&list=PL-osiE80TeTt2d9bfVyTiXJA-UTHn6WwU&index=7 \n",
    "\n",
    "\n",
    "\n"
   ]
  },
  {
   "cell_type": "code",
   "execution_count": null,
   "metadata": {},
   "outputs": [],
   "source": [
    "# Fouillez un peu pour voir les opérations que vous pouvez effectuer sur une liste\n",
    "# Source : https://www.w3schools.com/python/python_ref_list.asp\n",
    "\n",
    "\n"
   ]
  },
  {
   "cell_type": "code",
   "execution_count": null,
   "metadata": {},
   "outputs": [],
   "source": [
    "# To Do : Idem exercice précédent mais cette fois stockez l'information \n",
    "# concernant le genre botanique dans une variable nommée \"genres_botaniques\"\n",
    "\n",
    "\n"
   ]
  },
  {
   "cell_type": "code",
   "execution_count": null,
   "metadata": {},
   "outputs": [],
   "source": [
    "# Vous avez maintenant deux liste : \"annees_de_plantation\" et \"genres_botaniques\"\n",
    "# Essayez de \"rassembler\" l'information en une seule liste de tuples\n",
    "\n",
    "# Source : \n",
    "# 1 : https://www.w3schools.com/python/python_tuples.asp\n",
    "# 2 : https://www.youtube.com/watch?v=W8KRzm-HUcc&list=PL-osiE80TeTt2d9bfVyTiXJA-UTHn6WwU&index=4 \n",
    "\n",
    "\n"
   ]
  },
  {
   "cell_type": "code",
   "execution_count": null,
   "metadata": {},
   "outputs": [],
   "source": [
    "# Essayez de \"nettoyer\" cette liste de tuple, dans notre cas nous aller \n",
    "# supprimer les éléments pour lesquels l'information de genre botanique \n",
    "# ou d'année de plantation est manquante \n",
    "\n",
    "# Tip => Boucle for et conditions \n",
    "\n",
    "\n",
    "\n"
   ]
  },
  {
   "cell_type": "code",
   "execution_count": null,
   "metadata": {},
   "outputs": [],
   "source": [
    "# Essayer de trier cette liste en fonction de l'année de plantation \n",
    "\n",
    "# Source : https://www.pythoncentral.io/how-to-sort-a-list-tuple-or-object-with-sorted-in-python/ \n",
    "# Tip : pensez à écrire une fonction qui permlet d'accéder à l'information concernant l'année de plantation \n",
    "\n",
    "\n",
    "\n",
    "\n"
   ]
  },
  {
   "cell_type": "code",
   "execution_count": null,
   "metadata": {},
   "outputs": [],
   "source": [
    "# Source supplémentaire pour comprendre le \"import csv\" de la 1ère cellule\n",
    "# https://www.youtube.com/watch?v=CqvZ3vGoGs0 "
   ]
  }
 ],
 "metadata": {
  "kernelspec": {
   "display_name": "arbres",
   "language": "python",
   "name": "arbres"
  },
  "language_info": {
   "codemirror_mode": {
    "name": "ipython",
    "version": 3
   },
   "file_extension": ".py",
   "mimetype": "text/x-python",
   "name": "python",
   "nbconvert_exporter": "python",
   "pygments_lexer": "ipython3",
   "version": "3.7.5"
  },
  "toc": {
   "base_numbering": 1,
   "nav_menu": {},
   "number_sections": true,
   "sideBar": true,
   "skip_h1_title": false,
   "title_cell": "Table of Contents",
   "title_sidebar": "Contents",
   "toc_cell": false,
   "toc_position": {},
   "toc_section_display": true,
   "toc_window_display": false
  },
  "varInspector": {
   "cols": {
    "lenName": 16,
    "lenType": 16,
    "lenVar": 40
   },
   "kernels_config": {
    "python": {
     "delete_cmd_postfix": "",
     "delete_cmd_prefix": "del ",
     "library": "var_list.py",
     "varRefreshCmd": "print(var_dic_list())"
    },
    "r": {
     "delete_cmd_postfix": ") ",
     "delete_cmd_prefix": "rm(",
     "library": "var_list.r",
     "varRefreshCmd": "cat(var_dic_list()) "
    }
   },
   "types_to_exclude": [
    "module",
    "function",
    "builtin_function_or_method",
    "instance",
    "_Feature"
   ],
   "window_display": false
  }
 },
 "nbformat": 4,
 "nbformat_minor": 2
}
