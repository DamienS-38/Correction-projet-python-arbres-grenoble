{
 "cells": [
  {
   "cell_type": "markdown",
   "metadata": {},
   "source": [
    "# Itération 1"
   ]
  },
  {
   "cell_type": "markdown",
   "metadata": {
    "heading_collapsed": true
   },
   "source": [
    "## Load the data\n",
    "Extraire l’ensemble des lignes (rows) et stocker ces informations dans une variable de type List "
   ]
  },
  {
   "cell_type": "code",
   "execution_count": 2,
   "metadata": {
    "hidden": true
   },
   "outputs": [],
   "source": [
    "import csv\n",
    "data = []\n",
    "with open('./data/trees.csv', newline='') as csvfile:\n",
    "    treereader = csv.reader(csvfile, delimiter=',')\n",
    "    data = list(treereader)"
   ]
  },
  {
   "cell_type": "markdown",
   "metadata": {
    "heading_collapsed": true,
    "jp-MarkdownHeadingCollapsed": true,
    "tags": []
   },
   "source": [
    "## Select parts of the data"
   ]
  },
  {
   "cell_type": "markdown",
   "metadata": {
    "heading_collapsed": true,
    "tags": []
   },
   "source": [
    "### Selectionner les deux premières lignes de ce csv. Que représentent elles ?"
   ]
  },
  {
   "cell_type": "code",
   "execution_count": 4,
   "metadata": {
    "hidden": true,
    "tags": []
   },
   "outputs": [
    {
     "data": {
      "text/plain": [
       "['\\ufeffELEM_POINT_ID',\n",
       " 'CODE',\n",
       " 'NOM',\n",
       " 'GENRE',\n",
       " 'GENRE_DESC',\n",
       " 'CATEGORIE',\n",
       " 'CATEGORIE_DESC',\n",
       " 'SOUS_CATEGORIE',\n",
       " 'SOUS_CATEGORIE_DESC',\n",
       " 'CODE_PARENT',\n",
       " 'CODE_PARENT_DESC',\n",
       " 'ADR_SECTEUR',\n",
       " 'BIEN_REFERENCE',\n",
       " 'GENRE_BOTA',\n",
       " 'ESPECE',\n",
       " 'VARIETE',\n",
       " 'STADEDEDEVELOPPEMENT',\n",
       " 'EQUIPE',\n",
       " 'REMARQUES',\n",
       " 'ANNEEDEPLANTATION',\n",
       " 'RAISONDEPLANTATION',\n",
       " 'TRAITEMENTCHENILLES',\n",
       " 'COURRIER',\n",
       " 'IDENTIFIANTPLU',\n",
       " 'TYPEIMPLANTATIONPLU',\n",
       " 'INTITULEPROTECTIONPLU',\n",
       " 'ANNEEABATTAGE',\n",
       " 'ESSOUCHEMENT',\n",
       " 'DIAMETREARBRE',\n",
       " 'CAUSEABATTAGE',\n",
       " 'COLLECTIVITE',\n",
       " 'GeoJSON']"
      ]
     },
     "execution_count": 4,
     "metadata": {},
     "output_type": "execute_result"
    }
   ],
   "source": [
    "data[0]"
   ]
  },
  {
   "cell_type": "code",
   "execution_count": 5,
   "metadata": {
    "hidden": true
   },
   "outputs": [
    {
     "data": {
      "text/plain": [
       "['37993',\n",
       " 'ESP37969',\n",
       " 'ESP37969',\n",
       " 'VEG',\n",
       " 'VEGETATION',\n",
       " 'ESP01',\n",
       " 'Arbre',\n",
       " 'ESP065',\n",
       " \"Arbre d'enceintes fermées\",\n",
       " 'ESP37898',\n",
       " 'Maison des Collines Jard Poisat',\n",
       " '6',\n",
       " 'AR37969',\n",
       " '',\n",
       " '',\n",
       " '',\n",
       " '',\n",
       " '',\n",
       " '',\n",
       " '',\n",
       " '',\n",
       " '',\n",
       " '',\n",
       " '',\n",
       " '',\n",
       " '',\n",
       " '',\n",
       " '',\n",
       " '',\n",
       " '',\n",
       " '',\n",
       " '{\"type\":\"Point\",\"coordinates\":[5.76034690089422,45.1543159441061]}']"
      ]
     },
     "execution_count": 5,
     "metadata": {},
     "output_type": "execute_result"
    }
   ],
   "source": [
    "data[1]"
   ]
  },
  {
   "cell_type": "markdown",
   "metadata": {
    "heading_collapsed": true
   },
   "source": [
    "### Afficher la 2ème colonne de chacune de ces deux lignes. "
   ]
  },
  {
   "cell_type": "code",
   "execution_count": 6,
   "metadata": {
    "hidden": true
   },
   "outputs": [
    {
     "data": {
      "text/plain": [
       "'CODE'"
      ]
     },
     "execution_count": 6,
     "metadata": {},
     "output_type": "execute_result"
    }
   ],
   "source": [
    "data[0][1]"
   ]
  },
  {
   "cell_type": "code",
   "execution_count": 7,
   "metadata": {
    "hidden": true
   },
   "outputs": [
    {
     "data": {
      "text/plain": [
       "'ESP37969'"
      ]
     },
     "execution_count": 7,
     "metadata": {},
     "output_type": "execute_result"
    }
   ],
   "source": [
    "data[1][1]"
   ]
  },
  {
   "cell_type": "markdown",
   "metadata": {
    "heading_collapsed": true
   },
   "source": [
    "### Extraire l’information concernant l’année de plantation pour l’ensemble des lignes (rows) et stocker ces informations dans une autre variable de type List\n",
    "Vous pouvez essayer avec une boucle for : https://www.w3schools.com/python/python_for_loops.asp "
   ]
  },
  {
   "cell_type": "code",
   "execution_count": 8,
   "metadata": {
    "hidden": true
   },
   "outputs": [],
   "source": [
    "# Boucle for \n",
    "annees_plantation = []\n",
    "for row in data:\n",
    "    annees_plantation.append(row[19])\n",
    "    \n",
    "# List comprehension\n",
    "annees_plantation = [row[19] for row in data]"
   ]
  },
  {
   "cell_type": "markdown",
   "metadata": {
    "heading_collapsed": true
   },
   "source": [
    "### Afficher les 50 premières lignes et les 50 dernières lignes de cette liste."
   ]
  },
  {
   "cell_type": "code",
   "execution_count": 29,
   "metadata": {
    "hidden": true
   },
   "outputs": [
    {
     "data": {
      "text/plain": [
       "['ANNEEDEPLANTATION',\n",
       " '',\n",
       " '',\n",
       " '',\n",
       " '',\n",
       " '',\n",
       " '',\n",
       " '',\n",
       " '',\n",
       " '',\n",
       " '',\n",
       " '',\n",
       " '',\n",
       " '',\n",
       " '2017']"
      ]
     },
     "execution_count": 29,
     "metadata": {},
     "output_type": "execute_result"
    }
   ],
   "source": [
    "annees_plantation[:15]"
   ]
  },
  {
   "cell_type": "code",
   "execution_count": 30,
   "metadata": {
    "hidden": true
   },
   "outputs": [
    {
     "data": {
      "text/plain": [
       "['2001',\n",
       " '2001',\n",
       " '2001',\n",
       " '2001',\n",
       " '2001',\n",
       " '2001',\n",
       " '2001',\n",
       " '2001',\n",
       " '2001',\n",
       " '2001',\n",
       " '2001',\n",
       " '2001',\n",
       " '2001',\n",
       " '2001',\n",
       " '2001']"
      ]
     },
     "execution_count": 30,
     "metadata": {},
     "output_type": "execute_result"
    }
   ],
   "source": [
    "annees_plantation[-15:]"
   ]
  },
  {
   "cell_type": "markdown",
   "metadata": {
    "tags": []
   },
   "source": [
    "## Counting the data"
   ]
  },
  {
   "cell_type": "markdown",
   "metadata": {},
   "source": [
    "### Combien d’arbres sont recensés dans ce jeu de données ?\n"
   ]
  },
  {
   "cell_type": "code",
   "execution_count": 31,
   "metadata": {},
   "outputs": [],
   "source": [
    "nombre_arbres = len(data) - 1  # On enlève le header"
   ]
  },
  {
   "cell_type": "markdown",
   "metadata": {},
   "source": [
    "### Pour combien d’arbres manque-t-il l’information concernant la date de plantation ? (Vous pouvez essayer de le faire d’au moins deux manières différentes.)"
   ]
  },
  {
   "cell_type": "code",
   "execution_count": 28,
   "metadata": {},
   "outputs": [
    {
     "data": {
      "text/plain": [
       "442"
      ]
     },
     "execution_count": 28,
     "metadata": {},
     "output_type": "execute_result"
    }
   ],
   "source": [
    "# Méthode 1\n",
    "annees_plantation.count('')\n",
    "\n",
    "#Methode 2\n",
    "nombre = 0\n",
    "for annee in annees_plantation:\n",
    "    if annee == '':\n",
    "        nombre += 1\n",
    "        \n",
    "# Méthode 3\n",
    "liste_annees_manquantes = [annee for annee in annees_plantation if annee == '']\n",
    "nombre =  len(liste_annees_manquantes)\n",
    "\n",
    "# Méthode 4\n",
    "liste_annees_manquantes = map(lambda annee: len(annee) == 0, annees_plantation)\n",
    "nombre = sum(liste_annees_manquantes)\n",
    "\n",
    "# Methode 5\n",
    "liste_annees_manquantes = list(filter(lambda annee: len(annee) == 0, annees_plantation))\n",
    "nombre = len(liste_annees_manquantes)\n",
    "\n",
    "\n",
    "# Methode 6 (plus exotique)\n",
    "from functools import reduce\n",
    "reduce(\n",
    "    lambda acc, val: acc + 1 if len(val) == 0 else acc,\n",
    "    annees_plantation,\n",
    "    0)"
   ]
  },
  {
   "cell_type": "markdown",
   "metadata": {},
   "source": [
    "### Combien d’arbres ont été plantés l’année de votre naissance ? \n"
   ]
  },
  {
   "cell_type": "code",
   "execution_count": 11,
   "metadata": {},
   "outputs": [
    {
     "data": {
      "text/plain": [
       "771"
      ]
     },
     "execution_count": 11,
     "metadata": {},
     "output_type": "execute_result"
    }
   ],
   "source": [
    "annees_plantation.count('1987')"
   ]
  },
  {
   "cell_type": "markdown",
   "metadata": {},
   "source": [
    "### Quelle est la plus ancienne année de plantation recensée dans ce dataset ? La plus récente ?    "
   ]
  },
  {
   "cell_type": "code",
   "execution_count": 47,
   "metadata": {},
   "outputs": [
    {
     "data": {
      "text/plain": [
       "1950"
      ]
     },
     "execution_count": 47,
     "metadata": {},
     "output_type": "execute_result"
    }
   ],
   "source": [
    "# Méhode 1 (année min)\n",
    "annees_recensees = []\n",
    "for annee in annees_plantation:\n",
    "    if annee.isdigit():\n",
    "        annees_recensees.append(int(annee))\n",
    "        \n",
    "min(annees_recensees)\n",
    "\n",
    "\n",
    "# Méthode 2 (année min)\n",
    "annees_recensees = [int(annee) for annee in annees_plantation if annee.isdigit()]\n",
    "min(annees_recensees)\n",
    "\n",
    "\n",
    "# Méthode 3 (bricolage)\n",
    "annees_recensees = [int(annee or 2025) for annee in annees_plantation[1:] ]\n",
    "min(annees_recensees)"
   ]
  },
  {
   "cell_type": "code",
   "execution_count": 48,
   "metadata": {},
   "outputs": [
    {
     "data": {
      "text/plain": [
       "True"
      ]
     },
     "execution_count": 48,
     "metadata": {},
     "output_type": "execute_result"
    }
   ],
   "source": [
    "# Attention !!! \n",
    "# String int comparés en ordre alphabétique \n",
    "# D'où l'utilité du typage int\n",
    "\n",
    "'1950' > '19400'"
   ]
  },
  {
   "cell_type": "markdown",
   "metadata": {},
   "source": [
    "### Combien d’arbres ont été plantés année par année (ex : 1987 : 771, 1988 : 266, etc…) ?"
   ]
  },
  {
   "cell_type": "code",
   "execution_count": 50,
   "metadata": {},
   "outputs": [
    {
     "data": {
      "text/plain": [
       "[422, 0, 0, 0, 0]"
      ]
     },
     "execution_count": 50,
     "metadata": {},
     "output_type": "execute_result"
    }
   ],
   "source": [
    "yearly_count = []\n",
    "for annee in range(1950, 2021):\n",
    "    yearly_count.append(annees_recensees.count(annee))\n",
    "    \n",
    "yearly_count[:5]"
   ]
  },
  {
   "cell_type": "markdown",
   "metadata": {},
   "source": [
    "### Combien d’arbres ont été plantés en moyenne chaque année ?   \n"
   ]
  },
  {
   "cell_type": "code",
   "execution_count": 52,
   "metadata": {},
   "outputs": [],
   "source": [
    "# Méthode 1\n",
    "from statistics import mean\n",
    "mean(yearly_count)\n",
    "\n",
    "# Méthode 2\n",
    "moyenne_annuelle = sum(yearly_count)/len(yearly_count)"
   ]
  },
  {
   "cell_type": "markdown",
   "metadata": {
    "jp-MarkdownHeadingCollapsed": true,
    "tags": []
   },
   "source": [
    "## Manipulate data structures"
   ]
  },
  {
   "cell_type": "markdown",
   "metadata": {
    "tags": []
   },
   "source": [
    "### Tuples (annee, nombre arbres plantes)\n",
    "Stocker conjointement l’année de plantation et le nombre d’arbres plantés dans un tuple. \\\n",
    "Les tuples seront stockés dans une liste (ex : [ (‘1987’, 771), (‘1988’, 266), ….. ] )"
   ]
  },
  {
   "cell_type": "markdown",
   "metadata": {
    "tags": []
   },
   "source": [
    "#### Methode 1 : boucle"
   ]
  },
  {
   "cell_type": "code",
   "execution_count": 54,
   "metadata": {
    "collapsed": true,
    "jupyter": {
     "outputs_hidden": true
    },
    "tags": []
   },
   "outputs": [
    {
     "data": {
      "text/plain": [
       "[(1950, 422), (1951, 0), (1952, 0), (1953, 0), (1954, 0)]"
      ]
     },
     "execution_count": 54,
     "metadata": {},
     "output_type": "execute_result"
    }
   ],
   "source": [
    "number_of_trees_per_year = []\n",
    "for annee in range(1950, 2021):\n",
    "    number_of_trees_per_year.append((annee, annees_recensees.count(annee)))\n",
    "    \n",
    "number_of_trees_per_year[:5]"
   ]
  },
  {
   "cell_type": "markdown",
   "metadata": {
    "tags": []
   },
   "source": [
    "#### Methode 2 : methode count et comprehension de liste"
   ]
  },
  {
   "cell_type": "code",
   "execution_count": 99,
   "metadata": {
    "tags": []
   },
   "outputs": [],
   "source": [
    "number_of_trees_per_year = [ (annee, annees_recensees.count(annee)) for annee in range(1950,2021) ]"
   ]
  },
  {
   "cell_type": "markdown",
   "metadata": {
    "tags": []
   },
   "source": [
    "#### Methode 3 : avec zip et comprehension de list"
   ]
  },
  {
   "cell_type": "code",
   "execution_count": 100,
   "metadata": {
    "tags": []
   },
   "outputs": [],
   "source": [
    "# Methode 3\n",
    "number_of_trees_per_year = [ \n",
    "                            (annee, num) \n",
    "                            for annee, num \n",
    "                            in zip(range(1950,2021), yearly_count) \n",
    "]"
   ]
  },
  {
   "cell_type": "markdown",
   "metadata": {
    "tags": []
   },
   "source": [
    "### Quel Maire a planté le plus d’arbres à Grenoble ?"
   ]
  },
  {
   "cell_type": "code",
   "execution_count": 101,
   "metadata": {},
   "outputs": [
    {
     "data": {
      "text/plain": [
       "(1975, 3922)"
      ]
     },
     "execution_count": 101,
     "metadata": {},
     "output_type": "execute_result"
    }
   ],
   "source": [
    "max(\n",
    "    number_of_trees_per_year, \n",
    "    key=lambda annee_tuple: annee_tuple[1]\n",
    ")\n",
    "# Résultat --> 1975 --> Hubert Dubedout "
   ]
  },
  {
   "cell_type": "markdown",
   "metadata": {
    "tags": []
   },
   "source": [
    "### Création de tuples (annee, genre botanique)\n",
    "Récupérez maintenant l’information concernant le genre botanique et la stocker conjointement avec l’année de plantation dans un tuple. Les tuples seront stockés dans une liste (ex : [ (‘1987’, ‘Acer), (‘1988’, ‘Acerifolia), ….. ] )\n"
   ]
  },
  {
   "cell_type": "code",
   "execution_count": 102,
   "metadata": {
    "tags": []
   },
   "outputs": [
    {
     "data": {
      "text/plain": [
       "[('ANNEEDEPLANTATION', 'GENRE_BOTA'), ('', ''), ('', ''), ('', ''), ('', '')]"
      ]
     },
     "execution_count": 102,
     "metadata": {},
     "output_type": "execute_result"
    }
   ],
   "source": [
    "annee_genreBota = [(row[19], row[13]) for row in data] \n",
    "annee_genreBota[:5]"
   ]
  },
  {
   "cell_type": "markdown",
   "metadata": {
    "tags": []
   },
   "source": [
    "### Pour combien d'arbres manque-t-il l’information concernant le genre botanique ?"
   ]
  },
  {
   "cell_type": "markdown",
   "metadata": {
    "tags": []
   },
   "source": [
    "#### Methode 1 : boucle"
   ]
  },
  {
   "cell_type": "code",
   "execution_count": 103,
   "metadata": {
    "tags": []
   },
   "outputs": [],
   "source": [
    "# Méthode 1 \n",
    "missing = 0\n",
    "for row in annee_genreBota:\n",
    "    if row[1] == '':\n",
    "        missing += 1"
   ]
  },
  {
   "cell_type": "markdown",
   "metadata": {
    "tags": []
   },
   "source": [
    "#### Methode 2 : comprehension"
   ]
  },
  {
   "cell_type": "code",
   "execution_count": 104,
   "metadata": {
    "tags": []
   },
   "outputs": [
    {
     "data": {
      "text/plain": [
       "515"
      ]
     },
     "execution_count": 104,
     "metadata": {},
     "output_type": "execute_result"
    }
   ],
   "source": [
    "# Méthode 2 \n",
    "sum([1 for row in annee_genreBota if row[1] == ''])"
   ]
  },
  {
   "cell_type": "markdown",
   "metadata": {
    "tags": []
   },
   "source": [
    "#### Methode 3 : filter"
   ]
  },
  {
   "cell_type": "code",
   "execution_count": 105,
   "metadata": {
    "tags": []
   },
   "outputs": [
    {
     "data": {
      "text/plain": [
       "515"
      ]
     },
     "execution_count": 105,
     "metadata": {},
     "output_type": "execute_result"
    }
   ],
   "source": [
    "# Méthode 3\n",
    "len(list(filter(lambda row: row[1] == '', annee_genreBota)))"
   ]
  },
  {
   "cell_type": "markdown",
   "metadata": {},
   "source": [
    "## Display the data"
   ]
  },
  {
   "cell_type": "markdown",
   "metadata": {},
   "source": [
    "### Utilisez Matplotlib pour tracer l’histogramme représentant le nombre d’arbres plantés par année."
   ]
  },
  {
   "cell_type": "markdown",
   "metadata": {
    "tags": []
   },
   "source": [
    "#### Methode 1 : line plot"
   ]
  },
  {
   "cell_type": "code",
   "execution_count": 106,
   "metadata": {
    "tags": []
   },
   "outputs": [
    {
     "data": {
      "image/png": "[encoded data removed]",
      "text/plain": [
       "<Figure size 1000x150 with 1 Axes>"
      ]
     },
     "metadata": {},
     "output_type": "display_data"
    }
   ],
   "source": [
    "import matplotlib.pyplot as plt\n",
    "plt.figure(figsize=(10,1.5))\n",
    "\n",
    "plt.plot(range(1950, 2021), yearly_count)\n",
    "plt.xlabel('année')\n",
    "plt.ylabel('nbre arbres plantés')\n",
    "plt.show()"
   ]
  },
  {
   "cell_type": "markdown",
   "metadata": {
    "tags": []
   },
   "source": [
    "#### Methode 2 : stem plot"
   ]
  },
  {
   "cell_type": "code",
   "execution_count": 107,
   "metadata": {
    "tags": []
   },
   "outputs": [
    {
     "data": {
      "image/png": "[encoded data removed]",
      "text/plain": [
       "<Figure size 1000x150 with 1 Axes>"
      ]
     },
     "metadata": {},
     "output_type": "display_data"
    }
   ],
   "source": [
    "plt.figure(figsize=(10,1.5))\n",
    "plt.stem(range(1950, 2021), yearly_count, basefmt=\" \")\n",
    "plt.xlabel('année')\n",
    "plt.ylabel('nbre arbres plantés')\n",
    "plt.show()"
   ]
  },
  {
   "cell_type": "markdown",
   "metadata": {
    "tags": []
   },
   "source": [
    "#### Methode 3 : bar plot"
   ]
  },
  {
   "cell_type": "code",
   "execution_count": 108,
   "metadata": {
    "tags": []
   },
   "outputs": [
    {
     "data": {
      "image/png": "[encoded data removed]",
      "text/plain": [
       "<Figure size 1000x150 with 1 Axes>"
      ]
     },
     "metadata": {},
     "output_type": "display_data"
    }
   ],
   "source": [
    "plt.figure(figsize=(10,1.5))\n",
    "plt.bar(range(1950, 2021), yearly_count)\n",
    "plt.xlabel('année')\n",
    "plt.ylabel('nbre arbres plantés')\n",
    "plt.show()"
   ]
  },
  {
   "cell_type": "markdown",
   "metadata": {
    "tags": []
   },
   "source": [
    "## Sort the data \n",
    "[ plus dur ] Triez les tuples en fonction de l’année de plantation par ordre décroissant."
   ]
  },
  {
   "cell_type": "code",
   "execution_count": 110,
   "metadata": {
    "tags": []
   },
   "outputs": [],
   "source": [
    "annee_genreBota_clean = [(int(row[19]), row[13]) for row in data if row[19].isdigit()] \n",
    "liste_triee = sorted(annee_genreBota_clean, key=lambda t:t[0], reverse=True)"
   ]
  },
  {
   "cell_type": "markdown",
   "metadata": {},
   "source": [
    "# Itération 2 "
   ]
  },
  {
   "cell_type": "markdown",
   "metadata": {},
   "source": [
    "## Genre uniques\n",
    "Pour commencer, identifiez tous les genres botaniques représentés à Grenoble.  Essayez plusieurs manières de résoudre ce problème.  "
   ]
  },
  {
   "cell_type": "markdown",
   "metadata": {
    "tags": []
   },
   "source": [
    "### Structure de données :  set"
   ]
  },
  {
   "cell_type": "code",
   "execution_count": 111,
   "metadata": {
    "tags": []
   },
   "outputs": [],
   "source": [
    "genre_bota = [row[13] for row in data[1:] if row[13] != '']\n",
    "\n",
    "# Méthode 1 \n",
    "genre_bota_uniques = set()\n",
    "for genre in genre_bota:\n",
    "    genre_bota_uniques.add(genre)\n",
    "\n",
    "# Méthode 2\n",
    "genre_bota_uniques = set([row[13] for row in data[1:] if row[13] != ''])"
   ]
  },
  {
   "cell_type": "markdown",
   "metadata": {
    "tags": []
   },
   "source": [
    "### Combien y en a-t-il ? "
   ]
  },
  {
   "cell_type": "code",
   "execution_count": 112,
   "metadata": {
    "tags": []
   },
   "outputs": [
    {
     "data": {
      "text/plain": [
       "112"
      ]
     },
     "execution_count": 112,
     "metadata": {},
     "output_type": "execute_result"
    }
   ],
   "source": [
    "# Combien y en a-t-il ? \n",
    "len(genre_bota_uniques)"
   ]
  },
  {
   "cell_type": "markdown",
   "metadata": {
    "tags": []
   },
   "source": [
    "## Especes différentes\n",
    "Identifiez maintenant toutes les espèces différentes présentes à Grenoble. N’oubliez pas que les espèces sont une sous catégorie de genre botanique ! (l’espèce est ‘Platanus Acerifolia’ et pas uniquement ‘Acerifolia’) "
   ]
  },
  {
   "cell_type": "code",
   "execution_count": 113,
   "metadata": {
    "tags": []
   },
   "outputs": [],
   "source": [
    "especes = [' '.join(row[13:15]) for row in data if row[13] != '' and row[14] != '']\n",
    "especes_uniques = set(especes)"
   ]
  },
  {
   "cell_type": "markdown",
   "metadata": {
    "tags": []
   },
   "source": [
    "### En utilisant la structure de données Dict compter le nombre de représentants de chaque genre botanique"
   ]
  },
  {
   "cell_type": "markdown",
   "metadata": {
    "tags": []
   },
   "source": [
    "#### Methode 1 : boucle"
   ]
  },
  {
   "cell_type": "code",
   "execution_count": 114,
   "metadata": {
    "tags": []
   },
   "outputs": [],
   "source": [
    "genre_bota_dict = {}\n",
    "for genre in genre_bota_uniques:\n",
    "    genre_bota_dict[genre] = genre_bota.count(genre)"
   ]
  },
  {
   "cell_type": "markdown",
   "metadata": {
    "tags": []
   },
   "source": [
    "#### Methode 2 : Counter"
   ]
  },
  {
   "cell_type": "code",
   "execution_count": 115,
   "metadata": {
    "tags": []
   },
   "outputs": [],
   "source": [
    "from collections import Counter\n",
    "cnt = Counter()\n",
    "for genre in genre_bota:\n",
    "    cnt[genre] += 1"
   ]
  },
  {
   "cell_type": "markdown",
   "metadata": {
    "tags": []
   },
   "source": [
    "#### Methode 3 : comprehension de dictionnaire"
   ]
  },
  {
   "cell_type": "code",
   "execution_count": 136,
   "metadata": {
    "tags": []
   },
   "outputs": [],
   "source": [
    "genre_bota_dict = {genre:genre_bota.count(genre) for genre in genre_bota_uniques}"
   ]
  },
  {
   "cell_type": "markdown",
   "metadata": {
    "tags": []
   },
   "source": [
    "### Quel est le genre botanique le plus représenté ?"
   ]
  },
  {
   "cell_type": "markdown",
   "metadata": {
    "tags": []
   },
   "source": [
    "#### Methode 1"
   ]
  },
  {
   "cell_type": "code",
   "execution_count": 121,
   "metadata": {
    "tags": []
   },
   "outputs": [
    {
     "data": {
      "text/plain": [
       "('Acer', 5276)"
      ]
     },
     "execution_count": 121,
     "metadata": {},
     "output_type": "execute_result"
    }
   ],
   "source": [
    "# Genre botanique le plus représenté\n",
    "genre_bota_leader = max(genre_bota_dict.items(), key=lambda x: x[1])\n",
    "genre_bota_leader"
   ]
  },
  {
   "cell_type": "markdown",
   "metadata": {
    "tags": []
   },
   "source": [
    "#### Methode 2"
   ]
  },
  {
   "cell_type": "code",
   "execution_count": 120,
   "metadata": {},
   "outputs": [],
   "source": [
    "espece = max(genre_bota_dict, key=genre_bota_dict.get)\n",
    "nombre = genre_bota_dict[espece]"
   ]
  },
  {
   "cell_type": "markdown",
   "metadata": {
    "tags": []
   },
   "source": [
    "### Listez tous les représentants uniques de leurs genre botanique  "
   ]
  },
  {
   "cell_type": "code",
   "execution_count": 31,
   "metadata": {
    "tags": []
   },
   "outputs": [
    {
     "data": {
      "text/plain": [
       "[('Nyssa', 1),\n",
       " ('Poncinos', 1),\n",
       " ('Castanea', 1),\n",
       " ('Sequoia', 1),\n",
       " ('Staphylea', 1),\n",
       " ('Rhamnus', 1),\n",
       " ('Sciadopitys', 1),\n",
       " ('Eucalyptus', 1),\n",
       " ('Sterculia', 1),\n",
       " ('Sorbopyrus', 1)]"
      ]
     },
     "execution_count": 31,
     "metadata": {},
     "output_type": "execute_result"
    }
   ],
   "source": [
    "arbres_uniques = [t for t in genre_bota_dict.items() if t[1] == 1 ]\n",
    "arbres_uniques"
   ]
  },
  {
   "cell_type": "markdown",
   "metadata": {
    "tags": []
   },
   "source": [
    "### Classer tous les genres botaniques en fonction de leur nombre (ordre décroissant) "
   ]
  },
  {
   "cell_type": "code",
   "execution_count": 122,
   "metadata": {
    "tags": []
   },
   "outputs": [
    {
     "data": {
      "text/plain": [
       "[('Acer', 5276),\n",
       " ('Platanus', 4663),\n",
       " ('Pinus', 2118),\n",
       " ('Tilia', 1770),\n",
       " ('Fraxinus', 1506)]"
      ]
     },
     "execution_count": 122,
     "metadata": {},
     "output_type": "execute_result"
    }
   ],
   "source": [
    "# Tri des genres bota les plus représentés\n",
    "sorted_list = sorted(genre_bota_dict.items(), key=lambda x: x[1], reverse=True)\n",
    "sorted_list[:5]"
   ]
  },
  {
   "cell_type": "markdown",
   "metadata": {
    "tags": []
   },
   "source": [
    "### Quelle est la proportion du genre botanique le plus représenté parmi tous les genres ? \n"
   ]
  },
  {
   "cell_type": "code",
   "execution_count": 124,
   "metadata": {
    "tags": []
   },
   "outputs": [
    {
     "data": {
      "text/plain": [
       "17.17000781046602"
      ]
     },
     "execution_count": 124,
     "metadata": {},
     "output_type": "execute_result"
    }
   ],
   "source": [
    "proportion = genre_bota_leader[1] / len(genre_bota) * 100\n",
    "proportion"
   ]
  },
  {
   "cell_type": "markdown",
   "metadata": {},
   "source": [
    "### Quelle est la proportion de chacun des genres botaniques par rapport au total ? \n"
   ]
  },
  {
   "cell_type": "code",
   "execution_count": 133,
   "metadata": {
    "tags": []
   },
   "outputs": [
    {
     "data": {
      "text/plain": [
       "[('Phillyrea', {'nb': 3, 'props': 0.009763082530590992}),\n",
       " ('Cedrela', {'nb': 46, 'props': 0.14970059880239522}),\n",
       " ('Broussonetia', {'nb': 23, 'props': 0.07485029940119761})]"
      ]
     },
     "execution_count": 133,
     "metadata": {},
     "output_type": "execute_result"
    }
   ],
   "source": [
    "genre_bota_dict_props = {genre : {\n",
    "                                 'nb': genre_bota.count(genre), \n",
    "                                 'props':  genre_bota.count(genre) / len(genre_bota) * 100\n",
    "                             } \n",
    "                         for genre in genre_bota_uniques} \n",
    "\n",
    "list(genre_bota_dict_props.items())[:3]"
   ]
  },
  {
   "cell_type": "markdown",
   "metadata": {
    "heading_collapsed": true,
    "tags": []
   },
   "source": [
    "## Idem précédemment mais en comptant les espèces. "
   ]
  },
  {
   "cell_type": "markdown",
   "metadata": {},
   "source": [
    "### Création du dictionnaire"
   ]
  },
  {
   "cell_type": "markdown",
   "metadata": {
    "tags": []
   },
   "source": [
    "#### Methode 1 : boucle"
   ]
  },
  {
   "cell_type": "code",
   "execution_count": 35,
   "metadata": {
    "hidden": true,
    "tags": []
   },
   "outputs": [],
   "source": [
    "# Méthode 1\n",
    "especes_dict = {}\n",
    "for espece in especes_uniques:\n",
    "    especes_dict[espece] = especes.count(espece)"
   ]
  },
  {
   "cell_type": "markdown",
   "metadata": {
    "tags": []
   },
   "source": [
    "#### Methode 2 : Counter"
   ]
  },
  {
   "cell_type": "code",
   "execution_count": 35,
   "metadata": {
    "hidden": true,
    "tags": []
   },
   "outputs": [],
   "source": [
    "# Méthode 2 \n",
    "from collections import Counter\n",
    "cnt = Counter()\n",
    "for espece in especes:\n",
    "    cnt[espece] += 1"
   ]
  },
  {
   "cell_type": "markdown",
   "metadata": {
    "tags": []
   },
   "source": [
    "#### Methode 3 : Comprehension de dictionnaire"
   ]
  },
  {
   "cell_type": "code",
   "execution_count": 134,
   "metadata": {
    "hidden": true,
    "tags": []
   },
   "outputs": [],
   "source": [
    "# Méthode 3\n",
    "especes_dict = {espece:especes.count(espece) for espece in especes_uniques}"
   ]
  },
  {
   "cell_type": "markdown",
   "metadata": {
    "tags": []
   },
   "source": [
    "### Espèce la plus représentée"
   ]
  },
  {
   "cell_type": "code",
   "execution_count": 135,
   "metadata": {
    "hidden": true,
    "tags": []
   },
   "outputs": [
    {
     "data": {
      "text/plain": [
       "('Platanus acerifolia', 4422)"
      ]
     },
     "execution_count": 135,
     "metadata": {},
     "output_type": "execute_result"
    }
   ],
   "source": [
    "# Espèce la plus représentée\n",
    "espece_leader = max(especes_dict.items(), key=lambda x: x[1])\n",
    "espece_leader"
   ]
  },
  {
   "cell_type": "markdown",
   "metadata": {
    "hidden": true
   },
   "source": [
    "### Espèces uniques ?"
   ]
  },
  {
   "cell_type": "code",
   "execution_count": 140,
   "metadata": {
    "hidden": true,
    "tags": []
   },
   "outputs": [
    {
     "data": {
      "text/plain": [
       "[('Cedrus sinensis', 1),\n",
       " ('Rhus thyphina', 1),\n",
       " ('Chamaecyparis nooktensis', 1),\n",
       " ('Chamaecyparis pisifera', 1),\n",
       " ('GENRE_BOTA ESPECE', 1)]"
      ]
     },
     "execution_count": 140,
     "metadata": {},
     "output_type": "execute_result"
    }
   ],
   "source": [
    "arbres_uniques_especes = [t for t in especes_dict.items() if t[1] == 1 ]\n",
    "arbres_uniques_especes[:5]"
   ]
  },
  {
   "cell_type": "markdown",
   "metadata": {
    "hidden": true,
    "tags": []
   },
   "source": [
    "###  Classer tous les genres botaniques en fonction de leur nombre (ordre décroissant)\n"
   ]
  },
  {
   "cell_type": "code",
   "execution_count": 139,
   "metadata": {
    "hidden": true,
    "tags": []
   },
   "outputs": [
    {
     "data": {
      "text/plain": [
       "[('Platanus acerifolia', 4422),\n",
       " ('Acer pseudoplatanus', 1347),\n",
       " ('Pinus nigra', 1304),\n",
       " ('Carpinus betulus', 1282),\n",
       " ('Acer platanoides', 1130)]"
      ]
     },
     "execution_count": 139,
     "metadata": {},
     "output_type": "execute_result"
    }
   ],
   "source": [
    "# Tri des espèces les plus représentés\n",
    "sorted_list_especes = sorted(especes_dict.items(), key=lambda x: x[1], reverse=True)\n",
    "sorted_list_especes[:5]"
   ]
  },
  {
   "cell_type": "markdown",
   "metadata": {
    "hidden": true
   },
   "source": [
    "### Quelle est la proportion de l'espèce la plus représentée parmi tous les espèces ? "
   ]
  },
  {
   "cell_type": "code",
   "execution_count": 39,
   "metadata": {
    "hidden": true,
    "tags": []
   },
   "outputs": [
    {
     "data": {
      "text/plain": [
       "15.21993529290287"
      ]
     },
     "execution_count": 39,
     "metadata": {},
     "output_type": "execute_result"
    }
   ],
   "source": [
    "proportion = espece_leader[1] / len(especes) * 100\n",
    "proportion"
   ]
  },
  {
   "cell_type": "markdown",
   "metadata": {
    "hidden": true
   },
   "source": [
    "### Quelle est la proportion de chacun des genres botaniques par rapport au total ? "
   ]
  },
  {
   "cell_type": "code",
   "execution_count": 40,
   "metadata": {
    "collapsed": true,
    "hidden": true,
    "jupyter": {
     "outputs_hidden": true
    },
    "tags": []
   },
   "outputs": [
    {
     "data": {
      "text/plain": [
       "{'Sequoia sempervirens': {'nb': 1, 'props': 0.0034418668685895232},\n",
       " 'GENRE_BOTA ESPECE': {'nb': 1, 'props': 0.0034418668685895232},\n",
       " 'Magnolia hybride': {'nb': 3, 'props': 0.010325600605768568},\n",
       " 'Sequoiadendron sempervirens': {'nb': 6, 'props': 0.020651201211537136},\n",
       " 'Quercus suber': {'nb': 17, 'props': 0.05851173676602189},\n",
       " 'Amélanchier canadensis': {'nb': 70, 'props': 0.24093068080126662},\n",
       " 'Prunus incisa': {'nb': 1, 'props': 0.0034418668685895232},\n",
       " 'Quercus robur': {'nb': 95, 'props': 0.3269773525160047},\n",
       " 'Prunus yedoensis': {'nb': 12, 'props': 0.04130240242307427},\n",
       " 'Prunus serrulata': {'nb': 425, 'props': 1.4627934191505474},\n",
       " 'Acer monspessulanum': {'nb': 76, 'props': 0.26158188201280375},\n",
       " 'Quercus ilex': {'nb': 13, 'props': 0.0447442692916638},\n",
       " 'Prunus cerasifera': {'nb': 112, 'props': 0.3854890892820266},\n",
       " 'Magnolia liliflora': {'nb': 1, 'props': 0.0034418668685895232},\n",
       " 'Platanus acerifolia': {'nb': 4422, 'props': 15.21993529290287},\n",
       " 'Ulmus parvifolia': {'nb': 1, 'props': 0.0034418668685895232},\n",
       " 'Pterostyrax hispida': {'nb': 6, 'props': 0.020651201211537136},\n",
       " 'Quercus hispanica': {'nb': 1, 'props': 0.0034418668685895232},\n",
       " 'Trachycarpus fortunei': {'nb': 22, 'props': 0.0757210711089695},\n",
       " 'Cupressocyparis leylandii': {'nb': 100, 'props': 0.34418668685895226},\n",
       " 'Zelkova serrata': {'nb': 231, 'props': 0.7950712466441798},\n",
       " 'Liriodendron tulipifera': {'nb': 506, 'props': 1.7415846355062985},\n",
       " 'Eleagnus angustifolia': {'nb': 19, 'props': 0.06539547050320094},\n",
       " 'Aesculus carnea': {'nb': 20, 'props': 0.06883733737179046},\n",
       " 'Acer campestre': {'nb': 845, 'props': 2.908377503958147},\n",
       " 'Syringa vulgaris': {'nb': 31, 'props': 0.10669787292627521},\n",
       " 'Paulownia fortunei': {'nb': 23, 'props': 0.07916293797755902},\n",
       " 'Betula papyrifera': {'nb': 23, 'props': 0.07916293797755902},\n",
       " 'Morus alba': {'nb': 26, 'props': 0.0894885385833276},\n",
       " 'Celtis occidentalis': {'nb': 7, 'props': 0.02409306808012666},\n",
       " 'Syringa amurensis': {'nb': 8, 'props': 0.027534934948716186},\n",
       " 'Metasequoia glyptostroboides': {'nb': 81, 'props': 0.2787912163557513},\n",
       " 'Populus simonii': {'nb': 8, 'props': 0.027534934948716186},\n",
       " 'Magnolia grandiflora': {'nb': 330, 'props': 1.1358160666345425},\n",
       " 'Morus nigra': {'nb': 38, 'props': 0.13079094100640187},\n",
       " 'Fraxinus mariesii': {'nb': 7, 'props': 0.02409306808012666},\n",
       " 'Thuja plicata': {'nb': 18, 'props': 0.061953603634611415},\n",
       " 'Laburnum anagynoides': {'nb': 12, 'props': 0.04130240242307427},\n",
       " 'Cupressus nooktensis': {'nb': 3, 'props': 0.010325600605768568},\n",
       " 'Chamaecyparis pisifera': {'nb': 1, 'props': 0.0034418668685895232},\n",
       " 'Eriobotrya  japonica': {'nb': 3, 'props': 0.010325600605768568},\n",
       " 'Malus floribunda': {'nb': 132, 'props': 0.454326426653817},\n",
       " 'Sorbus latifolia': {'nb': 3, 'props': 0.010325600605768568},\n",
       " 'Sorbus cuspidata': {'nb': 4, 'props': 0.013767467474358093},\n",
       " 'Lagerstroemia indica': {'nb': 50, 'props': 0.17209334342947613},\n",
       " 'Malus perpetu': {'nb': 24, 'props': 0.08260480484614854},\n",
       " 'Populus robusta': {'nb': 221, 'props': 0.7606525779582846},\n",
       " 'Tilia tomentosa': {'nb': 1000, 'props': 3.441866868589523},\n",
       " 'Rhus thyphina': {'nb': 1, 'props': 0.0034418668685895232},\n",
       " 'Pyrus amygdaliformis': {'nb': 10, 'props': 0.03441866868589523},\n",
       " 'Morus bombycis': {'nb': 25, 'props': 0.08604667171473807},\n",
       " 'Tilia platyphyllos': {'nb': 266, 'props': 0.9155365870448131},\n",
       " 'Quercus acutissima': {'nb': 6, 'props': 0.020651201211537136},\n",
       " 'Mespilus germanica': {'nb': 7, 'props': 0.02409306808012666},\n",
       " 'Acer capillipes': {'nb': 15, 'props': 0.05162800302884285},\n",
       " 'Acer ginnala': {'nb': 49, 'props': 0.16865147656088664},\n",
       " 'Alnus cordata': {'nb': 550, 'props': 1.8930267777242376},\n",
       " 'Halesia carolina': {'nb': 8, 'props': 0.027534934948716186},\n",
       " 'Taxodium distychum': {'nb': 9, 'props': 0.030976801817305707},\n",
       " 'Cryptomeria japonica': {'nb': 2, 'props': 0.0068837337371790465},\n",
       " 'Diospyros virginiana': {'nb': 6, 'props': 0.020651201211537136},\n",
       " 'Quercus salicifolia': {'nb': 9, 'props': 0.030976801817305707},\n",
       " 'Prunus domestica': {'nb': 21, 'props': 0.07227920424037998},\n",
       " 'Juglans regia': {'nb': 28, 'props': 0.09637227232050664},\n",
       " 'Cornus florida': {'nb': 6, 'props': 0.020651201211537136},\n",
       " 'Cupressus sempervirens': {'nb': 140, 'props': 0.48186136160253323},\n",
       " 'Magnolia heptapeta': {'nb': 1, 'props': 0.0034418668685895232},\n",
       " 'Prunus avium': {'nb': 146, 'props': 0.5025125628140703},\n",
       " 'Juniperus drupacea': {'nb': 1, 'props': 0.0034418668685895232},\n",
       " 'Prunus laurocerasus': {'nb': 9, 'props': 0.030976801817305707},\n",
       " 'Pterocarya fraxinifolia': {'nb': 46, 'props': 0.15832587595511805},\n",
       " 'Acer palmatum': {'nb': 2, 'props': 0.0068837337371790465},\n",
       " 'Prunus armeniaca': {'nb': 2, 'props': 0.0068837337371790465},\n",
       " 'Cornus mas': {'nb': 10, 'props': 0.03441866868589523},\n",
       " 'Malus pumila': {'nb': 2, 'props': 0.0068837337371790465},\n",
       " 'Populus nigra': {'nb': 493, 'props': 1.6968403662146347},\n",
       " 'Tilia cordata': {'nb': 257, 'props': 0.8845597852275073},\n",
       " 'Celtis sinensis': {'nb': 45, 'props': 0.15488400908652852},\n",
       " 'Diospyros kaki': {'nb': 1, 'props': 0.0034418668685895232},\n",
       " 'Parrotia persica': {'nb': 54, 'props': 0.18586081090383424},\n",
       " 'Betula nigra': {'nb': 34, 'props': 0.11702347353204379},\n",
       " 'Halesia monticola': {'nb': 1, 'props': 0.0034418668685895232},\n",
       " 'Cedrela sinensis': {'nb': 46, 'props': 0.15832587595511805},\n",
       " 'Alnus glutinosa': {'nb': 184, 'props': 0.6333035038204722},\n",
       " 'Tilia henryana': {'nb': 33, 'props': 0.11358160666345425},\n",
       " 'Acer rubrum': {'nb': 22, 'props': 0.0757210711089695},\n",
       " 'Ulmus resista': {'nb': 24, 'props': 0.08260480484614854},\n",
       " 'Sorbus domestica': {'nb': 4, 'props': 0.013767467474358093},\n",
       " 'Chionanthus retusus': {'nb': 31, 'props': 0.10669787292627521},\n",
       " 'Acer nikoense': {'nb': 2, 'props': 0.0068837337371790465},\n",
       " 'Crataegus lavallei': {'nb': 4, 'props': 0.013767467474358093},\n",
       " 'Picea omorika': {'nb': 4, 'props': 0.013767467474358093},\n",
       " 'Pistacia chinensis': {'nb': 7, 'props': 0.02409306808012666},\n",
       " 'Catalpa bignonoides': {'nb': 89, 'props': 0.30632615130446755},\n",
       " 'Cercis siliquastrum': {'nb': 344, 'props': 1.1840022027947958},\n",
       " 'Aesculus chandelle seche': {'nb': 2, 'props': 0.0068837337371790465},\n",
       " 'Chamaecyparis lawsoniana': {'nb': 370, 'props': 1.2734907413781236},\n",
       " 'Juglans nigra': {'nb': 38, 'props': 0.13079094100640187},\n",
       " 'Pyrus salicifolia': {'nb': 12, 'props': 0.04130240242307427},\n",
       " 'Crataegus laevigata': {'nb': 11, 'props': 0.03786053555448475},\n",
       " 'Diospyros lotus': {'nb': 8, 'props': 0.027534934948716186},\n",
       " 'Chamaecyparis nooktensis': {'nb': 1, 'props': 0.0034418668685895232},\n",
       " 'Fraxinus velutina': {'nb': 54, 'props': 0.18586081090383424},\n",
       " 'Larix decidua': {'nb': 5, 'props': 0.017209334342947614},\n",
       " 'Betula verrucosa': {'nb': 712, 'props': 2.4506092104357404},\n",
       " 'Fontanesia phillyreoides': {'nb': 4, 'props': 0.013767467474358093},\n",
       " 'Fraxinus oxycarpa': {'nb': 177, 'props': 0.6092104357403456},\n",
       " 'Pyrus calleryana': {'nb': 430, 'props': 1.480002753493495},\n",
       " 'Punica granatum': {'nb': 3, 'props': 0.010325600605768568},\n",
       " 'Crataegus crus-galli': {'nb': 2, 'props': 0.0068837337371790465},\n",
       " 'Pinus nigra': {'nb': 1304, 'props': 4.488194396640738},\n",
       " 'Salix alba': {'nb': 48, 'props': 0.1652096096922971},\n",
       " 'Tetradium danielli': {'nb': 88, 'props': 0.302884284435878},\n",
       " 'Juniperus virginiana': {'nb': 1, 'props': 0.0034418668685895232},\n",
       " 'Fraxinus pensylvanica': {'nb': 24, 'props': 0.08260480484614854},\n",
       " 'Ptelea trifoliata': {'nb': 3, 'props': 0.010325600605768568},\n",
       " 'Quercus variabilis': {'nb': 3, 'props': 0.010325600605768568},\n",
       " 'Sequoiadendron giganteum': {'nb': 8, 'props': 0.027534934948716186},\n",
       " 'Liquidambar tulipifera': {'nb': 1, 'props': 0.0034418668685895232},\n",
       " 'Acer tartarica': {'nb': 2, 'props': 0.0068837337371790465},\n",
       " 'Ginkgo biloba': {'nb': 111, 'props': 0.382047222413437},\n",
       " 'Prunus subhirtella': {'nb': 17, 'props': 0.05851173676602189},\n",
       " 'Prunus serotina': {'nb': 2, 'props': 0.0068837337371790465},\n",
       " 'Rhamnus alaternus': {'nb': 1, 'props': 0.0034418668685895232},\n",
       " 'Picea exelsa': {'nb': 4, 'props': 0.013767467474358093},\n",
       " 'Fraxinus quadrangulata': {'nb': 1, 'props': 0.0034418668685895232},\n",
       " 'Crataegus splendens': {'nb': 1, 'props': 0.0034418668685895232},\n",
       " 'Malus sieboldii': {'nb': 12, 'props': 0.04130240242307427},\n",
       " 'Crataegus monogyna': {'nb': 19, 'props': 0.06539547050320094},\n",
       " 'Zelkova crenata': {'nb': 2, 'props': 0.0068837337371790465},\n",
       " 'Celtis julianae': {'nb': 1, 'props': 0.0034418668685895232},\n",
       " 'Pinus sylvestris': {'nb': 567, 'props': 1.9515385144902597},\n",
       " 'Picea orientalis': {'nb': 18, 'props': 0.061953603634611415},\n",
       " 'Malus domestica': {'nb': 63, 'props': 0.21683761272113994},\n",
       " 'Chamaecyparis formonensis': {'nb': 1, 'props': 0.0034418668685895232},\n",
       " 'Fraxinus ornus': {'nb': 113, 'props': 0.3889309561506161},\n",
       " 'Buxus sempervirens': {'nb': 17, 'props': 0.05851173676602189},\n",
       " 'Acer triflorum': {'nb': 2, 'props': 0.0068837337371790465},\n",
       " 'Davidia involucrata': {'nb': 7, 'props': 0.02409306808012666},\n",
       " 'Prunus campanulata': {'nb': 2, 'props': 0.0068837337371790465},\n",
       " 'Malus royalty': {'nb': 1, 'props': 0.0034418668685895232},\n",
       " 'Pinus strobus': {'nb': 1, 'props': 0.0034418668685895232},\n",
       " 'Magnolia stellata': {'nb': 2, 'props': 0.0068837337371790465},\n",
       " 'Acer cappadocicum': {'nb': 198, 'props': 0.6814896399807255},\n",
       " 'Broussonetia papyrifera': {'nb': 23, 'props': 0.07916293797755902},\n",
       " 'Cercis chinensis': {'nb': 4, 'props': 0.013767467474358093},\n",
       " 'Robinia platanoides': {'nb': 1, 'props': 0.0034418668685895232},\n",
       " 'Quercus myrsinifolia': {'nb': 4, 'props': 0.013767467474358093},\n",
       " 'Populus alba': {'nb': 120, 'props': 0.4130240242307428},\n",
       " 'Abies nordmaniana': {'nb': 20, 'props': 0.06883733737179046},\n",
       " 'Acer hippocastanum': {'nb': 1, 'props': 0.0034418668685895232},\n",
       " 'Crataegus oxyacantha': {'nb': 44, 'props': 0.151442142217939},\n",
       " 'Quercus coccinea': {'nb': 1, 'props': 0.0034418668685895232},\n",
       " 'Cedrus atlantica': {'nb': 316, 'props': 1.0876299304742894},\n",
       " 'Picea abies': {'nb': 206, 'props': 0.7090245749294417},\n",
       " 'Quercus phellos': {'nb': 1, 'props': 0.0034418668685895232},\n",
       " 'Clerodendron tricotonum': {'nb': 5, 'props': 0.017209334342947614},\n",
       " 'Libocedrus decurrens': {'nb': 47, 'props': 0.1617677428237076},\n",
       " 'Cercis canadensis': {'nb': 2, 'props': 0.0068837337371790465},\n",
       " 'Acer platanoides': {'nb': 1130, 'props': 3.889309561506161},\n",
       " 'Abies koreana': {'nb': 1, 'props': 0.0034418668685895232},\n",
       " 'Acer heldreichii': {'nb': 2, 'props': 0.0068837337371790465},\n",
       " 'Carpinus betulus': {'nb': 1282, 'props': 4.412473325531768},\n",
       " 'Phillyrea latifolia': {'nb': 3, 'props': 0.010325600605768568},\n",
       " 'Ulmus minor': {'nb': 144, 'props': 0.4956288290768913},\n",
       " 'Platanus platanor': {'nb': 84, 'props': 0.2891168169615199},\n",
       " 'Celtis australis': {'nb': 134, 'props': 0.46121016039099605},\n",
       " 'Pinus wallichiana': {'nb': 20, 'props': 0.06883733737179046},\n",
       " 'Gleditsia triacanthos': {'nb': 350, 'props': 1.204653404006333},\n",
       " 'Populus italica': {'nb': 6, 'props': 0.020651201211537136},\n",
       " 'Robinia altissima': {'nb': 1, 'props': 0.0034418668685895232},\n",
       " 'Betula pendula': {'nb': 17, 'props': 0.05851173676602189},\n",
       " 'Pteroceltis tatarinowii': {'nb': 12, 'props': 0.04130240242307427},\n",
       " 'Acer carpinifolia': {'nb': 2, 'props': 0.0068837337371790465},\n",
       " 'Amélanchier lamarckii': {'nb': 14, 'props': 0.04818613616025332},\n",
       " 'Salix babylonica': {'nb': 7, 'props': 0.02409306808012666},\n",
       " 'Fraxinus mandshurica': {'nb': 18, 'props': 0.061953603634611415},\n",
       " 'Cupressus arizonica': {'nb': 60, 'props': 0.2065120121153714},\n",
       " 'Prunus lusitanica': {'nb': 6, 'props': 0.020651201211537136},\n",
       " 'Sciadopitys verticillata': {'nb': 1, 'props': 0.0034418668685895232},\n",
       " 'Tilia euchlora': {'nb': 2, 'props': 0.0068837337371790465},\n",
       " 'Amélanchier ovalis': {'nb': 8, 'props': 0.027534934948716186},\n",
       " 'Lonicera fragmantissima': {'nb': 3, 'props': 0.010325600605768568},\n",
       " 'Aesculus hippocastanum': {'nb': 432, 'props': 1.486886487230674},\n",
       " 'Cephalotaxus harringtonia': {'nb': 3, 'props': 0.010325600605768568},\n",
       " 'Cercis sinensis': {'nb': 1, 'props': 0.0034418668685895232},\n",
       " 'Acer grosseri': {'nb': 3, 'props': 0.010325600605768568},\n",
       " 'Tilia europaea': {'nb': 6, 'props': 0.020651201211537136},\n",
       " 'Robinia pseudoacacia': {'nb': 284, 'props': 0.9774901906794244},\n",
       " 'Fraxinus americana': {'nb': 113, 'props': 0.3889309561506161},\n",
       " 'Malus baccata': {'nb': 9, 'props': 0.030976801817305707},\n",
       " 'Quercus fraxinifolia': {'nb': 1, 'props': 0.0034418668685895232},\n",
       " 'Prunus persica': {'nb': 3, 'props': 0.010325600605768568},\n",
       " 'Cercidiphyllum japonicum': {'nb': 6, 'props': 0.020651201211537136},\n",
       " 'Cercidiphyllum magnificum': {'nb': 1, 'props': 0.0034418668685895232},\n",
       " 'Ailanthus altissima': {'nb': 80, 'props': 0.27534934948716183},\n",
       " 'Cedrus deodara': {'nb': 78, 'props': 0.2684656157499828},\n",
       " 'Rhus typhina': {'nb': 6, 'props': 0.020651201211537136},\n",
       " 'Magnolia soulangeana': {'nb': 42, 'props': 0.14455840848075996},\n",
       " 'Ilex aquifolium': {'nb': 24, 'props': 0.08260480484614854},\n",
       " 'Salix caprea': {'nb': 4, 'props': 0.013767467474358093},\n",
       " 'Chionanthus virginiacus': {'nb': 2, 'props': 0.0068837337371790465},\n",
       " 'Chitalpa tashkentensis': {'nb': 4, 'props': 0.013767467474358093},\n",
       " 'Sorbus chamaemespilus': {'nb': 1, 'props': 0.0034418668685895232},\n",
       " 'Pinus mugo mughus': {'nb': 2, 'props': 0.0068837337371790465},\n",
       " 'Fraxinus sieboldiana': {'nb': 19, 'props': 0.06539547050320094},\n",
       " 'Tilia mongolica': {'nb': 24, 'props': 0.08260480484614854},\n",
       " 'Laburnum watereri': {'nb': 1, 'props': 0.0034418668685895232},\n",
       " 'Sorbus torminalis': {'nb': 15, 'props': 0.05162800302884285},\n",
       " 'Prunus spinosa': {'nb': 19, 'props': 0.06539547050320094},\n",
       " 'Maclura pomifera': {'nb': 5, 'props': 0.017209334342947614},\n",
       " 'Populus lasiocarpa': {'nb': 1, 'props': 0.0034418668685895232},\n",
       " 'Quercus cerris': {'nb': 225, 'props': 0.7744200454326426},\n",
       " 'Staphylea bumalda': {'nb': 1, 'props': 0.0034418668685895232},\n",
       " 'Sorbus aria': {'nb': 44, 'props': 0.151442142217939},\n",
       " 'Cotinus coggygria': {'nb': 11, 'props': 0.03786053555448475},\n",
       " 'Quercus frainetto': {'nb': 31, 'props': 0.10669787292627521},\n",
       " 'Acer pseudoplatanus': {'nb': 1347, 'props': 4.636194671990087},\n",
       " 'Ulmus pumila': {'nb': 1, 'props': 0.0034418668685895232},\n",
       " 'Calocedrus decurrens': {'nb': 4, 'props': 0.013767467474358093},\n",
       " 'Ligustrum japonicum': {'nb': 2, 'props': 0.0068837337371790465},\n",
       " 'Acer japonicum': {'nb': 3, 'props': 0.010325600605768568},\n",
       " 'Quercus palustris': {'nb': 17, 'props': 0.05851173676602189},\n",
       " 'Fagus sylvatica': {'nb': 267, 'props': 0.9189784539134027},\n",
       " 'Acer opalus': {'nb': 1, 'props': 0.0034418668685895232},\n",
       " 'Prunus cerasus': {'nb': 28, 'props': 0.09637227232050664},\n",
       " 'Acer negundo': {'nb': 177, 'props': 0.6092104357403456},\n",
       " 'Aesculus pavia': {'nb': 3, 'props': 0.010325600605768568},\n",
       " 'Araucaria exelsa': {'nb': 2, 'props': 0.0068837337371790465},\n",
       " 'Cydonia oblonga': {'nb': 10, 'props': 0.03441866868589523},\n",
       " 'Salix rosmarinifolia': {'nb': 2, 'props': 0.0068837337371790465},\n",
       " 'Acer griseum': {'nb': 5, 'props': 0.017209334342947614},\n",
       " 'Liquidambar styraciflua': {'nb': 806, 'props': 2.7741446960831557},\n",
       " 'Sorbopyrus auricularis': {'nb': 1, 'props': 0.0034418668685895232},\n",
       " 'Picea pungens': {'nb': 13, 'props': 0.0447442692916638},\n",
       " 'Quercus petraea': {'nb': 101, 'props': 0.3476285537275418},\n",
       " 'Albizia jullibrissin': {'nb': 67, 'props': 0.23060508019549802},\n",
       " 'Chimonanthus praecox': {'nb': 3, 'props': 0.010325600605768568},\n",
       " 'Gymnocladus dioicus': {'nb': 9, 'props': 0.030976801817305707},\n",
       " 'Quercus macrocarpa': {'nb': 1, 'props': 0.0034418668685895232},\n",
       " 'Sambucus nigra': {'nb': 33, 'props': 0.11358160666345425},\n",
       " 'Thuja occidentalis': {'nb': 6, 'props': 0.020651201211537136},\n",
       " 'Ligustrum sinense': {'nb': 3, 'props': 0.010325600605768568},\n",
       " 'Magnolia kobus': {'nb': 22, 'props': 0.0757210711089695},\n",
       " 'Carpinus orientalis': {'nb': 14, 'props': 0.04818613616025332},\n",
       " 'Salix purpurea': {'nb': 5, 'props': 0.017209334342947614},\n",
       " 'Amélanchier laevis': {'nb': 1, 'props': 0.0034418668685895232},\n",
       " 'Olea europaea': {'nb': 5, 'props': 0.017209334342947614},\n",
       " 'Ulmus campestre': {'nb': 16, 'props': 0.05506986989743237},\n",
       " 'Pinus pinea': {'nb': 2, 'props': 0.0068837337371790465},\n",
       " 'Abies pinsapo': {'nb': 2, 'props': 0.0068837337371790465},\n",
       " 'Aesculus parviflora': {'nb': 2, 'props': 0.0068837337371790465},\n",
       " 'Alnus incana': {'nb': 13, 'props': 0.0447442692916638},\n",
       " 'Pyrus nivalis': {'nb': 11, 'props': 0.03786053555448475},\n",
       " 'Corylus colurna': {'nb': 146, 'props': 0.5025125628140703},\n",
       " 'Quercus heterophylla': {'nb': 1, 'props': 0.0034418668685895232},\n",
       " 'Koelreuteria paniculata': {'nb': 271, 'props': 0.9327459213877607},\n",
       " 'Alnus spaethii': {'nb': 78, 'props': 0.2684656157499828},\n",
       " 'Betula alba': {'nb': 97, 'props': 0.3338610862531837},\n",
       " 'Malus hupehensis': {'nb': 3, 'props': 0.010325600605768568},\n",
       " 'Styrax japonica': {'nb': 3, 'props': 0.010325600605768568},\n",
       " 'Phellodendron amurense': {'nb': 13, 'props': 0.0447442692916638},\n",
       " 'Ostrya carpinifolia': {'nb': 44, 'props': 0.151442142217939},\n",
       " 'Acer saccharinum': {'nb': 507, 'props': 1.745026502374888},\n",
       " 'Nyssa sylvatica': {'nb': 1, 'props': 0.0034418668685895232},\n",
       " 'Ulmus carpinifolia': {'nb': 2, 'props': 0.0068837337371790465},\n",
       " 'Pyrus elaeagnifolia': {'nb': 1, 'props': 0.0034418668685895232},\n",
       " 'Salix viminalis': {'nb': 7, 'props': 0.02409306808012666},\n",
       " 'Prunus amygdalus': {'nb': 2, 'props': 0.0068837337371790465},\n",
       " 'Betula utilis': {'nb': 361, 'props': 1.2425139395608178},\n",
       " 'Ficus carica': {'nb': 18, 'props': 0.061953603634611415},\n",
       " 'Castanea sativa': {'nb': 1, 'props': 0.0034418668685895232},\n",
       " 'Fraxinus angustifolia': {'nb': 165, 'props': 0.5679080333172712},\n",
       " 'Acer freemanii': {'nb': 52, 'props': 0.1789770771666552},\n",
       " 'Cydonia vulgaris': {'nb': 1, 'props': 0.0034418668685895232},\n",
       " 'Salix matsudana': {'nb': 6, 'props': 0.020651201211537136},\n",
       " 'Salix triandra': {'nb': 5, 'props': 0.017209334342947614},\n",
       " 'Abies concolor': {'nb': 5, 'props': 0.017209334342947614},\n",
       " 'Photinia villosa': {'nb': 10, 'props': 0.03441866868589523},\n",
       " 'Prunus padus': {'nb': 92, 'props': 0.3166517519102361},\n",
       " 'Populus tremula': {'nb': 17, 'props': 0.05851173676602189},\n",
       " 'Corylus avellana': {'nb': 24, 'props': 0.08260480484614854},\n",
       " 'Quercus rubra': {'nb': 25, 'props': 0.08604667171473807},\n",
       " 'Taxus baccata': {'nb': 202, 'props': 0.6952571074550836},\n",
       " 'Paulownia tomentosa': {'nb': 78, 'props': 0.2684656157499828},\n",
       " 'Pterocarya stenoptera': {'nb': 6, 'props': 0.020651201211537136},\n",
       " 'Salix sepulcralis': {'nb': 3, 'props': 0.010325600605768568},\n",
       " 'Quercus castaneifolia': {'nb': 63, 'props': 0.21683761272113994},\n",
       " 'Fraxinus excelsior': {'nb': 776, 'props': 2.67088869002547},\n",
       " 'Syringa persica': {'nb': 2, 'props': 0.0068837337371790465},\n",
       " 'Cornus controversa': {'nb': 7, 'props': 0.02409306808012666},\n",
       " 'Pyrus communis': {'nb': 34, 'props': 0.11702347353204379},\n",
       " 'Tilia americana': {'nb': 88, 'props': 0.302884284435878},\n",
       " 'Prunus dulcis': {'nb': 6, 'props': 0.020651201211537136},\n",
       " 'Cladastris lutea': {'nb': 45, 'props': 0.15488400908652852},\n",
       " 'Cedrus libani': {'nb': 8, 'props': 0.027534934948716186},\n",
       " 'Acer davidii': {'nb': 6, 'props': 0.020651201211537136},\n",
       " 'Cedrus sinensis': {'nb': 1, 'props': 0.0034418668685895232},\n",
       " 'Eucalyptus gunii': {'nb': 1, 'props': 0.0034418668685895232},\n",
       " 'Acer utilis': {'nb': 1, 'props': 0.0034418668685895232},\n",
       " 'Liquidambar orientalis': {'nb': 2, 'props': 0.0068837337371790465},\n",
       " 'Prunus tomentosa': {'nb': 1, 'props': 0.0034418668685895232},\n",
       " 'Quercus falcata': {'nb': 3, 'props': 0.010325600605768568},\n",
       " 'Platanus orientalis': {'nb': 88, 'props': 0.302884284435878},\n",
       " 'Amélanchier alnifolia': {'nb': 3, 'props': 0.010325600605768568},\n",
       " 'Sophora japonica': {'nb': 422, 'props': 1.4524678185447786},\n",
       " 'Hovenia dulcis': {'nb': 2, 'props': 0.0068837337371790465},\n",
       " 'Sorbus aucuparia': {'nb': 5, 'props': 0.017209334342947614},\n",
       " 'Acer zoeschense': {'nb': 1, 'props': 0.0034418668685895232},\n",
       " 'Malus tschonoskii': {'nb': 13, 'props': 0.0447442692916638},\n",
       " 'Malus coronaria': {'nb': 1, 'props': 0.0034418668685895232},\n",
       " 'Acer buergerianum': {'nb': 20, 'props': 0.06883733737179046},\n",
       " 'Ulmus glabra': {'nb': 11, 'props': 0.03786053555448475}}"
      ]
     },
     "execution_count": 40,
     "metadata": {},
     "output_type": "execute_result"
    }
   ],
   "source": [
    "espece_dict_props = {espece : \n",
    "                             {\n",
    "                                 'nb': especes.count(espece), \n",
    "                                 'props':  especes.count(espece) / len(especes) * 100\n",
    "                             } \n",
    "                             for espece in especes_uniques} \n",
    "espece_dict_props"
   ]
  },
  {
   "cell_type": "markdown",
   "metadata": {},
   "source": [
    "### Evolution au cours du temps\n",
    "(plus dur) Comment la pratique de plantation a-t-elle évolué au cours du temps ? Diversifie-t-on plus maintenant qu’avant ? Vos analyses sont-elles en accord avec le communiqué de presse ? "
   ]
  },
  {
   "cell_type": "code",
   "execution_count": 141,
   "metadata": {
    "tags": []
   },
   "outputs": [],
   "source": [
    "# Nombre d'espèces par an \n",
    "data_espece_year = [(' '.join(row[13:15]), row[19]) \n",
    "                        for row in data[1:]\n",
    "                        if row[13] != '' and row[14] != '']\n",
    "\n",
    "nb_espece_year = {year: len(set([' '.join(row[13:15]) \n",
    "                            for row in data[1:]\n",
    "                            if row[13] != '' \n",
    "                            and row[14] != ''\n",
    "                            and row[19] == str(year)]))\n",
    "                      for year in range(1950, 2022)}"
   ]
  },
  {
   "cell_type": "code",
   "execution_count": 147,
   "metadata": {
    "tags": []
   },
   "outputs": [
    {
     "data": {
      "image/png": "[encoded data removed]",
      "text/plain": [
       "<Figure size 1000x150 with 1 Axes>"
      ]
     },
     "metadata": {},
     "output_type": "display_data"
    }
   ],
   "source": [
    "plt.figure(figsize=(10,1.5))\n",
    "plt.bar(range(1950, 2022), nb_espece_year.values())\n",
    "plt.xlabel('année')\n",
    "plt.ylabel('nbre espèces \\n différentes \\n plantées')\n",
    "plt.show()"
   ]
  },
  {
   "cell_type": "code",
   "execution_count": 153,
   "metadata": {
    "tags": []
   },
   "outputs": [
    {
     "data": {
      "image/png": "[encoded data removed]",
      "text/plain": [
       "<Figure size 1000x150 with 1 Axes>"
      ]
     },
     "metadata": {},
     "output_type": "display_data"
    }
   ],
   "source": [
    "# Nombre d'espèces par an \n",
    "nb_espece_presentes = {year: len(set([' '.join(row[13:15]) \n",
    "                            for row in data[1:]\n",
    "                            if row[13] != '' \n",
    "                            and row[14] != ''\n",
    "                            and row[19] <= str(year)]))\n",
    "                      for year in range(1950, 2022)}\n",
    "\n",
    "plt.figure(figsize=(10,1.5))\n",
    "plt.bar(range(1950, 2022), nb_espece_presentes.values())\n",
    "plt.xlabel('année')\n",
    "plt.ylabel('nbre espèces \\n présentes \\n à Grenoble')\n",
    "plt.show()"
   ]
  }
 ],
 "metadata": {
  "kernelspec": {
   "display_name": "Python 3 (ipykernel)",
   "language": "python",
   "name": "python3"
  },
  "language_info": {
   "codemirror_mode": {
    "name": "ipython",
    "version": 3
   },
   "file_extension": ".py",
   "mimetype": "text/x-python",
   "name": "python",
   "nbconvert_exporter": "python",
   "pygments_lexer": "ipython3",
   "version": "3.10.13"
  },
  "toc": {
   "base_numbering": 1,
   "nav_menu": {
    "height": "351px",
    "width": "862.667px"
   },
   "number_sections": true,
   "sideBar": true,
   "skip_h1_title": false,
   "title_cell": "Table of Contents",
   "title_sidebar": "Contents",
   "toc_cell": false,
   "toc_position": {
    "height": "calc(100% - 180px)",
    "left": "10px",
    "top": "150px",
    "width": "165px"
   },
   "toc_section_display": true,
   "toc_window_display": false
  },
  "toc-autonumbering": true,
  "toc-showmarkdowntxt": false,
  "toc-showtags": true,
  "varInspector": {
   "cols": {
    "lenName": 16,
    "lenType": 16,
    "lenVar": 40
   },
   "kernels_config": {
    "python": {
     "delete_cmd_postfix": "",
     "delete_cmd_prefix": "del ",
     "library": "var_list.py",
     "varRefreshCmd": "print(var_dic_list())"
    },
    "r": {
     "delete_cmd_postfix": ") ",
     "delete_cmd_prefix": "rm(",
     "library": "var_list.r",
     "varRefreshCmd": "cat(var_dic_list()) "
    }
   },
   "types_to_exclude": [
    "module",
    "function",
    "builtin_function_or_method",
    "instance",
    "_Feature"
   ],
   "window_display": false
  }
 },
 "nbformat": 4,
 "nbformat_minor": 4
}
