{
 "cells": [
  {
   "cell_type": "markdown",
   "metadata": {},
   "source": [
    "# Dataset arbres\n",
    "Source : http://data.metropolegrenoble.fr/ckan/dataset/les-arbres-de-grenoble\n",
    "## Exploration préliminaire des données\n",
    "\n",
    "Idées de sujet : \n",
    "- Quel a été le maire le plus vert sur la période concernée ? \n",
    "- Quelles sont les 5 espèces d'arbres les plus représentées à Grenoble ? \n",
    "- Combien y a-t-il d'arbres \"solitaires\", i.e. uniques représentants de leur espèce ? "
   ]
  },
  {
   "cell_type": "code",
   "execution_count": 258,
   "metadata": {
    "scrolled": false
   },
   "outputs": [],
   "source": [
    "import csv\n",
    "import numpy as np\n",
    "import pandas as pd \n",
    "import matplotlib.pyplot as plt\n",
    "\n",
    "import random"
   ]
  },
  {
   "cell_type": "code",
   "execution_count": 39,
   "metadata": {},
   "outputs": [],
   "source": [
    "df = pd.read_csv('data/arbres.csv')"
   ]
  },
  {
   "cell_type": "markdown",
   "metadata": {},
   "source": [
    "-------------------------------------------------\n",
    "### Nombre d'entrées non nulles dans chaque colonne\n",
    "\n",
    "Remarques : \n",
    "- pas d'info sur l'année d'abattage (sont ils tous encore en vie ?) \n",
    "- Pas d'info sur le diamètre des arbres\n",
    "\n",
    "--------------------------------------------------"
   ]
  },
  {
   "cell_type": "code",
   "execution_count": 98,
   "metadata": {
    "scrolled": true
   },
   "outputs": [
    {
     "data": {
      "text/plain": [
       "ELEM_POINT_ID            31243\n",
       "CODE                     31243\n",
       "NOM                      31243\n",
       "GENRE                    31243\n",
       "GENRE_DESC               31243\n",
       "CATEGORIE                31243\n",
       "CATEGORIE_DESC           31243\n",
       "SOUS_CATEGORIE           31243\n",
       "SOUS_CATEGORIE_DESC      31243\n",
       "CODE_PARENT              31243\n",
       "CODE_PARENT_DESC         31243\n",
       "ADR_SECTEUR              31243\n",
       "BIEN_REFERENCE           31243\n",
       "GENRE_BOTA               30728\n",
       "ESPECE                   29053\n",
       "VARIETE                   4039\n",
       "STADEDEDEVELOPPEMENT     29228\n",
       "EQUIPE                       0\n",
       "REMARQUES                    0\n",
       "ANNEEDEPLANTATION        30801\n",
       "RAISONDEPLANTATION        1050\n",
       "TRAITEMENTCHENILLES       2338\n",
       "COURRIER                     0\n",
       "IDENTIFIANTPLU             610\n",
       "TYPEIMPLANTATIONPLU        610\n",
       "INTITULEPROTECTIONPLU      610\n",
       "ANNEEABATTAGE                0\n",
       "ESSOUCHEMENT                 0\n",
       "DIAMETREARBRE                0\n",
       "CAUSEABATTAGE                0\n",
       "COLLECTIVITE             30804\n",
       "GeoJSON                  31243\n",
       "dtype: int64"
      ]
     },
     "execution_count": 98,
     "metadata": {},
     "output_type": "execute_result"
    }
   ],
   "source": [
    "df.count()"
   ]
  },
  {
   "cell_type": "markdown",
   "metadata": {},
   "source": [
    "--------------------------------------------------\n",
    "On enlève les colonnes sans aucune entrée => pas de valeur \n",
    "\n",
    "---------------------------------------------------"
   ]
  },
  {
   "cell_type": "code",
   "execution_count": 119,
   "metadata": {},
   "outputs": [],
   "source": [
    "bools = (df.count() > 0)\n",
    "df = df.loc[:, bools.values]"
   ]
  },
  {
   "cell_type": "markdown",
   "metadata": {},
   "source": [
    "On regarde un peu à quoi ressemblent les données ! "
   ]
  },
  {
   "cell_type": "code",
   "execution_count": 121,
   "metadata": {
    "scrolled": true
   },
   "outputs": [
    {
     "data": {
      "text/html": [
       "<div>\n",
       "<style scoped>\n",
       "    .dataframe tbody tr th:only-of-type {\n",
       "        vertical-align: middle;\n",
       "    }\n",
       "\n",
       "    .dataframe tbody tr th {\n",
       "        vertical-align: top;\n",
       "    }\n",
       "\n",
       "    .dataframe thead th {\n",
       "        text-align: right;\n",
       "    }\n",
       "</style>\n",
       "<table border=\"1\" class=\"dataframe\">\n",
       "  <thead>\n",
       "    <tr style=\"text-align: right;\">\n",
       "      <th></th>\n",
       "      <th>ELEM_POINT_ID</th>\n",
       "      <th>CODE</th>\n",
       "      <th>NOM</th>\n",
       "      <th>GENRE</th>\n",
       "      <th>GENRE_DESC</th>\n",
       "      <th>CATEGORIE</th>\n",
       "      <th>CATEGORIE_DESC</th>\n",
       "      <th>SOUS_CATEGORIE</th>\n",
       "      <th>SOUS_CATEGORIE_DESC</th>\n",
       "      <th>CODE_PARENT</th>\n",
       "      <th>...</th>\n",
       "      <th>VARIETE</th>\n",
       "      <th>STADEDEDEVELOPPEMENT</th>\n",
       "      <th>ANNEEDEPLANTATION</th>\n",
       "      <th>RAISONDEPLANTATION</th>\n",
       "      <th>TRAITEMENTCHENILLES</th>\n",
       "      <th>IDENTIFIANTPLU</th>\n",
       "      <th>TYPEIMPLANTATIONPLU</th>\n",
       "      <th>INTITULEPROTECTIONPLU</th>\n",
       "      <th>COLLECTIVITE</th>\n",
       "      <th>GeoJSON</th>\n",
       "    </tr>\n",
       "  </thead>\n",
       "  <tbody>\n",
       "    <tr>\n",
       "      <th>0</th>\n",
       "      <td>37993</td>\n",
       "      <td>ESP37969</td>\n",
       "      <td>ESP37969</td>\n",
       "      <td>VEG</td>\n",
       "      <td>VEGETATION</td>\n",
       "      <td>ESP01</td>\n",
       "      <td>Arbre</td>\n",
       "      <td>ESP065</td>\n",
       "      <td>Arbre d'enceintes fermées</td>\n",
       "      <td>ESP37898</td>\n",
       "      <td>...</td>\n",
       "      <td>NaN</td>\n",
       "      <td>NaN</td>\n",
       "      <td>NaN</td>\n",
       "      <td>NaN</td>\n",
       "      <td>NaN</td>\n",
       "      <td>NaN</td>\n",
       "      <td>NaN</td>\n",
       "      <td>NaN</td>\n",
       "      <td>NaN</td>\n",
       "      <td>{\"type\":\"Point\",\"coordinates\":[5.7603469008942...</td>\n",
       "    </tr>\n",
       "    <tr>\n",
       "      <th>1</th>\n",
       "      <td>37992</td>\n",
       "      <td>ESP37968</td>\n",
       "      <td>ESP37968</td>\n",
       "      <td>VEG</td>\n",
       "      <td>VEGETATION</td>\n",
       "      <td>ESP01</td>\n",
       "      <td>Arbre</td>\n",
       "      <td>ESP065</td>\n",
       "      <td>Arbre d'enceintes fermées</td>\n",
       "      <td>ESP37898</td>\n",
       "      <td>...</td>\n",
       "      <td>NaN</td>\n",
       "      <td>NaN</td>\n",
       "      <td>NaN</td>\n",
       "      <td>NaN</td>\n",
       "      <td>NaN</td>\n",
       "      <td>NaN</td>\n",
       "      <td>NaN</td>\n",
       "      <td>NaN</td>\n",
       "      <td>NaN</td>\n",
       "      <td>{\"type\":\"Point\",\"coordinates\":[5.7598264646441...</td>\n",
       "    </tr>\n",
       "    <tr>\n",
       "      <th>2</th>\n",
       "      <td>37991</td>\n",
       "      <td>ESP37967</td>\n",
       "      <td>ESP37967</td>\n",
       "      <td>VEG</td>\n",
       "      <td>VEGETATION</td>\n",
       "      <td>ESP01</td>\n",
       "      <td>Arbre</td>\n",
       "      <td>ESP065</td>\n",
       "      <td>Arbre d'enceintes fermées</td>\n",
       "      <td>ESP37898</td>\n",
       "      <td>...</td>\n",
       "      <td>NaN</td>\n",
       "      <td>NaN</td>\n",
       "      <td>NaN</td>\n",
       "      <td>NaN</td>\n",
       "      <td>NaN</td>\n",
       "      <td>NaN</td>\n",
       "      <td>NaN</td>\n",
       "      <td>NaN</td>\n",
       "      <td>NaN</td>\n",
       "      <td>{\"type\":\"Point\",\"coordinates\":[5.7599807314486...</td>\n",
       "    </tr>\n",
       "    <tr>\n",
       "      <th>3</th>\n",
       "      <td>37990</td>\n",
       "      <td>ESP37966</td>\n",
       "      <td>ESP37966</td>\n",
       "      <td>VEG</td>\n",
       "      <td>VEGETATION</td>\n",
       "      <td>ESP01</td>\n",
       "      <td>Arbre</td>\n",
       "      <td>ESP065</td>\n",
       "      <td>Arbre d'enceintes fermées</td>\n",
       "      <td>ESP37898</td>\n",
       "      <td>...</td>\n",
       "      <td>NaN</td>\n",
       "      <td>NaN</td>\n",
       "      <td>NaN</td>\n",
       "      <td>NaN</td>\n",
       "      <td>NaN</td>\n",
       "      <td>NaN</td>\n",
       "      <td>NaN</td>\n",
       "      <td>NaN</td>\n",
       "      <td>NaN</td>\n",
       "      <td>{\"type\":\"Point\",\"coordinates\":[5.7600570301267...</td>\n",
       "    </tr>\n",
       "    <tr>\n",
       "      <th>4</th>\n",
       "      <td>37989</td>\n",
       "      <td>ESP37965</td>\n",
       "      <td>ESP37965</td>\n",
       "      <td>VEG</td>\n",
       "      <td>VEGETATION</td>\n",
       "      <td>ESP01</td>\n",
       "      <td>Arbre</td>\n",
       "      <td>ESP065</td>\n",
       "      <td>Arbre d'enceintes fermées</td>\n",
       "      <td>ESP37898</td>\n",
       "      <td>...</td>\n",
       "      <td>NaN</td>\n",
       "      <td>NaN</td>\n",
       "      <td>NaN</td>\n",
       "      <td>NaN</td>\n",
       "      <td>NaN</td>\n",
       "      <td>NaN</td>\n",
       "      <td>NaN</td>\n",
       "      <td>NaN</td>\n",
       "      <td>NaN</td>\n",
       "      <td>{\"type\":\"Point\",\"coordinates\":[5.7600202792924...</td>\n",
       "    </tr>\n",
       "  </tbody>\n",
       "</table>\n",
       "<p>5 rows × 25 columns</p>\n",
       "</div>"
      ],
      "text/plain": [
       "   ELEM_POINT_ID      CODE       NOM GENRE  GENRE_DESC CATEGORIE  \\\n",
       "0          37993  ESP37969  ESP37969   VEG  VEGETATION     ESP01   \n",
       "1          37992  ESP37968  ESP37968   VEG  VEGETATION     ESP01   \n",
       "2          37991  ESP37967  ESP37967   VEG  VEGETATION     ESP01   \n",
       "3          37990  ESP37966  ESP37966   VEG  VEGETATION     ESP01   \n",
       "4          37989  ESP37965  ESP37965   VEG  VEGETATION     ESP01   \n",
       "\n",
       "  CATEGORIE_DESC SOUS_CATEGORIE        SOUS_CATEGORIE_DESC CODE_PARENT  ...  \\\n",
       "0          Arbre         ESP065  Arbre d'enceintes fermées    ESP37898  ...   \n",
       "1          Arbre         ESP065  Arbre d'enceintes fermées    ESP37898  ...   \n",
       "2          Arbre         ESP065  Arbre d'enceintes fermées    ESP37898  ...   \n",
       "3          Arbre         ESP065  Arbre d'enceintes fermées    ESP37898  ...   \n",
       "4          Arbre         ESP065  Arbre d'enceintes fermées    ESP37898  ...   \n",
       "\n",
       "  VARIETE  STADEDEDEVELOPPEMENT ANNEEDEPLANTATION RAISONDEPLANTATION  \\\n",
       "0     NaN                   NaN               NaN                NaN   \n",
       "1     NaN                   NaN               NaN                NaN   \n",
       "2     NaN                   NaN               NaN                NaN   \n",
       "3     NaN                   NaN               NaN                NaN   \n",
       "4     NaN                   NaN               NaN                NaN   \n",
       "\n",
       "  TRAITEMENTCHENILLES IDENTIFIANTPLU TYPEIMPLANTATIONPLU  \\\n",
       "0                 NaN            NaN                 NaN   \n",
       "1                 NaN            NaN                 NaN   \n",
       "2                 NaN            NaN                 NaN   \n",
       "3                 NaN            NaN                 NaN   \n",
       "4                 NaN            NaN                 NaN   \n",
       "\n",
       "   INTITULEPROTECTIONPLU COLLECTIVITE  \\\n",
       "0                    NaN          NaN   \n",
       "1                    NaN          NaN   \n",
       "2                    NaN          NaN   \n",
       "3                    NaN          NaN   \n",
       "4                    NaN          NaN   \n",
       "\n",
       "                                             GeoJSON  \n",
       "0  {\"type\":\"Point\",\"coordinates\":[5.7603469008942...  \n",
       "1  {\"type\":\"Point\",\"coordinates\":[5.7598264646441...  \n",
       "2  {\"type\":\"Point\",\"coordinates\":[5.7599807314486...  \n",
       "3  {\"type\":\"Point\",\"coordinates\":[5.7600570301267...  \n",
       "4  {\"type\":\"Point\",\"coordinates\":[5.7600202792924...  \n",
       "\n",
       "[5 rows x 25 columns]"
      ]
     },
     "execution_count": 121,
     "metadata": {},
     "output_type": "execute_result"
    }
   ],
   "source": [
    "df.head()"
   ]
  },
  {
   "cell_type": "markdown",
   "metadata": {},
   "source": [
    "------------------------------------------\n",
    "### Combien d'éléments uniques dans chaque colonne ? \n",
    "Remarques : \n",
    "- nbre d'ID = nbre d'arbres\n",
    "- 255 espèces d'arbres répertoriées\n",
    "- Quelle est la hiérarchie dans GENRE_BOTA, ESPECE et VARIETE ? \n",
    "\n",
    "--------------------------------------------"
   ]
  },
  {
   "cell_type": "code",
   "execution_count": 126,
   "metadata": {},
   "outputs": [
    {
     "data": {
      "text/plain": [
       "ELEM_POINT_ID            31243\n",
       "CODE                     31243\n",
       "NOM                      31243\n",
       "GENRE                        1\n",
       "GENRE_DESC                   1\n",
       "CATEGORIE                    1\n",
       "CATEGORIE_DESC               1\n",
       "SOUS_CATEGORIE               4\n",
       "SOUS_CATEGORIE_DESC          4\n",
       "CODE_PARENT               1447\n",
       "CODE_PARENT_DESC          1447\n",
       "ADR_SECTEUR                  6\n",
       "BIEN_REFERENCE           31243\n",
       "GENRE_BOTA                 112\n",
       "ESPECE                     255\n",
       "VARIETE                    146\n",
       "STADEDEDEVELOPPEMENT         3\n",
       "ANNEEDEPLANTATION           58\n",
       "RAISONDEPLANTATION           3\n",
       "TRAITEMENTCHENILLES          3\n",
       "IDENTIFIANTPLU              46\n",
       "TYPEIMPLANTATIONPLU          4\n",
       "INTITULEPROTECTIONPLU        3\n",
       "COLLECTIVITE                 2\n",
       "GeoJSON                  31242\n",
       "dtype: int64"
      ]
     },
     "execution_count": 126,
     "metadata": {},
     "output_type": "execute_result"
    }
   ],
   "source": [
    "df.nunique()"
   ]
  },
  {
   "cell_type": "markdown",
   "metadata": {},
   "source": [
    "--------------------------\n",
    "### Quels sont les éléments uniques dans chaque colonne ? \n",
    "\n",
    "--------------"
   ]
  },
  {
   "cell_type": "code",
   "execution_count": 220,
   "metadata": {
    "scrolled": true
   },
   "outputs": [],
   "source": [
    "# j'applique la fonction set sur chacune des colonnes du dataframe\n",
    "# (set permet de récupérer les éléments uniques et de les ranger dans un \"set\")\n",
    "sets = df.apply(set)\n",
    "\n",
    "# J'enlève les nan\n",
    "for col in df.columns.values: \n",
    "    sets[col] = {x for x in sets[col] if pd.notna(x)}"
   ]
  },
  {
   "cell_type": "code",
   "execution_count": 221,
   "metadata": {},
   "outputs": [
    {
     "data": {
      "text/plain": [
       "ELEM_POINT_ID            {1, 2, 3, 4, 5, 6, 7, 8, 9, 10, 11, 12, 13, 14...\n",
       "CODE                     {ESP26605, ESP29935, ESP15496, ESP33352, ESP21...\n",
       "NOM                      {ESP26605, ESP29935, ESP15496, ESP33352, ESP21...\n",
       "GENRE                                                                {VEG}\n",
       "GENRE_DESC                                                    {VEGETATION}\n",
       "CATEGORIE                                                          {ESP01}\n",
       "CATEGORIE_DESC                                                     {Arbre}\n",
       "SOUS_CATEGORIE                            {ESP151, ESP065, ESP187, ESP174}\n",
       "SOUS_CATEGORIE_DESC      {Bois semi naturel, Arbre d'espaces ouverts, A...\n",
       "CODE_PARENT              {ESP358, ESP467, ESP61, ESP1042, ESP684, ESP13...\n",
       "CODE_PARENT_DESC         {Tr quartiers gymn de la rampe, Av Reynoard ta...\n",
       "ADR_SECTEUR                                             {1, 2, 3, 4, 5, 6}\n",
       "BIEN_REFERENCE           {AR11125, AR7663, AR15487, AR27300, AR26880, A...\n",
       "GENRE_BOTA               {Cotinus, Metasequoia, Rhamnus, Davidia, Tilia...\n",
       "ESPECE                   {serrulata, lawsoniana, orientalis, falcata, s...\n",
       "VARIETE                  {Purpurea pendula, Louise Bonne d'Avranche, Vi...\n",
       "STADEDEDEVELOPPEMENT       {Arbre jeune, Arbre vieillissant, Arbre adulte}\n",
       "ANNEEDEPLANTATION        {1950.0, 1955.0, 1960.0, 1961.0, 1964.0, 1965....\n",
       "RAISONDEPLANTATION                       {Existant, Nouveau, Remplacement}\n",
       "TRAITEMENTCHENILLES                                {Basse, Haute, Moyenne}\n",
       "IDENTIFIANTPLU           {2.0, 3.0, 130.0, 12.0, 22.0, 23.0, 24.0, 36.0...\n",
       "TYPEIMPLANTATIONPLU                 {Alignement, Périmètre, Isolé, Groupé}\n",
       "INTITULEPROTECTIONPLU                            {ebc, L 123-1.7, L 123-1}\n",
       "COLLECTIVITE                 {Grenoble Alpes Métropole, Ville de Grenoble}\n",
       "GeoJSON                  {{\"type\":\"Point\",\"coordinates\":[5.737690432366...\n",
       "dtype: object"
      ]
     },
     "execution_count": 221,
     "metadata": {},
     "output_type": "execute_result"
    }
   ],
   "source": [
    "sets"
   ]
  },
  {
   "cell_type": "code",
   "execution_count": 228,
   "metadata": {
    "scrolled": true
   },
   "outputs": [
    {
     "data": {
      "text/plain": [
       "['chinensis',\n",
       " 'anagynoides',\n",
       " 'kaki',\n",
       " 'monogyna',\n",
       " 'campanulata',\n",
       " 'pomifera',\n",
       " 'strobus',\n",
       " 'hupehensis',\n",
       " 'oblonga',\n",
       " 'carpinifolia']"
      ]
     },
     "execution_count": 228,
     "metadata": {},
     "output_type": "execute_result"
    }
   ],
   "source": [
    "# 10 éléments random dans \"ESPECE\" (pour voir à quoi ça ressemble)\n",
    "random.sample(sets['ESPECE'], 10)"
   ]
  },
  {
   "cell_type": "code",
   "execution_count": 232,
   "metadata": {},
   "outputs": [
    {
     "data": {
      "text/plain": [
       "['Al de la pelouse aire de jeux',\n",
       " 'Ec mat Savane 10 R Ronserail',\n",
       " 'Ave Rh Danube devant Pharmacie',\n",
       " 'Prc Mis Tr Perret Pel Nord/Est',\n",
       " 'Ave F Viallet Gambetta Belg',\n",
       " 'Chem des Essarts',\n",
       " 'Pc 3 H St Ferjus terr pétanque',\n",
       " 'R du Repos tennis couverts',\n",
       " 'Av J O Poterne Washington',\n",
       " 'Av Lbruyère S-O passe Malherbe']"
      ]
     },
     "execution_count": 232,
     "metadata": {},
     "output_type": "execute_result"
    }
   ],
   "source": [
    "# 10 éléments random dans \"ESPECE\" (idem)\n",
    "random.sample(sets['CODE_PARENT_DESC'], 10)"
   ]
  },
  {
   "cell_type": "markdown",
   "metadata": {},
   "source": [
    "## Visualisation des données"
   ]
  },
  {
   "cell_type": "markdown",
   "metadata": {},
   "source": [
    "Combien d'arbres plantés année par année ? \\\n",
    "Le maire le + vert => Hubert Dubedout (1975)\n"
   ]
  },
  {
   "cell_type": "code",
   "execution_count": 299,
   "metadata": {},
   "outputs": [
    {
     "data": {
      "image/png": "[encoded data removed]",
      "text/plain": [
       "<Figure size 432x288 with 1 Axes>"
      ]
     },
     "metadata": {
      "needs_background": "light"
     },
     "output_type": "display_data"
    }
   ],
   "source": [
    "years = range(int(min(sets['ANNEEDEPLANTATION'])), int(max(sets['ANNEEDEPLANTATION'])))\n",
    "nbre_arbres_year = []\n",
    "for year in years: \n",
    "    nbre_arbres_year.append(df[df.ANNEEDEPLANTATION == year].shape[0])\n",
    "\n",
    "plt.bar(years, nbre_arbres_year)\n",
    "plt.ylabel(\"Nombre\")\n",
    "plt.xlabel(\"Années\")\n",
    "plt.title(\"Nombre d'arbres plantés année par année\"); \n",
    "plt.show()"
   ]
  },
  {
   "cell_type": "markdown",
   "metadata": {},
   "source": [
    "## Statistiques sur la répartition des arbres \n",
    "\n",
    "Arbres les plus/ moins représentés à Grenoble ?"
   ]
  },
  {
   "cell_type": "code",
   "execution_count": 313,
   "metadata": {},
   "outputs": [],
   "source": [
    "data = []\n",
    "for espece in sets['ESPECE']: \n",
    "    data.append({'Espece': espece, 'Nombre': df[df.ESPECE == espece].shape[0]}) \n",
    "    \n",
    "df_repartition = pd.DataFrame(data) "
   ]
  },
  {
   "cell_type": "code",
   "execution_count": 314,
   "metadata": {},
   "outputs": [
    {
     "data": {
      "text/html": [
       "<div>\n",
       "<style scoped>\n",
       "    .dataframe tbody tr th:only-of-type {\n",
       "        vertical-align: middle;\n",
       "    }\n",
       "\n",
       "    .dataframe tbody tr th {\n",
       "        vertical-align: top;\n",
       "    }\n",
       "\n",
       "    .dataframe thead th {\n",
       "        text-align: right;\n",
       "    }\n",
       "</style>\n",
       "<table border=\"1\" class=\"dataframe\">\n",
       "  <thead>\n",
       "    <tr style=\"text-align: right;\">\n",
       "      <th></th>\n",
       "      <th>Espece</th>\n",
       "      <th>Nombre</th>\n",
       "    </tr>\n",
       "  </thead>\n",
       "  <tbody>\n",
       "    <tr>\n",
       "      <th>226</th>\n",
       "      <td>acerifolia</td>\n",
       "      <td>4422</td>\n",
       "    </tr>\n",
       "    <tr>\n",
       "      <th>57</th>\n",
       "      <td>nigra</td>\n",
       "      <td>1940</td>\n",
       "    </tr>\n",
       "    <tr>\n",
       "      <th>31</th>\n",
       "      <td>pseudoplatanus</td>\n",
       "      <td>1347</td>\n",
       "    </tr>\n",
       "    <tr>\n",
       "      <th>123</th>\n",
       "      <td>betulus</td>\n",
       "      <td>1282</td>\n",
       "    </tr>\n",
       "    <tr>\n",
       "      <th>38</th>\n",
       "      <td>platanoides</td>\n",
       "      <td>1131</td>\n",
       "    </tr>\n",
       "    <tr>\n",
       "      <th>100</th>\n",
       "      <td>tomentosa</td>\n",
       "      <td>1079</td>\n",
       "    </tr>\n",
       "    <tr>\n",
       "      <th>143</th>\n",
       "      <td>campestre</td>\n",
       "      <td>861</td>\n",
       "    </tr>\n",
       "    <tr>\n",
       "      <th>43</th>\n",
       "      <td>cordata</td>\n",
       "      <td>807</td>\n",
       "    </tr>\n",
       "    <tr>\n",
       "      <th>61</th>\n",
       "      <td>styraciflua</td>\n",
       "      <td>806</td>\n",
       "    </tr>\n",
       "    <tr>\n",
       "      <th>64</th>\n",
       "      <td>excelsior</td>\n",
       "      <td>776</td>\n",
       "    </tr>\n",
       "  </tbody>\n",
       "</table>\n",
       "</div>"
      ],
      "text/plain": [
       "             Espece  Nombre\n",
       "226      acerifolia    4422\n",
       "57            nigra    1940\n",
       "31   pseudoplatanus    1347\n",
       "123         betulus    1282\n",
       "38      platanoides    1131\n",
       "100       tomentosa    1079\n",
       "143       campestre     861\n",
       "43          cordata     807\n",
       "61      styraciflua     806\n",
       "64        excelsior     776"
      ]
     },
     "execution_count": 314,
     "metadata": {},
     "output_type": "execute_result"
    }
   ],
   "source": [
    "# Les arbres les plus représentés\n",
    "df_repartition.nlargest(10, 'Nombre')"
   ]
  },
  {
   "cell_type": "code",
   "execution_count": 316,
   "metadata": {
    "scrolled": true
   },
   "outputs": [
    {
     "data": {
      "text/html": [
       "<div>\n",
       "<style scoped>\n",
       "    .dataframe tbody tr th:only-of-type {\n",
       "        vertical-align: middle;\n",
       "    }\n",
       "\n",
       "    .dataframe tbody tr th {\n",
       "        vertical-align: top;\n",
       "    }\n",
       "\n",
       "    .dataframe thead th {\n",
       "        text-align: right;\n",
       "    }\n",
       "</style>\n",
       "<table border=\"1\" class=\"dataframe\">\n",
       "  <thead>\n",
       "    <tr style=\"text-align: right;\">\n",
       "      <th></th>\n",
       "      <th>Espece</th>\n",
       "      <th>Nombre</th>\n",
       "    </tr>\n",
       "  </thead>\n",
       "  <tbody>\n",
       "    <tr>\n",
       "      <th>5</th>\n",
       "      <td>watereri</td>\n",
       "      <td>1</td>\n",
       "    </tr>\n",
       "    <tr>\n",
       "      <th>16</th>\n",
       "      <td>royalty</td>\n",
       "      <td>1</td>\n",
       "    </tr>\n",
       "    <tr>\n",
       "      <th>17</th>\n",
       "      <td>koreana</td>\n",
       "      <td>1</td>\n",
       "    </tr>\n",
       "    <tr>\n",
       "      <th>46</th>\n",
       "      <td>coccinea</td>\n",
       "      <td>1</td>\n",
       "    </tr>\n",
       "    <tr>\n",
       "      <th>48</th>\n",
       "      <td>laevis</td>\n",
       "      <td>1</td>\n",
       "    </tr>\n",
       "    <tr>\n",
       "      <th>59</th>\n",
       "      <td>julianae</td>\n",
       "      <td>1</td>\n",
       "    </tr>\n",
       "    <tr>\n",
       "      <th>78</th>\n",
       "      <td>opalus</td>\n",
       "      <td>1</td>\n",
       "    </tr>\n",
       "    <tr>\n",
       "      <th>79</th>\n",
       "      <td>chamaemespilus</td>\n",
       "      <td>1</td>\n",
       "    </tr>\n",
       "    <tr>\n",
       "      <th>80</th>\n",
       "      <td>splendens</td>\n",
       "      <td>1</td>\n",
       "    </tr>\n",
       "    <tr>\n",
       "      <th>92</th>\n",
       "      <td>sativa</td>\n",
       "      <td>1</td>\n",
       "    </tr>\n",
       "    <tr>\n",
       "      <th>107</th>\n",
       "      <td>quadrangulata</td>\n",
       "      <td>1</td>\n",
       "    </tr>\n",
       "    <tr>\n",
       "      <th>109</th>\n",
       "      <td>heterophylla</td>\n",
       "      <td>1</td>\n",
       "    </tr>\n",
       "    <tr>\n",
       "      <th>110</th>\n",
       "      <td>magnificum</td>\n",
       "      <td>1</td>\n",
       "    </tr>\n",
       "    <tr>\n",
       "      <th>115</th>\n",
       "      <td>auricularis</td>\n",
       "      <td>1</td>\n",
       "    </tr>\n",
       "    <tr>\n",
       "      <th>120</th>\n",
       "      <td>gunii</td>\n",
       "      <td>1</td>\n",
       "    </tr>\n",
       "    <tr>\n",
       "      <th>122</th>\n",
       "      <td>strobus</td>\n",
       "      <td>1</td>\n",
       "    </tr>\n",
       "    <tr>\n",
       "      <th>124</th>\n",
       "      <td>phellos</td>\n",
       "      <td>1</td>\n",
       "    </tr>\n",
       "    <tr>\n",
       "      <th>135</th>\n",
       "      <td>macrocarpa</td>\n",
       "      <td>1</td>\n",
       "    </tr>\n",
       "    <tr>\n",
       "      <th>136</th>\n",
       "      <td>monticola</td>\n",
       "      <td>1</td>\n",
       "    </tr>\n",
       "    <tr>\n",
       "      <th>139</th>\n",
       "      <td>thyphina</td>\n",
       "      <td>1</td>\n",
       "    </tr>\n",
       "    <tr>\n",
       "      <th>140</th>\n",
       "      <td>zoeschense</td>\n",
       "      <td>1</td>\n",
       "    </tr>\n",
       "    <tr>\n",
       "      <th>145</th>\n",
       "      <td>verticillata</td>\n",
       "      <td>1</td>\n",
       "    </tr>\n",
       "    <tr>\n",
       "      <th>159</th>\n",
       "      <td>hispanica</td>\n",
       "      <td>1</td>\n",
       "    </tr>\n",
       "    <tr>\n",
       "      <th>163</th>\n",
       "      <td>bumalda</td>\n",
       "      <td>1</td>\n",
       "    </tr>\n",
       "    <tr>\n",
       "      <th>168</th>\n",
       "      <td>parvifolia</td>\n",
       "      <td>1</td>\n",
       "    </tr>\n",
       "    <tr>\n",
       "      <th>180</th>\n",
       "      <td>drupacea</td>\n",
       "      <td>1</td>\n",
       "    </tr>\n",
       "    <tr>\n",
       "      <th>187</th>\n",
       "      <td>elaeagnifolia</td>\n",
       "      <td>1</td>\n",
       "    </tr>\n",
       "    <tr>\n",
       "      <th>193</th>\n",
       "      <td>liliflora</td>\n",
       "      <td>1</td>\n",
       "    </tr>\n",
       "    <tr>\n",
       "      <th>198</th>\n",
       "      <td>kaki</td>\n",
       "      <td>1</td>\n",
       "    </tr>\n",
       "    <tr>\n",
       "      <th>206</th>\n",
       "      <td>pisifera</td>\n",
       "      <td>1</td>\n",
       "    </tr>\n",
       "    <tr>\n",
       "      <th>218</th>\n",
       "      <td>lasiocarpa</td>\n",
       "      <td>1</td>\n",
       "    </tr>\n",
       "    <tr>\n",
       "      <th>220</th>\n",
       "      <td>formonensis</td>\n",
       "      <td>1</td>\n",
       "    </tr>\n",
       "    <tr>\n",
       "      <th>224</th>\n",
       "      <td>heptapeta</td>\n",
       "      <td>1</td>\n",
       "    </tr>\n",
       "    <tr>\n",
       "      <th>239</th>\n",
       "      <td>coronaria</td>\n",
       "      <td>1</td>\n",
       "    </tr>\n",
       "    <tr>\n",
       "      <th>241</th>\n",
       "      <td>incisa</td>\n",
       "      <td>1</td>\n",
       "    </tr>\n",
       "    <tr>\n",
       "      <th>245</th>\n",
       "      <td>alaternus</td>\n",
       "      <td>1</td>\n",
       "    </tr>\n",
       "  </tbody>\n",
       "</table>\n",
       "</div>"
      ],
      "text/plain": [
       "             Espece  Nombre\n",
       "5          watereri       1\n",
       "16          royalty       1\n",
       "17          koreana       1\n",
       "46         coccinea       1\n",
       "48           laevis       1\n",
       "59         julianae       1\n",
       "78           opalus       1\n",
       "79   chamaemespilus       1\n",
       "80        splendens       1\n",
       "92           sativa       1\n",
       "107   quadrangulata       1\n",
       "109    heterophylla       1\n",
       "110      magnificum       1\n",
       "115     auricularis       1\n",
       "120           gunii       1\n",
       "122         strobus       1\n",
       "124         phellos       1\n",
       "135      macrocarpa       1\n",
       "136       monticola       1\n",
       "139        thyphina       1\n",
       "140      zoeschense       1\n",
       "145    verticillata       1\n",
       "159       hispanica       1\n",
       "163         bumalda       1\n",
       "168      parvifolia       1\n",
       "180        drupacea       1\n",
       "187   elaeagnifolia       1\n",
       "193       liliflora       1\n",
       "198            kaki       1\n",
       "206        pisifera       1\n",
       "218      lasiocarpa       1\n",
       "220     formonensis       1\n",
       "224       heptapeta       1\n",
       "239       coronaria       1\n",
       "241          incisa       1\n",
       "245       alaternus       1"
      ]
     },
     "execution_count": 316,
     "metadata": {},
     "output_type": "execute_result"
    }
   ],
   "source": [
    "# Les arbres uniques à Grenoble\n",
    "df_repartition[df_repartition['Nombre'] == 1]"
   ]
  },
  {
   "cell_type": "markdown",
   "metadata": {},
   "source": [
    "Description générale => pas beaucoup d'intérêt dans ce cas"
   ]
  },
  {
   "cell_type": "code",
   "execution_count": 312,
   "metadata": {},
   "outputs": [
    {
     "data": {
      "text/plain": [
       "count     255.000000\n",
       "mean      113.933333\n",
       "std       357.936540\n",
       "min         1.000000\n",
       "25%         3.000000\n",
       "50%        12.000000\n",
       "75%        74.000000\n",
       "max      4422.000000\n",
       "Name: Nombre, dtype: float64"
      ]
     },
     "execution_count": 312,
     "metadata": {},
     "output_type": "execute_result"
    }
   ],
   "source": [
    "df_repartition['Nombre'].describe()"
   ]
  },
  {
   "cell_type": "markdown",
   "metadata": {},
   "source": [
    "Plot des 50 espèces les plus représentées à Grenoble"
   ]
  },
  {
   "cell_type": "code",
   "execution_count": 381,
   "metadata": {},
   "outputs": [
    {
     "data": {
      "image/png": "[encoded data removed]",
      "text/plain": [
       "<Figure size 1224x360 with 1 Axes>"
      ]
     },
     "metadata": {
      "needs_background": "light"
     },
     "output_type": "display_data"
    }
   ],
   "source": [
    "plt.figure(figsize=(17,5))\n",
    "df_repartition.nlargest(50, 'Nombre').plot(kind='bar',x='Espece',y='Nombre', ax = plt.gca())\n",
    "plt.ylabel(\"Nombre d'arbres\")\n",
    "plt.title(\"Combien d'arbres par espèce à Grenoble ? \")\n",
    "plt.show()"
   ]
  },
  {
   "cell_type": "code",
   "execution_count": 364,
   "metadata": {},
   "outputs": [
    {
     "data": {
      "image/png": "[encoded data removed]",
      "text/plain": [
       "<Figure size 432x288 with 1 Axes>"
      ]
     },
     "metadata": {},
     "output_type": "display_data"
    }
   ],
   "source": [
    "# Répartition des 10 espèces les plus représentées dans un Pie Chart\n",
    "nbre = 10\n",
    "labels = df_repartition.nlargest(nbre, 'Nombre')[\"Espece\"]\n",
    "sizes = df_repartition.nlargest(nbre, 'Nombre')[\"Nombre\"]\n",
    "\n",
    "fig1, ax1 = plt.subplots()\n",
    "ax1.pie(sizes, labels=labels, autopct='%1.0f%%', shadow=True, startangle=90)\n",
    "# ax1.axis('equal')  # Equal aspect ratio ensures that pie is drawn as a circle.\n",
    "plt.title(f\"Répartition des {nbre} espèces \\n les plus représentées\")\n",
    "plt.show()"
   ]
  },
  {
   "cell_type": "code",
   "execution_count": 384,
   "metadata": {
    "scrolled": true
   },
   "outputs": [
    {
     "data": {
      "image/png": "[encoded data removed]",
      "text/plain": [
       "<Figure size 432x288 with 1 Axes>"
      ]
     },
     "metadata": {},
     "output_type": "display_data"
    }
   ],
   "source": [
    "nbre = 5\n",
    "\n",
    "plus_representes = df_repartition.nlargest(nbre, 'Nombre')[\"Nombre\"].sum()\n",
    "moins_representes = df.shape[0]\n",
    "sizes = [plus_representes, moins_representes]\n",
    "labels = [f\"Les {nbre} espèces les plantées\", f\"Les {df_repartition.shape[0]} espèces restantes\"]\n",
    "\n",
    "\n",
    "fig1, ax1 = plt.subplots()\n",
    "ax1.pie(sizes, labels=labels, autopct='%1.0f%%', shadow=True, startangle=90)\n",
    "# ax1.axis('equal')  # Equal aspect ratio ensures that pie is drawn as a circle.\n",
    "plt.title(f\"Sur-représentation de {nbre} espèces \\n par rapport au reste\")\n",
    "plt.show()"
   ]
  },
  {
   "cell_type": "markdown",
   "metadata": {},
   "source": [
    "### Exploration de la hiérarchie : genre botanique / espèce / variété \n",
    "\n",
    "genre botanique <br>\n",
    "&emsp; &emsp; |_ espèce <br>\n",
    "&emsp; &emsp; &emsp; &emsp; |_ variété <br>\n"
   ]
  },
  {
   "cell_type": "code",
   "execution_count": 395,
   "metadata": {},
   "outputs": [],
   "source": [
    "sets_genre = pd.Series(data=None, index=sets['GENRE_BOTA']) \n",
    "for genre in sets['GENRE_BOTA']: \n",
    "    sets_genre"
   ]
  },
  {
   "cell_type": "code",
   "execution_count": 398,
   "metadata": {},
   "outputs": [
    {
     "data": {
      "text/plain": [
       "{'Abies',\n",
       " 'Acer',\n",
       " 'Aesculus',\n",
       " 'Ailanthus',\n",
       " 'Albizia',\n",
       " 'Alnus',\n",
       " 'Amélanchier',\n",
       " 'Araucaria',\n",
       " 'Betula',\n",
       " 'Broussonetia',\n",
       " 'Buxus',\n",
       " 'Calocedrus',\n",
       " 'Carpinus',\n",
       " 'Castanea',\n",
       " 'Catalpa',\n",
       " 'Cedrela',\n",
       " 'Cedrus',\n",
       " 'Celtis',\n",
       " 'Cephalotaxus',\n",
       " 'Cercidiphyllum',\n",
       " 'Cercis',\n",
       " 'Chamaecyparis',\n",
       " 'Chimonanthus',\n",
       " 'Chionanthus',\n",
       " 'Chitalpa',\n",
       " 'Cladastris',\n",
       " 'Clerodendron',\n",
       " 'Cornus',\n",
       " 'Corylus',\n",
       " 'Cotinus',\n",
       " 'Crataegus',\n",
       " 'Cryptomeria',\n",
       " 'Cupressocyparis',\n",
       " 'Cupressus',\n",
       " 'Cydonia',\n",
       " 'Davidia',\n",
       " 'Diospyros',\n",
       " 'Eleagnus',\n",
       " 'Eriobotrya ',\n",
       " 'Eucalyptus',\n",
       " 'Fagus',\n",
       " 'Ficus',\n",
       " 'Fontanesia',\n",
       " 'Fraxinus',\n",
       " 'Ginkgo',\n",
       " 'Gleditsia',\n",
       " 'Gymnocladus',\n",
       " 'Halesia',\n",
       " 'Hovenia',\n",
       " 'Ilex',\n",
       " 'Juglans',\n",
       " 'Juniperus',\n",
       " 'Koelreuteria',\n",
       " 'Laburnum',\n",
       " 'Lagerstroemia',\n",
       " 'Larix',\n",
       " 'Libocedrus',\n",
       " 'Ligustrum',\n",
       " 'Liquidambar',\n",
       " 'Liriodendron',\n",
       " 'Lonicera',\n",
       " 'Maclura',\n",
       " 'Magnolia',\n",
       " 'Malus',\n",
       " 'Mespilus',\n",
       " 'Metasequoia',\n",
       " 'Morus',\n",
       " 'Nyssa',\n",
       " 'Olea',\n",
       " 'Ostrya',\n",
       " 'Parrotia',\n",
       " 'Paulownia',\n",
       " 'Phellodendron',\n",
       " 'Phillyrea',\n",
       " 'Photinia',\n",
       " 'Picea',\n",
       " 'Pinus',\n",
       " 'Pistacia',\n",
       " 'Platanus',\n",
       " 'Poncinos',\n",
       " 'Populus',\n",
       " 'Prunus',\n",
       " 'Ptelea',\n",
       " 'Pterocarya',\n",
       " 'Pteroceltis',\n",
       " 'Pterostyrax',\n",
       " 'Punica',\n",
       " 'Pyrus',\n",
       " 'Quercus',\n",
       " 'Rhamnus',\n",
       " 'Rhus',\n",
       " 'Robinia',\n",
       " 'Salix',\n",
       " 'Sambucus',\n",
       " 'Sciadopitys',\n",
       " 'Sequoia',\n",
       " 'Sequoiadendron',\n",
       " 'Sophora',\n",
       " 'Sorbopyrus',\n",
       " 'Sorbus',\n",
       " 'Staphylea',\n",
       " 'Sterculia',\n",
       " 'Styrax',\n",
       " 'Syringa',\n",
       " 'Taxodium',\n",
       " 'Taxus',\n",
       " 'Tetradium',\n",
       " 'Thuja',\n",
       " 'Tilia',\n",
       " 'Trachycarpus',\n",
       " 'Ulmus',\n",
       " 'Zelkova'}"
      ]
     },
     "execution_count": 398,
     "metadata": {},
     "output_type": "execute_result"
    }
   ],
   "source": [
    "sets['GENRE_BOTA']"
   ]
  }
 ],
 "metadata": {
  "kernelspec": {
   "display_name": "Python 3",
   "language": "python",
   "name": "python3"
  },
  "language_info": {
   "codemirror_mode": {
    "name": "ipython",
    "version": 3
   },
   "file_extension": ".py",
   "mimetype": "text/x-python",
   "name": "python",
   "nbconvert_exporter": "python",
   "pygments_lexer": "ipython3",
   "version": "3.7.5"
  }
 },
 "nbformat": 4,
 "nbformat_minor": 2
}
