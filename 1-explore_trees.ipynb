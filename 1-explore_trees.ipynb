{
 "cells": [
  {
   "cell_type": "markdown",
   "metadata": {},
   "source": [
    "<img src=\"assets/tree.png\" alt=\"Drawing\" style=\"width: 100px;\"/>\n",
    "\n",
    "# Dataset arbres : exploration préliminaire\n",
    "Source : http://data.metropolegrenoble.fr/ckan/dataset/les-arbres-de-grenoble\n",
    "\n",
    "\n"
   ]
  },
  {
   "cell_type": "code",
   "execution_count": 3,
   "metadata": {
    "ExecuteTime": {
     "end_time": "2019-12-03T16:23:11.769134Z",
     "start_time": "2019-12-03T16:23:11.762092Z"
    },
    "scrolled": false
   },
   "outputs": [],
   "source": [
    "from IPython.core.interactiveshell import InteractiveShell\n",
    "import csv\n",
    "import pandas as pd\n",
    "import numpy as np\n",
    "import matplotlib.pyplot as plt\n",
    "import random\n",
    "\n",
    "# Quelques settings\n",
    "plt.rcParams['figure.figsize'] = 15, 8\n",
    "plt.rcParams['axes.labelsize'] = 25\n",
    "plt.rcParams['axes.titlesize'] = 20\n",
    "plt.rcParams['lines.linewidth'] = 2\n",
    "plt.rcParams['lines.markersize'] = 8\n",
    "plt.rcParams['legend.fontsize'] = 14\n",
    "\n",
    "pd.set_option(\"max_columns\", 100)\n",
    "pd.set_option(\"max_colwidth\", 50)\n",
    "\n",
    "# InteractiveShell.ast_node_interactivity = \"all\""
   ]
  },
  {
   "cell_type": "markdown",
   "metadata": {},
   "source": [
    "## Data Cleaning"
   ]
  },
  {
   "cell_type": "code",
   "execution_count": 8,
   "metadata": {
    "ExecuteTime": {
     "end_time": "2019-12-03T16:16:03.074578Z",
     "start_time": "2019-12-03T16:16:02.873449Z"
    }
   },
   "outputs": [],
   "source": [
    "# Chargement des données dans un dataframe pandas\n",
    "raw_df = pd.read_csv('data/trees.csv')"
   ]
  },
  {
   "cell_type": "code",
   "execution_count": 9,
   "metadata": {
    "ExecuteTime": {
     "end_time": "2019-12-03T16:16:13.335201Z",
     "start_time": "2019-12-03T16:16:13.298739Z"
    }
   },
   "outputs": [
    {
     "data": {
      "text/html": [
       "<div>\n",
       "<style scoped>\n",
       "    .dataframe tbody tr th:only-of-type {\n",
       "        vertical-align: middle;\n",
       "    }\n",
       "\n",
       "    .dataframe tbody tr th {\n",
       "        vertical-align: top;\n",
       "    }\n",
       "\n",
       "    .dataframe thead th {\n",
       "        text-align: right;\n",
       "    }\n",
       "</style>\n",
       "<table border=\"1\" class=\"dataframe\">\n",
       "  <thead>\n",
       "    <tr style=\"text-align: right;\">\n",
       "      <th></th>\n",
       "      <th>ELEM_POINT_ID</th>\n",
       "      <th>CODE</th>\n",
       "      <th>NOM</th>\n",
       "      <th>GENRE</th>\n",
       "      <th>GENRE_DESC</th>\n",
       "      <th>CATEGORIE</th>\n",
       "      <th>CATEGORIE_DESC</th>\n",
       "      <th>SOUS_CATEGORIE</th>\n",
       "      <th>SOUS_CATEGORIE_DESC</th>\n",
       "      <th>CODE_PARENT</th>\n",
       "      <th>CODE_PARENT_DESC</th>\n",
       "      <th>ADR_SECTEUR</th>\n",
       "      <th>BIEN_REFERENCE</th>\n",
       "      <th>GENRE_BOTA</th>\n",
       "      <th>ESPECE</th>\n",
       "      <th>VARIETE</th>\n",
       "      <th>STADEDEDEVELOPPEMENT</th>\n",
       "      <th>EQUIPE</th>\n",
       "      <th>REMARQUES</th>\n",
       "      <th>ANNEEDEPLANTATION</th>\n",
       "      <th>RAISONDEPLANTATION</th>\n",
       "      <th>TRAITEMENTCHENILLES</th>\n",
       "      <th>COURRIER</th>\n",
       "      <th>IDENTIFIANTPLU</th>\n",
       "      <th>TYPEIMPLANTATIONPLU</th>\n",
       "      <th>INTITULEPROTECTIONPLU</th>\n",
       "      <th>ANNEEABATTAGE</th>\n",
       "      <th>ESSOUCHEMENT</th>\n",
       "      <th>DIAMETREARBRE</th>\n",
       "      <th>CAUSEABATTAGE</th>\n",
       "      <th>COLLECTIVITE</th>\n",
       "      <th>GeoJSON</th>\n",
       "    </tr>\n",
       "  </thead>\n",
       "  <tbody>\n",
       "    <tr>\n",
       "      <td>0</td>\n",
       "      <td>37993</td>\n",
       "      <td>ESP37969</td>\n",
       "      <td>ESP37969</td>\n",
       "      <td>VEG</td>\n",
       "      <td>VEGETATION</td>\n",
       "      <td>ESP01</td>\n",
       "      <td>Arbre</td>\n",
       "      <td>ESP065</td>\n",
       "      <td>Arbre d'enceintes fermées</td>\n",
       "      <td>ESP37898</td>\n",
       "      <td>Maison des Collines Jard Poisat</td>\n",
       "      <td>6</td>\n",
       "      <td>AR37969</td>\n",
       "      <td>NaN</td>\n",
       "      <td>NaN</td>\n",
       "      <td>NaN</td>\n",
       "      <td>NaN</td>\n",
       "      <td>NaN</td>\n",
       "      <td>NaN</td>\n",
       "      <td>NaN</td>\n",
       "      <td>NaN</td>\n",
       "      <td>NaN</td>\n",
       "      <td>NaN</td>\n",
       "      <td>NaN</td>\n",
       "      <td>NaN</td>\n",
       "      <td>NaN</td>\n",
       "      <td>NaN</td>\n",
       "      <td>NaN</td>\n",
       "      <td>NaN</td>\n",
       "      <td>NaN</td>\n",
       "      <td>NaN</td>\n",
       "      <td>{\"type\":\"Point\",\"coordinates\":[5.7603469008942...</td>\n",
       "    </tr>\n",
       "    <tr>\n",
       "      <td>1</td>\n",
       "      <td>37992</td>\n",
       "      <td>ESP37968</td>\n",
       "      <td>ESP37968</td>\n",
       "      <td>VEG</td>\n",
       "      <td>VEGETATION</td>\n",
       "      <td>ESP01</td>\n",
       "      <td>Arbre</td>\n",
       "      <td>ESP065</td>\n",
       "      <td>Arbre d'enceintes fermées</td>\n",
       "      <td>ESP37898</td>\n",
       "      <td>Maison des Collines Jard Poisat</td>\n",
       "      <td>6</td>\n",
       "      <td>AR37968</td>\n",
       "      <td>NaN</td>\n",
       "      <td>NaN</td>\n",
       "      <td>NaN</td>\n",
       "      <td>NaN</td>\n",
       "      <td>NaN</td>\n",
       "      <td>NaN</td>\n",
       "      <td>NaN</td>\n",
       "      <td>NaN</td>\n",
       "      <td>NaN</td>\n",
       "      <td>NaN</td>\n",
       "      <td>NaN</td>\n",
       "      <td>NaN</td>\n",
       "      <td>NaN</td>\n",
       "      <td>NaN</td>\n",
       "      <td>NaN</td>\n",
       "      <td>NaN</td>\n",
       "      <td>NaN</td>\n",
       "      <td>NaN</td>\n",
       "      <td>{\"type\":\"Point\",\"coordinates\":[5.7598264646441...</td>\n",
       "    </tr>\n",
       "    <tr>\n",
       "      <td>2</td>\n",
       "      <td>37991</td>\n",
       "      <td>ESP37967</td>\n",
       "      <td>ESP37967</td>\n",
       "      <td>VEG</td>\n",
       "      <td>VEGETATION</td>\n",
       "      <td>ESP01</td>\n",
       "      <td>Arbre</td>\n",
       "      <td>ESP065</td>\n",
       "      <td>Arbre d'enceintes fermées</td>\n",
       "      <td>ESP37898</td>\n",
       "      <td>Maison des Collines Jard Poisat</td>\n",
       "      <td>6</td>\n",
       "      <td>AR37967</td>\n",
       "      <td>NaN</td>\n",
       "      <td>NaN</td>\n",
       "      <td>NaN</td>\n",
       "      <td>NaN</td>\n",
       "      <td>NaN</td>\n",
       "      <td>NaN</td>\n",
       "      <td>NaN</td>\n",
       "      <td>NaN</td>\n",
       "      <td>NaN</td>\n",
       "      <td>NaN</td>\n",
       "      <td>NaN</td>\n",
       "      <td>NaN</td>\n",
       "      <td>NaN</td>\n",
       "      <td>NaN</td>\n",
       "      <td>NaN</td>\n",
       "      <td>NaN</td>\n",
       "      <td>NaN</td>\n",
       "      <td>NaN</td>\n",
       "      <td>{\"type\":\"Point\",\"coordinates\":[5.7599807314486...</td>\n",
       "    </tr>\n",
       "    <tr>\n",
       "      <td>3</td>\n",
       "      <td>37990</td>\n",
       "      <td>ESP37966</td>\n",
       "      <td>ESP37966</td>\n",
       "      <td>VEG</td>\n",
       "      <td>VEGETATION</td>\n",
       "      <td>ESP01</td>\n",
       "      <td>Arbre</td>\n",
       "      <td>ESP065</td>\n",
       "      <td>Arbre d'enceintes fermées</td>\n",
       "      <td>ESP37898</td>\n",
       "      <td>Maison des Collines Jard Poisat</td>\n",
       "      <td>6</td>\n",
       "      <td>AR37966</td>\n",
       "      <td>NaN</td>\n",
       "      <td>NaN</td>\n",
       "      <td>NaN</td>\n",
       "      <td>NaN</td>\n",
       "      <td>NaN</td>\n",
       "      <td>NaN</td>\n",
       "      <td>NaN</td>\n",
       "      <td>NaN</td>\n",
       "      <td>NaN</td>\n",
       "      <td>NaN</td>\n",
       "      <td>NaN</td>\n",
       "      <td>NaN</td>\n",
       "      <td>NaN</td>\n",
       "      <td>NaN</td>\n",
       "      <td>NaN</td>\n",
       "      <td>NaN</td>\n",
       "      <td>NaN</td>\n",
       "      <td>NaN</td>\n",
       "      <td>{\"type\":\"Point\",\"coordinates\":[5.7600570301267...</td>\n",
       "    </tr>\n",
       "    <tr>\n",
       "      <td>4</td>\n",
       "      <td>37989</td>\n",
       "      <td>ESP37965</td>\n",
       "      <td>ESP37965</td>\n",
       "      <td>VEG</td>\n",
       "      <td>VEGETATION</td>\n",
       "      <td>ESP01</td>\n",
       "      <td>Arbre</td>\n",
       "      <td>ESP065</td>\n",
       "      <td>Arbre d'enceintes fermées</td>\n",
       "      <td>ESP37898</td>\n",
       "      <td>Maison des Collines Jard Poisat</td>\n",
       "      <td>6</td>\n",
       "      <td>AR37965</td>\n",
       "      <td>NaN</td>\n",
       "      <td>NaN</td>\n",
       "      <td>NaN</td>\n",
       "      <td>NaN</td>\n",
       "      <td>NaN</td>\n",
       "      <td>NaN</td>\n",
       "      <td>NaN</td>\n",
       "      <td>NaN</td>\n",
       "      <td>NaN</td>\n",
       "      <td>NaN</td>\n",
       "      <td>NaN</td>\n",
       "      <td>NaN</td>\n",
       "      <td>NaN</td>\n",
       "      <td>NaN</td>\n",
       "      <td>NaN</td>\n",
       "      <td>NaN</td>\n",
       "      <td>NaN</td>\n",
       "      <td>NaN</td>\n",
       "      <td>{\"type\":\"Point\",\"coordinates\":[5.7600202792924...</td>\n",
       "    </tr>\n",
       "  </tbody>\n",
       "</table>\n",
       "</div>"
      ],
      "text/plain": [
       "   ELEM_POINT_ID      CODE       NOM GENRE  GENRE_DESC CATEGORIE  \\\n",
       "0          37993  ESP37969  ESP37969   VEG  VEGETATION     ESP01   \n",
       "1          37992  ESP37968  ESP37968   VEG  VEGETATION     ESP01   \n",
       "2          37991  ESP37967  ESP37967   VEG  VEGETATION     ESP01   \n",
       "3          37990  ESP37966  ESP37966   VEG  VEGETATION     ESP01   \n",
       "4          37989  ESP37965  ESP37965   VEG  VEGETATION     ESP01   \n",
       "\n",
       "  CATEGORIE_DESC SOUS_CATEGORIE        SOUS_CATEGORIE_DESC CODE_PARENT  \\\n",
       "0          Arbre         ESP065  Arbre d'enceintes fermées    ESP37898   \n",
       "1          Arbre         ESP065  Arbre d'enceintes fermées    ESP37898   \n",
       "2          Arbre         ESP065  Arbre d'enceintes fermées    ESP37898   \n",
       "3          Arbre         ESP065  Arbre d'enceintes fermées    ESP37898   \n",
       "4          Arbre         ESP065  Arbre d'enceintes fermées    ESP37898   \n",
       "\n",
       "                  CODE_PARENT_DESC  ADR_SECTEUR BIEN_REFERENCE GENRE_BOTA  \\\n",
       "0  Maison des Collines Jard Poisat            6        AR37969        NaN   \n",
       "1  Maison des Collines Jard Poisat            6        AR37968        NaN   \n",
       "2  Maison des Collines Jard Poisat            6        AR37967        NaN   \n",
       "3  Maison des Collines Jard Poisat            6        AR37966        NaN   \n",
       "4  Maison des Collines Jard Poisat            6        AR37965        NaN   \n",
       "\n",
       "  ESPECE VARIETE STADEDEDEVELOPPEMENT  EQUIPE  REMARQUES  ANNEEDEPLANTATION  \\\n",
       "0    NaN     NaN                  NaN     NaN        NaN                NaN   \n",
       "1    NaN     NaN                  NaN     NaN        NaN                NaN   \n",
       "2    NaN     NaN                  NaN     NaN        NaN                NaN   \n",
       "3    NaN     NaN                  NaN     NaN        NaN                NaN   \n",
       "4    NaN     NaN                  NaN     NaN        NaN                NaN   \n",
       "\n",
       "  RAISONDEPLANTATION TRAITEMENTCHENILLES  COURRIER  IDENTIFIANTPLU  \\\n",
       "0                NaN                 NaN       NaN             NaN   \n",
       "1                NaN                 NaN       NaN             NaN   \n",
       "2                NaN                 NaN       NaN             NaN   \n",
       "3                NaN                 NaN       NaN             NaN   \n",
       "4                NaN                 NaN       NaN             NaN   \n",
       "\n",
       "  TYPEIMPLANTATIONPLU INTITULEPROTECTIONPLU  ANNEEABATTAGE  ESSOUCHEMENT  \\\n",
       "0                 NaN                   NaN            NaN           NaN   \n",
       "1                 NaN                   NaN            NaN           NaN   \n",
       "2                 NaN                   NaN            NaN           NaN   \n",
       "3                 NaN                   NaN            NaN           NaN   \n",
       "4                 NaN                   NaN            NaN           NaN   \n",
       "\n",
       "   DIAMETREARBRE  CAUSEABATTAGE COLLECTIVITE  \\\n",
       "0            NaN            NaN          NaN   \n",
       "1            NaN            NaN          NaN   \n",
       "2            NaN            NaN          NaN   \n",
       "3            NaN            NaN          NaN   \n",
       "4            NaN            NaN          NaN   \n",
       "\n",
       "                                             GeoJSON  \n",
       "0  {\"type\":\"Point\",\"coordinates\":[5.7603469008942...  \n",
       "1  {\"type\":\"Point\",\"coordinates\":[5.7598264646441...  \n",
       "2  {\"type\":\"Point\",\"coordinates\":[5.7599807314486...  \n",
       "3  {\"type\":\"Point\",\"coordinates\":[5.7600570301267...  \n",
       "4  {\"type\":\"Point\",\"coordinates\":[5.7600202792924...  "
      ]
     },
     "execution_count": 9,
     "metadata": {},
     "output_type": "execute_result"
    }
   ],
   "source": [
    "raw_df.head()"
   ]
  },
  {
   "cell_type": "markdown",
   "metadata": {},
   "source": [
    "Remarques : \n",
    "- pas d'info sur l'année d'abattage (sont ils tous encore en vie ?) \n",
    "- Pas d'info sur le diamètre des arbres"
   ]
  },
  {
   "cell_type": "code",
   "execution_count": 10,
   "metadata": {
    "ExecuteTime": {
     "end_time": "2019-12-03T16:16:21.090475Z",
     "start_time": "2019-12-03T16:16:21.021920Z"
    },
    "scrolled": true
   },
   "outputs": [
    {
     "data": {
      "text/plain": [
       "ELEM_POINT_ID            31243\n",
       "CODE                     31243\n",
       "NOM                      31243\n",
       "GENRE                    31243\n",
       "GENRE_DESC               31243\n",
       "CATEGORIE                31243\n",
       "CATEGORIE_DESC           31243\n",
       "SOUS_CATEGORIE           31243\n",
       "SOUS_CATEGORIE_DESC      31243\n",
       "CODE_PARENT              31243\n",
       "CODE_PARENT_DESC         31243\n",
       "ADR_SECTEUR              31243\n",
       "BIEN_REFERENCE           31243\n",
       "GENRE_BOTA               30728\n",
       "ESPECE                   29053\n",
       "VARIETE                   4039\n",
       "STADEDEDEVELOPPEMENT     29228\n",
       "EQUIPE                       0\n",
       "REMARQUES                    0\n",
       "ANNEEDEPLANTATION        30801\n",
       "RAISONDEPLANTATION        1050\n",
       "TRAITEMENTCHENILLES       2338\n",
       "COURRIER                     0\n",
       "IDENTIFIANTPLU             610\n",
       "TYPEIMPLANTATIONPLU        610\n",
       "INTITULEPROTECTIONPLU      610\n",
       "ANNEEABATTAGE                0\n",
       "ESSOUCHEMENT                 0\n",
       "DIAMETREARBRE                0\n",
       "CAUSEABATTAGE                0\n",
       "COLLECTIVITE             30804\n",
       "GeoJSON                  31243\n",
       "dtype: int64"
      ]
     },
     "execution_count": 10,
     "metadata": {},
     "output_type": "execute_result"
    }
   ],
   "source": [
    "raw_df.count()"
   ]
  },
  {
   "cell_type": "markdown",
   "metadata": {},
   "source": [
    "On ne garde que les colonnes utiles "
   ]
  },
  {
   "cell_type": "code",
   "execution_count": 11,
   "metadata": {
    "ExecuteTime": {
     "end_time": "2019-12-03T18:33:39.043564Z",
     "start_time": "2019-12-03T18:33:39.025162Z"
    },
    "scrolled": false
   },
   "outputs": [
    {
     "data": {
      "text/html": [
       "<div>\n",
       "<style scoped>\n",
       "    .dataframe tbody tr th:only-of-type {\n",
       "        vertical-align: middle;\n",
       "    }\n",
       "\n",
       "    .dataframe tbody tr th {\n",
       "        vertical-align: top;\n",
       "    }\n",
       "\n",
       "    .dataframe thead th {\n",
       "        text-align: right;\n",
       "    }\n",
       "</style>\n",
       "<table border=\"1\" class=\"dataframe\">\n",
       "  <thead>\n",
       "    <tr style=\"text-align: right;\">\n",
       "      <th></th>\n",
       "      <th>GENRE_BOTA</th>\n",
       "      <th>ESPECE</th>\n",
       "      <th>VARIETE</th>\n",
       "      <th>ANNEEDEPLANTATION</th>\n",
       "      <th>GeoJSON</th>\n",
       "    </tr>\n",
       "  </thead>\n",
       "  <tbody>\n",
       "    <tr>\n",
       "      <td>13138</td>\n",
       "      <td>Fraxinus</td>\n",
       "      <td>angustifolia</td>\n",
       "      <td>NaN</td>\n",
       "      <td>1978.0</td>\n",
       "      <td>{\"type\":\"Point\",\"coordinates\":[5.7273722081388...</td>\n",
       "    </tr>\n",
       "    <tr>\n",
       "      <td>16092</td>\n",
       "      <td>Acer</td>\n",
       "      <td>platanoides</td>\n",
       "      <td>NaN</td>\n",
       "      <td>1975.0</td>\n",
       "      <td>{\"type\":\"Point\",\"coordinates\":[5.7035852632558...</td>\n",
       "    </tr>\n",
       "    <tr>\n",
       "      <td>208</td>\n",
       "      <td>Cedrus</td>\n",
       "      <td>atlantica</td>\n",
       "      <td>NaN</td>\n",
       "      <td>1970.0</td>\n",
       "      <td>{\"type\":\"Point\",\"coordinates\":[5.7047772622071...</td>\n",
       "    </tr>\n",
       "    <tr>\n",
       "      <td>15460</td>\n",
       "      <td>Platanus</td>\n",
       "      <td>orientalis</td>\n",
       "      <td>NaN</td>\n",
       "      <td>2001.0</td>\n",
       "      <td>{\"type\":\"Point\",\"coordinates\":[5.7104042389601...</td>\n",
       "    </tr>\n",
       "    <tr>\n",
       "      <td>1851</td>\n",
       "      <td>Prunus</td>\n",
       "      <td>dulcis</td>\n",
       "      <td>NaN</td>\n",
       "      <td>2014.0</td>\n",
       "      <td>{\"type\":\"Point\",\"coordinates\":[5.7232289205170...</td>\n",
       "    </tr>\n",
       "    <tr>\n",
       "      <td>22774</td>\n",
       "      <td>Acer</td>\n",
       "      <td>platanoides</td>\n",
       "      <td>NaN</td>\n",
       "      <td>1975.0</td>\n",
       "      <td>{\"type\":\"Point\",\"coordinates\":[5.7338396936335...</td>\n",
       "    </tr>\n",
       "    <tr>\n",
       "      <td>9624</td>\n",
       "      <td>Populus</td>\n",
       "      <td>NaN</td>\n",
       "      <td>NaN</td>\n",
       "      <td>1976.0</td>\n",
       "      <td>{\"type\":\"Point\",\"coordinates\":[5.7498026139045...</td>\n",
       "    </tr>\n",
       "    <tr>\n",
       "      <td>14029</td>\n",
       "      <td>Carpinus</td>\n",
       "      <td>betulus</td>\n",
       "      <td>NaN</td>\n",
       "      <td>2001.0</td>\n",
       "      <td>{\"type\":\"Point\",\"coordinates\":[5.7443358933517...</td>\n",
       "    </tr>\n",
       "    <tr>\n",
       "      <td>26712</td>\n",
       "      <td>Pinus</td>\n",
       "      <td>nigra</td>\n",
       "      <td>Austriaca</td>\n",
       "      <td>1960.0</td>\n",
       "      <td>{\"type\":\"Point\",\"coordinates\":[5.7357297986324...</td>\n",
       "    </tr>\n",
       "    <tr>\n",
       "      <td>9355</td>\n",
       "      <td>Acer</td>\n",
       "      <td>pseudoplatanus</td>\n",
       "      <td>NaN</td>\n",
       "      <td>1976.0</td>\n",
       "      <td>{\"type\":\"Point\",\"coordinates\":[5.7341944074427...</td>\n",
       "    </tr>\n",
       "  </tbody>\n",
       "</table>\n",
       "</div>"
      ],
      "text/plain": [
       "      GENRE_BOTA          ESPECE    VARIETE  ANNEEDEPLANTATION  \\\n",
       "13138   Fraxinus    angustifolia        NaN             1978.0   \n",
       "16092       Acer     platanoides        NaN             1975.0   \n",
       "208       Cedrus       atlantica        NaN             1970.0   \n",
       "15460   Platanus      orientalis        NaN             2001.0   \n",
       "1851      Prunus          dulcis        NaN             2014.0   \n",
       "22774       Acer     platanoides        NaN             1975.0   \n",
       "9624     Populus             NaN        NaN             1976.0   \n",
       "14029   Carpinus         betulus        NaN             2001.0   \n",
       "26712      Pinus           nigra  Austriaca             1960.0   \n",
       "9355        Acer  pseudoplatanus        NaN             1976.0   \n",
       "\n",
       "                                                 GeoJSON  \n",
       "13138  {\"type\":\"Point\",\"coordinates\":[5.7273722081388...  \n",
       "16092  {\"type\":\"Point\",\"coordinates\":[5.7035852632558...  \n",
       "208    {\"type\":\"Point\",\"coordinates\":[5.7047772622071...  \n",
       "15460  {\"type\":\"Point\",\"coordinates\":[5.7104042389601...  \n",
       "1851   {\"type\":\"Point\",\"coordinates\":[5.7232289205170...  \n",
       "22774  {\"type\":\"Point\",\"coordinates\":[5.7338396936335...  \n",
       "9624   {\"type\":\"Point\",\"coordinates\":[5.7498026139045...  \n",
       "14029  {\"type\":\"Point\",\"coordinates\":[5.7443358933517...  \n",
       "26712  {\"type\":\"Point\",\"coordinates\":[5.7357297986324...  \n",
       "9355   {\"type\":\"Point\",\"coordinates\":[5.7341944074427...  "
      ]
     },
     "execution_count": 11,
     "metadata": {},
     "output_type": "execute_result"
    }
   ],
   "source": [
    "trees_df = raw_df[['GENRE_BOTA', 'ESPECE', 'VARIETE',\n",
    "                   'ANNEEDEPLANTATION', 'GeoJSON']].copy()\n",
    "\n",
    "trees_df.sample(n=10)"
   ]
  },
  {
   "cell_type": "markdown",
   "metadata": {},
   "source": [
    "## Data Exploration : Diversité"
   ]
  },
  {
   "attachments": {
    "Screenshot_2019-12-03%20La%20diversit%C3%A9%20%C3%A0%20l'%C3%A9chelle%20locale%20dans%20la%20m%C3%A9tropole.png": {
     "image/png": "[encoded data removed]"
    }
   },
   "cell_type": "markdown",
   "metadata": {},
   "source": [
    "![Screenshot_2019-12-03%20La%20diversit%C3%A9%20%C3%A0%20l'%C3%A9chelle%20locale%20dans%20la%20m%C3%A9tropole.png](attachment:Screenshot_2019-12-03%20La%20diversit%C3%A9%20%C3%A0%20l'%C3%A9chelle%20locale%20dans%20la%20m%C3%A9tropole.png)"
   ]
  },
  {
   "cell_type": "markdown",
   "metadata": {},
   "source": [
    "### Diversité des espèces et genres ?"
   ]
  },
  {
   "cell_type": "code",
   "execution_count": 12,
   "metadata": {
    "ExecuteTime": {
     "end_time": "2019-12-03T18:27:18.555030Z",
     "start_time": "2019-12-03T18:27:18.451469Z"
    }
   },
   "outputs": [
    {
     "name": "stdout",
     "output_type": "stream",
     "text": [
      "Nombre de genres botaniques différents : 112\n",
      "Nombre d'espèces différentes : 312\n",
      "Nombre de variétés différentes : 493\n"
     ]
    }
   ],
   "source": [
    "nombre_genre_unique = trees_df.GENRE_BOTA.nunique()\n",
    "nombre_espece_unique = (trees_df.GENRE_BOTA + ' ' + trees_df.ESPECE).nunique()\n",
    "nombre_variete_unique = (trees_df.GENRE_BOTA + ' ' + trees_df.ESPECE +\n",
    "                         ' ' + trees_df.VARIETE.replace(np.nan, '')).nunique()\n",
    "\n",
    "print(f\"Nombre de genres botaniques différents : {nombre_genre_unique}\")\n",
    "print(f\"Nombre d'espèces différentes : {nombre_espece_unique}\")\n",
    "print(f\"Nombre de variétés différentes : {nombre_variete_unique}\")"
   ]
  },
  {
   "cell_type": "code",
   "execution_count": 13,
   "metadata": {
    "ExecuteTime": {
     "end_time": "2019-12-03T17:37:22.480257Z",
     "start_time": "2019-12-03T17:37:22.466933Z"
    }
   },
   "outputs": [
    {
     "name": "stdout",
     "output_type": "stream",
     "text": [
      "Genre botanique le plus représenté : Acer\n",
      "Nombre de Acer : 5276\n",
      "Nombre d'arbre total : 31243\n",
      "Pourcentage de Acer : 16.9 % \n"
     ]
    }
   ],
   "source": [
    "# Pas plus de 20% d'un genre ?\n",
    "nombre_arbres_par_genre = trees_df.GENRE_BOTA.value_counts()\n",
    "genre_dominant = nombre_arbres_par_genre.index[0]\n",
    "percent_genre_dominant = 100*nombre_arbres_par_genre[0]/trees_df.shape[0]\n",
    "\n",
    "print(f'Genre botanique le plus représenté : {genre_dominant}')\n",
    "print(f'Nombre de {genre_dominant} : {nombre_arbres_par_genre[0]}')\n",
    "print(f\"Nombre d'arbre total : {trees_df.shape[0]}\")\n",
    "print(f\"Pourcentage de {genre_dominant} : {percent_genre_dominant:.1f} % \")"
   ]
  },
  {
   "cell_type": "code",
   "execution_count": 14,
   "metadata": {},
   "outputs": [
    {
     "name": "stdout",
     "output_type": "stream",
     "text": [
      "Espèce la plus représentée : Platanus acerifolia\n",
      "Nombre de Platanus acerifolia : 4422\n",
      "Pourcentage de Platanus acerifolia : 14.2 % \n"
     ]
    }
   ],
   "source": [
    "# Pas plus de 10% d'une espèce ?\n",
    "espece_dominante = trees_df.groupby(['GENRE_BOTA', 'ESPECE']).size().idxmax()\n",
    "nombre_arbre_espece_dominante = trees_df.groupby(['GENRE_BOTA', 'ESPECE']).size().max()\n",
    "percent_espece_dominante = 100*nombre_arbre_espece_dominante/trees_df.shape[0]\n",
    "\n",
    "print(f\"Espèce la plus représentée : {' '.join(espece_dominante)}\")\n",
    "print(f\"Nombre de {' '.join(espece_dominante)} : {nombre_arbre_espece_dominante}\")\n",
    "print(f\"Pourcentage de {' '.join(espece_dominante)} : {percent_espece_dominante:.1f} % \")"
   ]
  },
  {
   "cell_type": "markdown",
   "metadata": {},
   "source": [
    "***\n",
    "### Quels sont les éléments uniques dans chaque colonne ? \n",
    "***\n"
   ]
  },
  {
   "cell_type": "code",
   "execution_count": 15,
   "metadata": {
    "ExecuteTime": {
     "end_time": "2019-12-03T16:06:00.753469Z",
     "start_time": "2019-12-03T16:06:00.728819Z"
    }
   },
   "outputs": [
    {
     "data": {
      "text/plain": [
       "{'Abies concolor',\n",
       " 'Abies koreana',\n",
       " 'Abies nordmaniana',\n",
       " 'Abies pinsapo',\n",
       " 'Acer buergerianum',\n",
       " 'Acer campestre',\n",
       " 'Acer capillipes',\n",
       " 'Acer cappadocicum',\n",
       " 'Acer carpinifolia',\n",
       " 'Acer davidii',\n",
       " 'Acer freemanii',\n",
       " 'Acer ginnala',\n",
       " 'Acer griseum',\n",
       " 'Acer grosseri',\n",
       " 'Acer heldreichii',\n",
       " 'Acer hippocastanum',\n",
       " 'Acer japonicum',\n",
       " 'Acer monspessulanum',\n",
       " 'Acer negundo',\n",
       " 'Acer nikoense',\n",
       " 'Acer opalus',\n",
       " 'Acer palmatum',\n",
       " 'Acer platanoides',\n",
       " 'Acer pseudoplatanus',\n",
       " 'Acer rubrum',\n",
       " 'Acer saccharinum',\n",
       " 'Acer tartarica',\n",
       " 'Acer triflorum',\n",
       " 'Acer utilis',\n",
       " 'Acer zoeschense',\n",
       " 'Aesculus carnea',\n",
       " 'Aesculus chandelle seche',\n",
       " 'Aesculus hippocastanum',\n",
       " 'Aesculus parviflora',\n",
       " 'Aesculus pavia',\n",
       " 'Ailanthus altissima',\n",
       " 'Albizia jullibrissin',\n",
       " 'Alnus cordata',\n",
       " 'Alnus glutinosa',\n",
       " 'Alnus incana',\n",
       " 'Alnus spaethii',\n",
       " 'Amélanchier alnifolia',\n",
       " 'Amélanchier canadensis',\n",
       " 'Amélanchier laevis',\n",
       " 'Amélanchier lamarckii',\n",
       " 'Amélanchier ovalis',\n",
       " 'Araucaria exelsa',\n",
       " 'Betula alba',\n",
       " 'Betula nigra',\n",
       " 'Betula papyrifera',\n",
       " 'Betula pendula',\n",
       " 'Betula utilis',\n",
       " 'Betula verrucosa',\n",
       " 'Broussonetia papyrifera',\n",
       " 'Buxus sempervirens',\n",
       " 'Calocedrus decurrens',\n",
       " 'Carpinus betulus',\n",
       " 'Carpinus orientalis',\n",
       " 'Castanea sativa',\n",
       " 'Catalpa bignonoides',\n",
       " 'Cedrela sinensis',\n",
       " 'Cedrus atlantica',\n",
       " 'Cedrus deodara',\n",
       " 'Cedrus libani',\n",
       " 'Cedrus sinensis',\n",
       " 'Celtis australis',\n",
       " 'Celtis julianae',\n",
       " 'Celtis occidentalis',\n",
       " 'Celtis sinensis',\n",
       " 'Cephalotaxus harringtonia',\n",
       " 'Cercidiphyllum japonicum',\n",
       " 'Cercidiphyllum magnificum',\n",
       " 'Cercis canadensis',\n",
       " 'Cercis chinensis',\n",
       " 'Cercis siliquastrum',\n",
       " 'Cercis sinensis',\n",
       " 'Chamaecyparis formonensis',\n",
       " 'Chamaecyparis lawsoniana',\n",
       " 'Chamaecyparis nooktensis',\n",
       " 'Chamaecyparis pisifera',\n",
       " 'Chimonanthus praecox',\n",
       " 'Chionanthus retusus',\n",
       " 'Chionanthus virginiacus',\n",
       " 'Chitalpa tashkentensis',\n",
       " 'Cladastris lutea',\n",
       " 'Clerodendron tricotonum',\n",
       " 'Cornus controversa',\n",
       " 'Cornus florida',\n",
       " 'Cornus mas',\n",
       " 'Corylus avellana',\n",
       " 'Corylus colurna',\n",
       " 'Cotinus coggygria',\n",
       " 'Crataegus crus-galli',\n",
       " 'Crataegus laevigata',\n",
       " 'Crataegus lavallei',\n",
       " 'Crataegus monogyna',\n",
       " 'Crataegus oxyacantha',\n",
       " 'Crataegus splendens',\n",
       " 'Cryptomeria japonica',\n",
       " 'Cupressocyparis leylandii',\n",
       " 'Cupressus arizonica',\n",
       " 'Cupressus nooktensis',\n",
       " 'Cupressus sempervirens',\n",
       " 'Cydonia oblonga',\n",
       " 'Cydonia vulgaris',\n",
       " 'Davidia involucrata',\n",
       " 'Diospyros kaki',\n",
       " 'Diospyros lotus',\n",
       " 'Diospyros virginiana',\n",
       " 'Eleagnus angustifolia',\n",
       " 'Eriobotrya  japonica',\n",
       " 'Eucalyptus gunii',\n",
       " 'Fagus sylvatica',\n",
       " 'Ficus carica',\n",
       " 'Fontanesia phillyreoides',\n",
       " 'Fraxinus americana',\n",
       " 'Fraxinus angustifolia',\n",
       " 'Fraxinus excelsior',\n",
       " 'Fraxinus mandshurica',\n",
       " 'Fraxinus mariesii',\n",
       " 'Fraxinus ornus',\n",
       " 'Fraxinus oxycarpa',\n",
       " 'Fraxinus pensylvanica',\n",
       " 'Fraxinus quadrangulata',\n",
       " 'Fraxinus sieboldiana',\n",
       " 'Fraxinus velutina',\n",
       " 'Ginkgo biloba',\n",
       " 'Gleditsia triacanthos',\n",
       " 'Gymnocladus dioicus',\n",
       " 'Halesia carolina',\n",
       " 'Halesia monticola',\n",
       " 'Hovenia dulcis',\n",
       " 'Ilex aquifolium',\n",
       " 'Juglans nigra',\n",
       " 'Juglans regia',\n",
       " 'Juniperus drupacea',\n",
       " 'Juniperus virginiana',\n",
       " 'Koelreuteria paniculata',\n",
       " 'Laburnum anagynoides',\n",
       " 'Laburnum watereri',\n",
       " 'Lagerstroemia indica',\n",
       " 'Larix decidua',\n",
       " 'Libocedrus decurrens',\n",
       " 'Ligustrum japonicum',\n",
       " 'Ligustrum sinense',\n",
       " 'Liquidambar orientalis',\n",
       " 'Liquidambar styraciflua',\n",
       " 'Liquidambar tulipifera',\n",
       " 'Liriodendron tulipifera',\n",
       " 'Lonicera fragmantissima',\n",
       " 'Maclura pomifera',\n",
       " 'Magnolia grandiflora',\n",
       " 'Magnolia heptapeta',\n",
       " 'Magnolia hybride',\n",
       " 'Magnolia kobus',\n",
       " 'Magnolia liliflora',\n",
       " 'Magnolia soulangeana',\n",
       " 'Magnolia stellata',\n",
       " 'Malus baccata',\n",
       " 'Malus coronaria',\n",
       " 'Malus domestica',\n",
       " 'Malus floribunda',\n",
       " 'Malus hupehensis',\n",
       " 'Malus perpetu',\n",
       " 'Malus pumila',\n",
       " 'Malus royalty',\n",
       " 'Malus sieboldii',\n",
       " 'Malus tschonoskii',\n",
       " 'Mespilus germanica',\n",
       " 'Metasequoia glyptostroboides',\n",
       " 'Morus alba',\n",
       " 'Morus bombycis',\n",
       " 'Morus nigra',\n",
       " 'Nyssa sylvatica',\n",
       " 'Olea europaea',\n",
       " 'Ostrya carpinifolia',\n",
       " 'Parrotia persica',\n",
       " 'Paulownia fortunei',\n",
       " 'Paulownia tomentosa',\n",
       " 'Phellodendron amurense',\n",
       " 'Phillyrea latifolia',\n",
       " 'Photinia villosa',\n",
       " 'Picea abies',\n",
       " 'Picea exelsa',\n",
       " 'Picea omorika',\n",
       " 'Picea orientalis',\n",
       " 'Picea pungens',\n",
       " 'Pinus mugo mughus',\n",
       " 'Pinus nigra',\n",
       " 'Pinus pinea',\n",
       " 'Pinus strobus',\n",
       " 'Pinus sylvestris',\n",
       " 'Pinus wallichiana',\n",
       " 'Pistacia chinensis',\n",
       " 'Platanus acerifolia',\n",
       " 'Platanus orientalis',\n",
       " 'Platanus platanor',\n",
       " 'Populus alba',\n",
       " 'Populus italica',\n",
       " 'Populus lasiocarpa',\n",
       " 'Populus nigra',\n",
       " 'Populus robusta',\n",
       " 'Populus simonii',\n",
       " 'Populus tremula',\n",
       " 'Prunus amygdalus',\n",
       " 'Prunus armeniaca',\n",
       " 'Prunus avium',\n",
       " 'Prunus campanulata',\n",
       " 'Prunus cerasifera',\n",
       " 'Prunus cerasus',\n",
       " 'Prunus domestica',\n",
       " 'Prunus dulcis',\n",
       " 'Prunus incisa',\n",
       " 'Prunus laurocerasus',\n",
       " 'Prunus lusitanica',\n",
       " 'Prunus padus',\n",
       " 'Prunus persica',\n",
       " 'Prunus serotina',\n",
       " 'Prunus serrulata',\n",
       " 'Prunus spinosa',\n",
       " 'Prunus subhirtella',\n",
       " 'Prunus tomentosa',\n",
       " 'Prunus yedoensis',\n",
       " 'Ptelea trifoliata',\n",
       " 'Pterocarya fraxinifolia',\n",
       " 'Pterocarya stenoptera',\n",
       " 'Pteroceltis tatarinowii',\n",
       " 'Pterostyrax hispida',\n",
       " 'Punica granatum',\n",
       " 'Pyrus amygdaliformis',\n",
       " 'Pyrus calleryana',\n",
       " 'Pyrus communis',\n",
       " 'Pyrus elaeagnifolia',\n",
       " 'Pyrus nivalis',\n",
       " 'Pyrus salicifolia',\n",
       " 'Quercus acutissima',\n",
       " 'Quercus castaneifolia',\n",
       " 'Quercus cerris',\n",
       " 'Quercus coccinea',\n",
       " 'Quercus falcata',\n",
       " 'Quercus frainetto',\n",
       " 'Quercus fraxinifolia',\n",
       " 'Quercus heterophylla',\n",
       " 'Quercus hispanica',\n",
       " 'Quercus ilex',\n",
       " 'Quercus macrocarpa',\n",
       " 'Quercus myrsinifolia',\n",
       " 'Quercus palustris',\n",
       " 'Quercus petraea',\n",
       " 'Quercus phellos',\n",
       " 'Quercus robur',\n",
       " 'Quercus rubra',\n",
       " 'Quercus salicifolia',\n",
       " 'Quercus suber',\n",
       " 'Quercus variabilis',\n",
       " 'Rhamnus alaternus',\n",
       " 'Rhus thyphina',\n",
       " 'Rhus typhina',\n",
       " 'Robinia altissima',\n",
       " 'Robinia platanoides',\n",
       " 'Robinia pseudoacacia',\n",
       " 'Salix alba',\n",
       " 'Salix babylonica',\n",
       " 'Salix caprea',\n",
       " 'Salix matsudana',\n",
       " 'Salix purpurea',\n",
       " 'Salix rosmarinifolia',\n",
       " 'Salix sepulcralis',\n",
       " 'Salix triandra',\n",
       " 'Salix viminalis',\n",
       " 'Sambucus nigra',\n",
       " 'Sciadopitys verticillata',\n",
       " 'Sequoia sempervirens',\n",
       " 'Sequoiadendron giganteum',\n",
       " 'Sequoiadendron sempervirens',\n",
       " 'Sophora japonica',\n",
       " 'Sorbopyrus auricularis',\n",
       " 'Sorbus aria',\n",
       " 'Sorbus aucuparia',\n",
       " 'Sorbus chamaemespilus',\n",
       " 'Sorbus cuspidata',\n",
       " 'Sorbus domestica',\n",
       " 'Sorbus latifolia',\n",
       " 'Sorbus torminalis',\n",
       " 'Staphylea bumalda',\n",
       " 'Styrax japonica',\n",
       " 'Syringa amurensis',\n",
       " 'Syringa persica',\n",
       " 'Syringa vulgaris',\n",
       " 'Taxodium distychum',\n",
       " 'Taxus baccata',\n",
       " 'Tetradium danielli',\n",
       " 'Thuja occidentalis',\n",
       " 'Thuja plicata',\n",
       " 'Tilia americana',\n",
       " 'Tilia cordata',\n",
       " 'Tilia euchlora',\n",
       " 'Tilia europaea',\n",
       " 'Tilia henryana',\n",
       " 'Tilia mongolica',\n",
       " 'Tilia platyphyllos',\n",
       " 'Tilia tomentosa',\n",
       " 'Trachycarpus fortunei',\n",
       " 'Ulmus campestre',\n",
       " 'Ulmus carpinifolia',\n",
       " 'Ulmus glabra',\n",
       " 'Ulmus minor',\n",
       " 'Ulmus parvifolia',\n",
       " 'Ulmus pumila',\n",
       " 'Ulmus resista',\n",
       " 'Zelkova crenata',\n",
       " 'Zelkova serrata'}"
      ]
     },
     "execution_count": 15,
     "metadata": {},
     "output_type": "execute_result"
    }
   ],
   "source": [
    "\n",
    "liste_especes = pd.Series(zip(trees_df.GENRE_BOTA, trees_df.ESPECE)).unique()\n",
    "liste_especes = filter(lambda x: np.nan not in x, liste_especes)\n",
    "liste_especes = set(map(lambda x: ' '.join(x), liste_especes))\n",
    "\n",
    "liste_especes"
   ]
  },
  {
   "cell_type": "code",
   "execution_count": 16,
   "metadata": {},
   "outputs": [
    {
     "data": {
      "text/plain": [
       "GENRE_BOTA  ESPECE      \n",
       "Abies       concolor          5\n",
       "            koreana           1\n",
       "            nordmaniana      20\n",
       "            pinsapo           2\n",
       "Acer        buergerianum     20\n",
       "                           ... \n",
       "Ulmus       parvifolia        1\n",
       "            pumila            1\n",
       "            resista          24\n",
       "Zelkova     crenata           2\n",
       "            serrata         231\n",
       "Length: 312, dtype: int64"
      ]
     },
     "execution_count": 16,
     "metadata": {},
     "output_type": "execute_result"
    }
   ],
   "source": [
    "trees_df.groupby(['GENRE_BOTA', 'ESPECE']).size()"
   ]
  },
  {
   "cell_type": "markdown",
   "metadata": {},
   "source": [
    "## Visualisation des données"
   ]
  },
  {
   "cell_type": "markdown",
   "metadata": {},
   "source": [
    "###  Nombre d'arbres plantés année par année"
   ]
  },
  {
   "cell_type": "code",
   "execution_count": 17,
   "metadata": {
    "scrolled": false
   },
   "outputs": [
    {
     "data": {
      "text/plain": [
       "Text(0, 0.5, \"Nombre d'arbres plantés\")"
      ]
     },
     "execution_count": 17,
     "metadata": {},
     "output_type": "execute_result"
    },
    {
     "data": {
      "image/png": "[encoded data removed]",
      "text/plain": [
       "<Figure size 1080x576 with 1 Axes>"
      ]
     },
     "metadata": {
      "needs_background": "light"
     },
     "output_type": "display_data"
    }
   ],
   "source": [
    "trees_per_year = trees_df.groupby('ANNEEDEPLANTATION').size()\n",
    "trees_per_year.index = trees_per_year.index.astype(int)\n",
    "\n",
    "ax = trees_per_year.plot(kind='bar')\n",
    "ax.set_ylabel(\"Nombre d'arbres plantés\")"
   ]
  },
  {
   "cell_type": "markdown",
   "metadata": {},
   "source": [
    "Le maire le + vert => Hubert Dubedout (1975)\n"
   ]
  },
  {
   "cell_type": "markdown",
   "metadata": {},
   "source": [
    "### Quelle répartition des arbres aujourd'hui ? "
   ]
  },
  {
   "cell_type": "code",
   "execution_count": 18,
   "metadata": {},
   "outputs": [
    {
     "data": {
      "text/plain": [
       "GENRE_BOTA\n",
       "Acer           5276\n",
       "Platanus       4663\n",
       "Pinus          2118\n",
       "Tilia          1770\n",
       "Fraxinus       1506\n",
       "               ... \n",
       "Sterculia         1\n",
       "Sciadopitys       1\n",
       "Rhamnus           1\n",
       "Eucalyptus        1\n",
       "Castanea          1\n",
       "Length: 112, dtype: int64"
      ]
     },
     "execution_count": 18,
     "metadata": {},
     "output_type": "execute_result"
    }
   ],
   "source": [
    "repartition_series = trees_df.groupby('GENRE_BOTA').size().sort_values(ascending=False)\n",
    "\n",
    "repartition_series"
   ]
  },
  {
   "cell_type": "markdown",
   "metadata": {},
   "source": [
    "Deux genres botaniques représentent 32% du total"
   ]
  },
  {
   "cell_type": "code",
   "execution_count": 19,
   "metadata": {},
   "outputs": [
    {
     "data": {
      "image/png": "[encoded data removed]",
      "text/plain": [
       "<Figure size 1080x576 with 1 Axes>"
      ]
     },
     "metadata": {},
     "output_type": "display_data"
    }
   ],
   "source": [
    "labels = list(repartition_series.index[0:2])\n",
    "labels.append('Autres')\n",
    "\n",
    "vals = list(repartition_series[0:2])\n",
    "vals.append(np.sum(repartition_series[2:]))\n",
    "\n",
    "fig1, ax1 = plt.subplots()\n",
    "ax1.pie(vals, labels=labels, autopct='%1.0f%%',  textprops={'fontsize': 20})\n",
    "plt.show()"
   ]
  },
  {
   "cell_type": "markdown",
   "metadata": {},
   "source": [
    "###  Quelle évolution dans la diversité des arbres plantés ? "
   ]
  },
  {
   "cell_type": "code",
   "execution_count": 20,
   "metadata": {
    "scrolled": false
   },
   "outputs": [
    {
     "data": {
      "text/html": [
       "<div>\n",
       "<style scoped>\n",
       "    .dataframe tbody tr th:only-of-type {\n",
       "        vertical-align: middle;\n",
       "    }\n",
       "\n",
       "    .dataframe tbody tr th {\n",
       "        vertical-align: top;\n",
       "    }\n",
       "\n",
       "    .dataframe thead th {\n",
       "        text-align: right;\n",
       "    }\n",
       "</style>\n",
       "<table border=\"1\" class=\"dataframe\">\n",
       "  <thead>\n",
       "    <tr style=\"text-align: right;\">\n",
       "      <th>GENRE_BOTA</th>\n",
       "      <th>Acer</th>\n",
       "      <th>Platanus</th>\n",
       "      <th>Pinus</th>\n",
       "    </tr>\n",
       "    <tr>\n",
       "      <th>ANNEEDEPLANTATION</th>\n",
       "      <th></th>\n",
       "      <th></th>\n",
       "      <th></th>\n",
       "    </tr>\n",
       "  </thead>\n",
       "  <tbody>\n",
       "    <tr>\n",
       "      <td>1950</td>\n",
       "      <td>0</td>\n",
       "      <td>381</td>\n",
       "      <td>0</td>\n",
       "    </tr>\n",
       "    <tr>\n",
       "      <td>1955</td>\n",
       "      <td>0</td>\n",
       "      <td>45</td>\n",
       "      <td>0</td>\n",
       "    </tr>\n",
       "    <tr>\n",
       "      <td>1960</td>\n",
       "      <td>69</td>\n",
       "      <td>155</td>\n",
       "      <td>64</td>\n",
       "    </tr>\n",
       "    <tr>\n",
       "      <td>1961</td>\n",
       "      <td>0</td>\n",
       "      <td>0</td>\n",
       "      <td>0</td>\n",
       "    </tr>\n",
       "    <tr>\n",
       "      <td>1964</td>\n",
       "      <td>0</td>\n",
       "      <td>7</td>\n",
       "      <td>0</td>\n",
       "    </tr>\n",
       "  </tbody>\n",
       "</table>\n",
       "</div>"
      ],
      "text/plain": [
       "GENRE_BOTA         Acer  Platanus  Pinus\n",
       "ANNEEDEPLANTATION                       \n",
       "1950                  0       381      0\n",
       "1955                  0        45      0\n",
       "1960                 69       155     64\n",
       "1961                  0         0      0\n",
       "1964                  0         7      0"
      ]
     },
     "execution_count": 20,
     "metadata": {},
     "output_type": "execute_result"
    }
   ],
   "source": [
    "liste_genre_dominants = list(trees_df.groupby(\n",
    "    'GENRE_BOTA').size().sort_values(ascending=False)[0:3].index)\n",
    "\n",
    "nombre_arbres_dominants_plantes = trees_df.groupby(['ANNEEDEPLANTATION', 'GENRE_BOTA']).size(\n",
    ").unstack().fillna(0).loc[:, liste_genre_dominants].astype(int)\n",
    "\n",
    "nombre_arbres_dominants_plantes.index = nombre_arbres_dominants_plantes.index.astype(\n",
    "    int)\n",
    "\n",
    "nombre_arbres_dominants_plantes.head(5)"
   ]
  },
  {
   "cell_type": "markdown",
   "metadata": {},
   "source": [
    "Ici on regarde les pourcentages représentés par les 3 espèces les plus plantés par rapport au total\n",
    "\n",
    "=> au début, beaucoup les mêmes espèces, et on a commencé à diversifier de plus en plus. "
   ]
  },
  {
   "cell_type": "code",
   "execution_count": 21,
   "metadata": {},
   "outputs": [
    {
     "data": {
      "text/plain": [
       "<matplotlib.axes._subplots.AxesSubplot at 0x7f29f0da0e90>"
      ]
     },
     "execution_count": 21,
     "metadata": {},
     "output_type": "execute_result"
    },
    {
     "data": {
      "image/png": "[encoded data removed]",
      "text/plain": [
       "<Figure size 1080x576 with 1 Axes>"
      ]
     },
     "metadata": {
      "needs_background": "light"
     },
     "output_type": "display_data"
    }
   ],
   "source": [
    "percentage_dominants_vs_total_arbres_plantes = nombre_arbres_dominants_plantes.div(\n",
    "    trees_df.groupby('ANNEEDEPLANTATION').size(), axis=0) * 100\n",
    "\n",
    "percentage_dominants_vs_total_arbres_plantes.loc[:, liste_genre_dominants].plot(\n",
    "    kind='bar', width=0.9, stacked=True)\n"
   ]
  },
  {
   "cell_type": "code",
   "execution_count": 79,
   "metadata": {},
   "outputs": [
    {
     "data": {
      "text/plain": [
       "<matplotlib.axes._subplots.AxesSubplot at 0x7f29f5471910>"
      ]
     },
     "execution_count": 79,
     "metadata": {},
     "output_type": "execute_result"
    },
    {
     "data": {
      "image/png": "[encoded data removed]",
      "text/plain": [
       "<Figure size 1080x576 with 1 Axes>"
      ]
     },
     "metadata": {
      "needs_background": "light"
     },
     "output_type": "display_data"
    }
   ],
   "source": [
    "bins = list(range(1950, 2021, 5))\n",
    "cats = pd.cut(trees_df.ANNEEDEPLANTATION.dropna(), bins)\n",
    "\n",
    "vals = pd.value_counts(cats)\n",
    "vals.sort_index().plot(kind='bar', width=0.85)\n"
   ]
  }
 ],
 "metadata": {
  "celltoolbar": "Raw Cell Format",
  "kernelspec": {
   "display_name": "arbres",
   "language": "python",
   "name": "arbres"
  },
  "language_info": {
   "codemirror_mode": {
    "name": "ipython",
    "version": 3
   },
   "file_extension": ".py",
   "mimetype": "text/x-python",
   "name": "python",
   "nbconvert_exporter": "python",
   "pygments_lexer": "ipython3",
   "version": "3.7.5"
  },
  "toc": {
   "base_numbering": 1,
   "nav_menu": {},
   "number_sections": true,
   "sideBar": true,
   "skip_h1_title": true,
   "title_cell": "Table of Contents",
   "title_sidebar": "Contents",
   "toc_cell": false,
   "toc_position": {
    "height": "47.7167px",
    "left": "1207px",
    "top": "111.133px",
    "width": "225.333px"
   },
   "toc_section_display": true,
   "toc_window_display": true
  },
  "varInspector": {
   "cols": {
    "lenName": 16,
    "lenType": 16,
    "lenVar": 40
   },
   "kernels_config": {
    "python": {
     "delete_cmd_postfix": "",
     "delete_cmd_prefix": "del ",
     "library": "var_list.py",
     "varRefreshCmd": "print(var_dic_list())"
    },
    "r": {
     "delete_cmd_postfix": ") ",
     "delete_cmd_prefix": "rm(",
     "library": "var_list.r",
     "varRefreshCmd": "cat(var_dic_list()) "
    }
   },
   "oldHeight": 407.01666600000004,
   "position": {
    "height": "40px",
    "left": "377px",
    "right": "20px",
    "top": "85px",
    "width": "800px"
   },
   "types_to_exclude": [
    "module",
    "function",
    "builtin_function_or_method",
    "instance",
    "_Feature"
   ],
   "varInspector_section_display": "none",
   "window_display": false
  }
 },
 "nbformat": 4,
 "nbformat_minor": 2
}
